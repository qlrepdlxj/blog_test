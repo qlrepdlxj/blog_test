{
 "cells": [
  {
   "cell_type": "code",
   "execution_count": 4,
   "metadata": {},
   "outputs": [],
   "source": [
    "import twitterscraper"
   ]
  },
  {
   "cell_type": "code",
   "execution_count": null,
   "metadata": {},
   "outputs": [],
   "source": [
    "import codecs, json\n",
    "import pandas as pd\n",
    "\n",
    "with codecs.open('twitter/tmp_twitter/korea_tweets.json', 'r', 'utf-8') as f:\n",
    "    tweets = json.load(f, encoding='utf-8')\n",
    "\n",
    "list_tweets = [list(elem.values()) for elem in tweets]\n",
    "list_columns = list(tweets[0].keys())\n",
    "df = pd.DataFrame(list_tweets, columns=list_columns)\n",
    "df"
   ]
  },
  {
   "cell_type": "code",
   "execution_count": 15,
   "metadata": {},
   "outputs": [
    {
     "name": "stderr",
     "output_type": "stream",
     "text": [
      "INFO: queries: ['korea since:2006-03-21 until:2006-11-09', 'korea since:2006-11-09 until:2007-06-30', 'korea since:2007-06-30 until:2008-02-19', 'korea since:2008-02-19 until:2008-10-09', 'korea since:2008-10-09 until:2009-05-31', 'korea since:2009-05-31 until:2010-01-19', 'korea since:2010-01-19 until:2010-09-09', 'korea since:2010-09-09 until:2011-05-01', 'korea since:2011-05-01 until:2011-12-20', 'korea since:2011-12-20 until:2012-08-10', 'korea since:2012-08-10 until:2013-03-31', 'korea since:2013-03-31 until:2013-11-19', 'korea since:2013-11-19 until:2014-07-11', 'korea since:2014-07-11 until:2015-03-01', 'korea since:2015-03-01 until:2015-10-21', 'korea since:2015-10-21 until:2016-06-10', 'korea since:2016-06-10 until:2017-01-29', 'korea since:2017-01-29 until:2017-09-20', 'korea since:2017-09-20 until:2018-05-11', 'korea since:2018-05-11 until:2018-12-31']\n",
      "INFO: Querying korea since:2006-11-09 until:2007-06-30\n",
      "INFO: Querying korea since:2006-03-21 until:2006-11-09\n",
      "INFO: Querying korea since:2007-06-30 until:2008-02-19\n",
      "INFO: Querying korea since:2009-05-31 until:2010-01-19\n",
      "INFO: Querying korea since:2011-05-01 until:2011-12-20\n",
      "INFO: Querying korea since:2008-02-19 until:2008-10-09\n",
      "INFO: Querying korea since:2014-07-11 until:2015-03-01\n",
      "INFO: Querying korea since:2011-12-20 until:2012-08-10\n",
      "INFO: Querying korea since:2015-03-01 until:2015-10-21\n",
      "INFO: Querying korea since:2012-08-10 until:2013-03-31\n",
      "INFO: Querying korea since:2013-11-19 until:2014-07-11\n",
      "INFO: Querying korea since:2018-05-11 until:2018-12-31\n",
      "INFO: Querying korea since:2013-03-31 until:2013-11-19\n",
      "INFO: Querying korea since:2016-06-10 until:2017-01-29\n",
      "INFO: Querying korea since:2017-01-29 until:2017-09-20\n",
      "INFO: Querying korea since:2017-09-20 until:2018-05-11\n",
      "INFO: Querying korea since:2008-10-09 until:2009-05-31\n",
      "INFO: Querying korea since:2010-01-19 until:2010-09-09\n",
      "INFO: Querying korea since:2010-09-09 until:2011-05-01\n",
      "INFO: Querying korea since:2015-10-21 until:2016-06-10\n",
      "INFO: Got 20 tweets for korea%20since%3A2007-06-30%20until%3A2008-02-19.\n",
      "INFO: Got 20 tweets (20 new).\n",
      "INFO: Got 7 tweets for korea%20since%3A2006-03-21%20until%3A2006-11-09.\n",
      "INFO: Got 27 tweets (7 new).\n",
      "INFO: Got 20 tweets for korea%20since%3A2010-09-09%20until%3A2011-05-01.\n",
      "INFO: Got 47 tweets (20 new).\n",
      "INFO: Got 20 tweets for korea%20since%3A2006-11-09%20until%3A2007-06-30.\n",
      "INFO: Got 67 tweets (20 new).\n",
      "INFO: Got 20 tweets for korea%20since%3A2010-01-19%20until%3A2010-09-09.\n",
      "INFO: Got 87 tweets (20 new).\n",
      "INFO: Got 20 tweets for korea%20since%3A2008-02-19%20until%3A2008-10-09.\n",
      "INFO: Got 107 tweets (20 new).\n",
      "INFO: Got 20 tweets for korea%20since%3A2011-12-20%20until%3A2012-08-10.\n",
      "INFO: Got 20 tweets for korea%20since%3A2015-10-21%20until%3A2016-06-10.\n",
      "INFO: Got 127 tweets (20 new).\n",
      "INFO: Got 147 tweets (20 new).\n",
      "INFO: Got 20 tweets for korea%20since%3A2008-10-09%20until%3A2009-05-31.\n",
      "INFO: Got 167 tweets (20 new).\n",
      "INFO: Got 20 tweets for korea%20since%3A2015-03-01%20until%3A2015-10-21.\n",
      "INFO: Got 20 tweets for korea%20since%3A2009-05-31%20until%3A2010-01-19.\n",
      "INFO: Got 187 tweets (20 new).\n",
      "INFO: Got 20 tweets for korea%20since%3A2017-01-29%20until%3A2017-09-20.\n",
      "INFO: Got 207 tweets (20 new).\n",
      "INFO: Got 20 tweets for korea%20since%3A2013-03-31%20until%3A2013-11-19.\n",
      "INFO: Got 227 tweets (20 new).\n",
      "INFO: Got 20 tweets for korea%20since%3A2017-09-20%20until%3A2018-05-11.\n",
      "INFO: Got 20 tweets for korea%20since%3A2013-11-19%20until%3A2014-07-11.\n",
      "INFO: Got 20 tweets for korea%20since%3A2018-05-11%20until%3A2018-12-31.\n",
      "INFO: Got 247 tweets (20 new).\n",
      "INFO: Got 267 tweets (20 new).\n",
      "INFO: Got 287 tweets (20 new).\n",
      "INFO: Got 307 tweets (20 new).\n",
      "INFO: Got 20 tweets for korea%20since%3A2014-07-11%20until%3A2015-03-01.\n",
      "INFO: Got 327 tweets (20 new).\n",
      "INFO: Got 20 tweets for korea%20since%3A2016-06-10%20until%3A2017-01-29.\n",
      "INFO: Got 347 tweets (20 new).\n",
      "INFO: Got 20 tweets for korea%20since%3A2011-05-01%20until%3A2011-12-20.\n",
      "INFO: Got 20 tweets for korea%20since%3A2012-08-10%20until%3A2013-03-31.\n",
      "INFO: Got 367 tweets (20 new).\n",
      "INFO: Got 387 tweets (20 new).\n"
     ]
    }
   ],
   "source": [
    "from twitterscraper import query_tweets\n",
    "\n",
    "if __name__ == '__main__':\n",
    "#     list_of_tweets = query_tweets(\"Trump OR Clinton\", 10)\n",
    "\n",
    "#     #print the retrieved tweets to the screen:\n",
    "#     for tweet in query_tweets(\"Trump OR Clinton\", 10):\n",
    "#         print(tweet)\n",
    "\n",
    "    #Or save the retrieved tweets to file:\n",
    "#     file = open('output.txt','w')\n",
    "#     for tweet in query_tweets(\"Trump OR Clinton\", 10):\n",
    "#         file.write(tweet.encode('utf-8'))\n",
    "#     file.close()\n",
    "    data=query_tweets(\"korea\", 10)\n",
    "    with open('data.json', encoding='utf-8',mode='w') as outfile:\n",
    "        json.dump(str(data), outfile)"
   ]
  },
  {
   "cell_type": "code",
   "execution_count": null,
   "metadata": {},
   "outputs": [],
   "source": []
  }
 ],
 "metadata": {
  "kernelspec": {
   "display_name": "Python 3",
   "language": "python",
   "name": "python3"
  },
  "language_info": {
   "codemirror_mode": {
    "name": "ipython",
    "version": 3
   },
   "file_extension": ".py",
   "mimetype": "text/x-python",
   "name": "python",
   "nbconvert_exporter": "python",
   "pygments_lexer": "ipython3",
   "version": "3.6.7"
  }
 },
 "nbformat": 4,
 "nbformat_minor": 2
}

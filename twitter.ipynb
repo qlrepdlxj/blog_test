{
 "cells": [
  {
   "cell_type": "code",
   "execution_count": 4,
   "metadata": {},
   "outputs": [],
   "source": [
    "import twitterscraper"
   ]
  },
  {
   "cell_type": "code",
   "execution_count": null,
   "metadata": {},
   "outputs": [],
   "source": [
    "import codecs, json\n",
    "import pandas as pd\n",
    "\n",
    "with codecs.open('twitter/tmp_twitter/korea_tweets.json', 'r', 'utf-8') as f:\n",
    "    tweets = json.load(f, encoding='utf-8')\n",
    "\n",
    "list_tweets = [list(elem.values()) for elem in tweets]\n",
    "list_columns = list(tweets[0].keys())\n",
    "df = pd.DataFrame(list_tweets, columns=list_columns)\n",
    "df"
   ]
  },
  {
   "cell_type": "code",
   "execution_count": 24,
   "metadata": {},
   "outputs": [
    {
     "name": "stderr",
     "output_type": "stream",
     "text": [
      "INFO: queries: ['손흥민 since:2006-03-21 until:2006-11-09', '손흥민 since:2006-11-09 until:2007-06-30', '손흥민 since:2007-06-30 until:2008-02-19', '손흥민 since:2008-02-19 until:2008-10-09', '손흥민 since:2008-10-09 until:2009-05-31', '손흥민 since:2009-05-31 until:2010-01-19', '손흥민 since:2010-01-19 until:2010-09-09', '손흥민 since:2010-09-09 until:2011-05-01', '손흥민 since:2011-05-01 until:2011-12-20', '손흥민 since:2011-12-20 until:2012-08-10', '손흥민 since:2012-08-10 until:2013-03-31', '손흥민 since:2013-03-31 until:2013-11-19', '손흥민 since:2013-11-19 until:2014-07-11', '손흥민 since:2014-07-11 until:2015-03-01', '손흥민 since:2015-03-01 until:2015-10-21', '손흥민 since:2015-10-21 until:2016-06-10', '손흥민 since:2016-06-10 until:2017-01-29', '손흥민 since:2017-01-29 until:2017-09-20', '손흥민 since:2017-09-20 until:2018-05-11', '손흥민 since:2018-05-11 until:2018-12-31']\n",
      "INFO: Querying 손흥민 since:2006-11-09 until:2007-06-30\n",
      "INFO: Querying 손흥민 since:2006-03-21 until:2006-11-09\n",
      "INFO: Querying 손흥민 since:2010-09-09 until:2011-05-01\n",
      "INFO: Querying 손흥민 since:2011-12-20 until:2012-08-10\n",
      "INFO: Querying 손흥민 since:2011-05-01 until:2011-12-20\n",
      "INFO: Querying 손흥민 since:2013-03-31 until:2013-11-19\n",
      "INFO: Querying 손흥민 since:2009-05-31 until:2010-01-19\n",
      "INFO: Querying 손흥민 since:2012-08-10 until:2013-03-31\n",
      "INFO: Querying 손흥민 since:2015-03-01 until:2015-10-21\n",
      "INFO: Querying 손흥민 since:2010-01-19 until:2010-09-09\n",
      "INFO: Querying 손흥민 since:2013-11-19 until:2014-07-11\n",
      "INFO: Querying 손흥민 since:2007-06-30 until:2008-02-19\n",
      "INFO: Querying 손흥민 since:2008-10-09 until:2009-05-31\n",
      "INFO: Querying 손흥민 since:2014-07-11 until:2015-03-01\n",
      "INFO: Querying 손흥민 since:2016-06-10 until:2017-01-29\n",
      "INFO: Querying 손흥민 since:2017-01-29 until:2017-09-20\n",
      "INFO: Querying 손흥민 since:2018-05-11 until:2018-12-31\n",
      "INFO: Querying 손흥민 since:2008-02-19 until:2008-10-09\n",
      "INFO: Querying 손흥민 since:2015-10-21 until:2016-06-10\n",
      "INFO: Querying 손흥민 since:2017-09-20 until:2018-05-11\n",
      "INFO: Got 0 tweets for 손흥민%20since%3A2013-11-19%20until%3A2014-07-11.\n",
      "INFO: Got 0 tweets (0 new).\n",
      "INFO: Got 0 tweets for 손흥민%20since%3A2014-07-11%20until%3A2015-03-01.\n",
      "INFO: Got 0 tweets for 손흥민%20since%3A2011-05-01%20until%3A2011-12-20.\n",
      "INFO: Got 0 tweets (0 new).\n",
      "INFO: Got 0 tweets (0 new).\n",
      "INFO: Got 0 tweets for 손흥민%20since%3A2010-01-19%20until%3A2010-09-09.\n",
      "INFO: Got 0 tweets (0 new).\n",
      "INFO: Got 0 tweets for 손흥민%20since%3A2017-09-20%20until%3A2018-05-11.\n",
      "INFO: Got 0 tweets (0 new).\n",
      "INFO: Got 0 tweets for 손흥민%20since%3A2016-06-10%20until%3A2017-01-29.\n",
      "INFO: Got 0 tweets (0 new).\n",
      "INFO: Got 0 tweets for 손흥민%20since%3A2010-09-09%20until%3A2011-05-01.\n",
      "INFO: Got 0 tweets (0 new).\n",
      "INFO: Got 0 tweets for 손흥민%20since%3A2013-03-31%20until%3A2013-11-19.\n",
      "INFO: Got 0 tweets (0 new).\n",
      "INFO: Got 0 tweets for 손흥민%20since%3A2007-06-30%20until%3A2008-02-19.\n",
      "INFO: Got 0 tweets (0 new).\n",
      "INFO: Got 0 tweets for 손흥민%20since%3A2008-10-09%20until%3A2009-05-31.\n",
      "INFO: Got 0 tweets (0 new).\n",
      "INFO: Got 0 tweets for 손흥민%20since%3A2017-01-29%20until%3A2017-09-20.\n",
      "INFO: Got 0 tweets (0 new).\n",
      "INFO: Got 0 tweets for 손흥민%20since%3A2008-02-19%20until%3A2008-10-09.\n",
      "INFO: Got 0 tweets (0 new).\n",
      "INFO: Got 0 tweets for 손흥민%20since%3A2012-08-10%20until%3A2013-03-31.\n",
      "INFO: Got 0 tweets for 손흥민%20since%3A2011-12-20%20until%3A2012-08-10.\n",
      "INFO: Got 0 tweets (0 new).\n",
      "INFO: Got 0 tweets (0 new).\n",
      "INFO: Got 0 tweets for 손흥민%20since%3A2009-05-31%20until%3A2010-01-19.\n",
      "INFO: Got 0 tweets for 손흥민%20since%3A2015-10-21%20until%3A2016-06-10.\n",
      "INFO: Got 0 tweets (0 new).\n",
      "INFO: Got 0 tweets (0 new).\n",
      "INFO: Got 0 tweets for 손흥민%20since%3A2015-03-01%20until%3A2015-10-21.\n",
      "INFO: Got 0 tweets (0 new).\n",
      "INFO: Got 0 tweets for 손흥민%20since%3A2006-11-09%20until%3A2007-06-30.\n",
      "INFO: Got 0 tweets for 손흥민%20since%3A2006-03-21%20until%3A2006-11-09.\n",
      "INFO: Got 0 tweets (0 new).\n",
      "INFO: Got 0 tweets (0 new).\n",
      "INFO: Got 20 tweets for 손흥민%20since%3A2018-05-11%20until%3A2018-12-31.\n",
      "INFO: Got 20 tweets (20 new).\n"
     ]
    },
    {
     "ename": "TypeError",
     "evalue": "write() argument must be str, not Tweet",
     "output_type": "error",
     "traceback": [
      "\u001b[0;31m---------------------------------------------------------------------------\u001b[0m",
      "\u001b[0;31mTypeError\u001b[0m                                 Traceback (most recent call last)",
      "\u001b[0;32m<ipython-input-24-f1d46a679171>\u001b[0m in \u001b[0;36m<module>\u001b[0;34m\u001b[0m\n\u001b[1;32m     11\u001b[0m     \u001b[0mfile\u001b[0m \u001b[0;34m=\u001b[0m \u001b[0mopen\u001b[0m\u001b[0;34m(\u001b[0m\u001b[0;34m'output.txt'\u001b[0m\u001b[0;34m,\u001b[0m\u001b[0;34m'w'\u001b[0m\u001b[0;34m)\u001b[0m\u001b[0;34m\u001b[0m\u001b[0;34m\u001b[0m\u001b[0m\n\u001b[1;32m     12\u001b[0m     \u001b[0;32mfor\u001b[0m \u001b[0mtweet\u001b[0m \u001b[0;32min\u001b[0m \u001b[0mquery_tweets\u001b[0m\u001b[0;34m(\u001b[0m\u001b[0;34m\"손흥민\"\u001b[0m\u001b[0;34m,\u001b[0m \u001b[0;36m10\u001b[0m\u001b[0;34m)\u001b[0m\u001b[0;34m:\u001b[0m\u001b[0;34m\u001b[0m\u001b[0;34m\u001b[0m\u001b[0m\n\u001b[0;32m---> 13\u001b[0;31m         \u001b[0mfile\u001b[0m\u001b[0;34m.\u001b[0m\u001b[0mwrite\u001b[0m\u001b[0;34m(\u001b[0m\u001b[0mtweet\u001b[0m\u001b[0;34m)\u001b[0m\u001b[0;34m\u001b[0m\u001b[0;34m\u001b[0m\u001b[0m\n\u001b[0m\u001b[1;32m     14\u001b[0m     \u001b[0mfile\u001b[0m\u001b[0;34m.\u001b[0m\u001b[0mclose\u001b[0m\u001b[0;34m(\u001b[0m\u001b[0;34m)\u001b[0m\u001b[0;34m\u001b[0m\u001b[0;34m\u001b[0m\u001b[0m\n\u001b[1;32m     15\u001b[0m \u001b[0;31m#     data=query_tweets(\"손흥민\", 10)\u001b[0m\u001b[0;34m\u001b[0m\u001b[0;34m\u001b[0m\u001b[0;34m\u001b[0m\u001b[0m\n",
      "\u001b[0;31mTypeError\u001b[0m: write() argument must be str, not Tweet"
     ]
    }
   ],
   "source": [
    "from twitterscraper import query_tweets\n",
    "\n",
    "if __name__ == '__main__':\n",
    "#     list_of_tweets = query_tweets(\"손흥민\", 10)\n",
    "\n",
    "#     #print the retrieved tweets to the screen:\n",
    "#     for tweet in query_tweets(\"Trump OR Clinton\", 10):\n",
    "#         print(tweet)\n",
    "\n",
    "# #     Or save the retrieved tweets to file:\n",
    "    file = open('output.txt','w')\n",
    "    for tweet in query_tweets(\"손흥민\", 10):\n",
    "        file.write(tweet)\n",
    "    file.close()\n",
    "#     data=query_tweets(\"손흥민\", 10)\n",
    "#     with open('data.json', encoding='utf-8',mode='w') as outfile:\n",
    "#         json.dump(str(data), outfile)"
   ]
  },
  {
   "cell_type": "code",
   "execution_count": 27,
   "metadata": {},
   "outputs": [
    {
     "ename": "AttributeError",
     "evalue": "'str' object has no attribute 'values'",
     "output_type": "error",
     "traceback": [
      "\u001b[0;31m---------------------------------------------------------------------------\u001b[0m",
      "\u001b[0;31mAttributeError\u001b[0m                            Traceback (most recent call last)",
      "\u001b[0;32m<ipython-input-27-4eba08c7ae69>\u001b[0m in \u001b[0;36m<module>\u001b[0;34m\u001b[0m\n\u001b[1;32m      5\u001b[0m     \u001b[0mtweets\u001b[0m \u001b[0;34m=\u001b[0m \u001b[0mjson\u001b[0m\u001b[0;34m.\u001b[0m\u001b[0mload\u001b[0m\u001b[0;34m(\u001b[0m\u001b[0mf\u001b[0m\u001b[0;34m,\u001b[0m \u001b[0mencoding\u001b[0m\u001b[0;34m=\u001b[0m\u001b[0;34m'utf-8'\u001b[0m\u001b[0;34m)\u001b[0m\u001b[0;34m\u001b[0m\u001b[0;34m\u001b[0m\u001b[0m\n\u001b[1;32m      6\u001b[0m \u001b[0;34m\u001b[0m\u001b[0m\n\u001b[0;32m----> 7\u001b[0;31m \u001b[0mlist_tweets\u001b[0m \u001b[0;34m=\u001b[0m \u001b[0;34m[\u001b[0m\u001b[0mlist\u001b[0m\u001b[0;34m(\u001b[0m\u001b[0melem\u001b[0m\u001b[0;34m.\u001b[0m\u001b[0mvalues\u001b[0m\u001b[0;34m(\u001b[0m\u001b[0;34m)\u001b[0m\u001b[0;34m)\u001b[0m \u001b[0;32mfor\u001b[0m \u001b[0melem\u001b[0m \u001b[0;32min\u001b[0m \u001b[0mtweets\u001b[0m\u001b[0;34m]\u001b[0m\u001b[0;34m\u001b[0m\u001b[0;34m\u001b[0m\u001b[0m\n\u001b[0m\u001b[1;32m      8\u001b[0m \u001b[0mlist_columns\u001b[0m \u001b[0;34m=\u001b[0m \u001b[0mlist\u001b[0m\u001b[0;34m(\u001b[0m\u001b[0mtweets\u001b[0m\u001b[0;34m[\u001b[0m\u001b[0;36m0\u001b[0m\u001b[0;34m]\u001b[0m\u001b[0;34m.\u001b[0m\u001b[0mkeys\u001b[0m\u001b[0;34m(\u001b[0m\u001b[0;34m)\u001b[0m\u001b[0;34m)\u001b[0m\u001b[0;34m\u001b[0m\u001b[0;34m\u001b[0m\u001b[0m\n\u001b[1;32m      9\u001b[0m \u001b[0mdf\u001b[0m \u001b[0;34m=\u001b[0m \u001b[0mpd\u001b[0m\u001b[0;34m.\u001b[0m\u001b[0mDataFrame\u001b[0m\u001b[0;34m(\u001b[0m\u001b[0mlist_tweets\u001b[0m\u001b[0;34m,\u001b[0m \u001b[0mcolumns\u001b[0m\u001b[0;34m=\u001b[0m\u001b[0mlist_columns\u001b[0m\u001b[0;34m)\u001b[0m\u001b[0;34m\u001b[0m\u001b[0;34m\u001b[0m\u001b[0m\n",
      "\u001b[0;32m<ipython-input-27-4eba08c7ae69>\u001b[0m in \u001b[0;36m<listcomp>\u001b[0;34m(.0)\u001b[0m\n\u001b[1;32m      5\u001b[0m     \u001b[0mtweets\u001b[0m \u001b[0;34m=\u001b[0m \u001b[0mjson\u001b[0m\u001b[0;34m.\u001b[0m\u001b[0mload\u001b[0m\u001b[0;34m(\u001b[0m\u001b[0mf\u001b[0m\u001b[0;34m,\u001b[0m \u001b[0mencoding\u001b[0m\u001b[0;34m=\u001b[0m\u001b[0;34m'utf-8'\u001b[0m\u001b[0;34m)\u001b[0m\u001b[0;34m\u001b[0m\u001b[0;34m\u001b[0m\u001b[0m\n\u001b[1;32m      6\u001b[0m \u001b[0;34m\u001b[0m\u001b[0m\n\u001b[0;32m----> 7\u001b[0;31m \u001b[0mlist_tweets\u001b[0m \u001b[0;34m=\u001b[0m \u001b[0;34m[\u001b[0m\u001b[0mlist\u001b[0m\u001b[0;34m(\u001b[0m\u001b[0melem\u001b[0m\u001b[0;34m.\u001b[0m\u001b[0mvalues\u001b[0m\u001b[0;34m(\u001b[0m\u001b[0;34m)\u001b[0m\u001b[0;34m)\u001b[0m \u001b[0;32mfor\u001b[0m \u001b[0melem\u001b[0m \u001b[0;32min\u001b[0m \u001b[0mtweets\u001b[0m\u001b[0;34m]\u001b[0m\u001b[0;34m\u001b[0m\u001b[0;34m\u001b[0m\u001b[0m\n\u001b[0m\u001b[1;32m      8\u001b[0m \u001b[0mlist_columns\u001b[0m \u001b[0;34m=\u001b[0m \u001b[0mlist\u001b[0m\u001b[0;34m(\u001b[0m\u001b[0mtweets\u001b[0m\u001b[0;34m[\u001b[0m\u001b[0;36m0\u001b[0m\u001b[0;34m]\u001b[0m\u001b[0;34m.\u001b[0m\u001b[0mkeys\u001b[0m\u001b[0;34m(\u001b[0m\u001b[0;34m)\u001b[0m\u001b[0;34m)\u001b[0m\u001b[0;34m\u001b[0m\u001b[0;34m\u001b[0m\u001b[0m\n\u001b[1;32m      9\u001b[0m \u001b[0mdf\u001b[0m \u001b[0;34m=\u001b[0m \u001b[0mpd\u001b[0m\u001b[0;34m.\u001b[0m\u001b[0mDataFrame\u001b[0m\u001b[0;34m(\u001b[0m\u001b[0mlist_tweets\u001b[0m\u001b[0;34m,\u001b[0m \u001b[0mcolumns\u001b[0m\u001b[0;34m=\u001b[0m\u001b[0mlist_columns\u001b[0m\u001b[0;34m)\u001b[0m\u001b[0;34m\u001b[0m\u001b[0;34m\u001b[0m\u001b[0m\n",
      "\u001b[0;31mAttributeError\u001b[0m: 'str' object has no attribute 'values'"
     ]
    }
   ],
   "source": [
    "import codecs, json\n",
    "import pandas as pd\n",
    "\n",
    "with codecs.open('data.json', 'r', 'utf-8') as f:\n",
    "    tweets = json.load(f, encoding='utf-8')\n",
    "\n",
    "list_tweets = [list(elem.values()) for elem in tweets]\n",
    "list_columns = list(tweets[0].keys())\n",
    "df = pd.DataFrame(list_tweets, columns=list_columns)"
   ]
  },
  {
   "cell_type": "code",
   "execution_count": null,
   "metadata": {},
   "outputs": [],
   "source": []
  }
 ],
 "metadata": {
  "kernelspec": {
   "display_name": "Python 3",
   "language": "python",
   "name": "python3"
  },
  "language_info": {
   "codemirror_mode": {
    "name": "ipython",
    "version": 3
   },
   "file_extension": ".py",
   "mimetype": "text/x-python",
   "name": "python",
   "nbconvert_exporter": "python",
   "pygments_lexer": "ipython3",
   "version": "3.6.7"
  }
 },
 "nbformat": 4,
 "nbformat_minor": 2
}

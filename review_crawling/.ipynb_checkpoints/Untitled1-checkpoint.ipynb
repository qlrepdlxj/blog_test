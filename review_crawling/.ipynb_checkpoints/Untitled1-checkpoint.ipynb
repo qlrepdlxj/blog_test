{
 "cells": [
  {
   "cell_type": "code",
   "execution_count": 4,
   "metadata": {},
   "outputs": [],
   "source": [
    "import re\n",
    "from bs4 import BeautifulSoup\n",
    "from urllib.request import urlopen"
   ]
  },
  {
   "cell_type": "code",
   "execution_count": 13,
   "metadata": {},
   "outputs": [],
   "source": [
    "def getCode(URL):\n",
    "    code_st = re.search('code=[0-9]+',URL).group()\n",
    "    code = re.search('code=[0-9]+',code_st).group()\n",
    "    return(code)\n",
    "\n",
    "def getReviewResult(CODE):\n",
    "    f = open('review_'+CODE+'.txt','w')\n",
    "    page=int(1)\n",
    "    count=int(input('page number: '))\n",
    "    while count:\n",
    "        url1 = 'http://movie.naver.com/movie/bi/mi/pointWriteFormList.nhn?code='\n",
    "        url2 = '&type=after&isActualPointWriteExecute=false&isMileageSubscriptionAlready=false&isMileageSubscriptionReject=false&page='\n",
    "        URL = url1+CODE+url2+str(page)\n",
    "        open_ = urlopen(URL)\n",
    "        html = open_.read().decode('utf-8')\n",
    "        soup = BeautifulSoup(html,'lxml')\n",
    "        score_result = soup.find('div',class_='score_result')\n",
    "        lis = score_result.find_all('li')\n",
    "        \n",
    "        for li in lis:\n",
    "            page=int(page)\n",
    "            reple=li.find('div',class_='score_reple').find('p').get_text()\n",
    "            score = li.find('div',class_='star_score').find('em').get_text()\n",
    "            children = li.find('dt')\n",
    "            child = children.findChildren()\n",
    "            time = str(child[3])\n",
    "            time_s=time[4:17]\n",
    "            print(reple)\n",
    "            print(score)\n",
    "            print(time_s)\n",
    "\n",
    "            f.write('작성시간: '+time_s.encode('utf-8')+'\\t')\n",
    "            f.write('영화평점: '+score.encode('utf-8')+'\\n')\n",
    "            f.write('리뷰내용: '+reple.encode('utf-8')+'\\t')\n",
    "        count -= 1\n",
    "        if not count:\n",
    "            break\n",
    "\n",
    "        page += 1\n",
    "    f.close()"
   ]
  },
  {
   "cell_type": "code",
   "execution_count": 15,
   "metadata": {},
   "outputs": [
    {
     "name": "stdin",
     "output_type": "stream",
     "text": [
      "page number:  10\n"
     ]
    },
    {
     "ename": "NameError",
     "evalue": "name 'url1' is not defined",
     "output_type": "error",
     "traceback": [
      "\u001b[0;31m---------------------------------------------------------------------------\u001b[0m",
      "\u001b[0;31mNameError\u001b[0m                                 Traceback (most recent call last)",
      "\u001b[0;32m<ipython-input-15-b207e7040b2c>\u001b[0m in \u001b[0;36m<module>\u001b[0;34m\u001b[0m\n\u001b[0;32m----> 1\u001b[0;31m \u001b[0mgetReviewResult\u001b[0m\u001b[0;34m(\u001b[0m\u001b[0;34m'150198'\u001b[0m\u001b[0;34m)\u001b[0m\u001b[0;34m\u001b[0m\u001b[0;34m\u001b[0m\u001b[0m\n\u001b[0m",
      "\u001b[0;32m<ipython-input-13-8706563f25d6>\u001b[0m in \u001b[0;36mgetReviewResult\u001b[0;34m(CODE)\u001b[0m\n\u001b[1;32m      9\u001b[0m     \u001b[0mcount\u001b[0m\u001b[0;34m=\u001b[0m\u001b[0mint\u001b[0m\u001b[0;34m(\u001b[0m\u001b[0minput\u001b[0m\u001b[0;34m(\u001b[0m\u001b[0;34m'page number: '\u001b[0m\u001b[0;34m)\u001b[0m\u001b[0;34m)\u001b[0m\u001b[0;34m\u001b[0m\u001b[0;34m\u001b[0m\u001b[0m\n\u001b[1;32m     10\u001b[0m     \u001b[0;32mwhile\u001b[0m \u001b[0mcount\u001b[0m\u001b[0;34m:\u001b[0m\u001b[0;34m\u001b[0m\u001b[0;34m\u001b[0m\u001b[0m\n\u001b[0;32m---> 11\u001b[0;31m         \u001b[0mURL\u001b[0m \u001b[0;34m=\u001b[0m \u001b[0murl1\u001b[0m\u001b[0;34m+\u001b[0m\u001b[0mCODE\u001b[0m\u001b[0;34m+\u001b[0m\u001b[0murl2\u001b[0m\u001b[0;34m+\u001b[0m\u001b[0mstr\u001b[0m\u001b[0;34m(\u001b[0m\u001b[0mpage\u001b[0m\u001b[0;34m)\u001b[0m\u001b[0;34m\u001b[0m\u001b[0;34m\u001b[0m\u001b[0m\n\u001b[0m\u001b[1;32m     12\u001b[0m         \u001b[0mopen_\u001b[0m \u001b[0;34m=\u001b[0m \u001b[0murlopen\u001b[0m\u001b[0;34m(\u001b[0m\u001b[0mURL\u001b[0m\u001b[0;34m)\u001b[0m\u001b[0;34m\u001b[0m\u001b[0;34m\u001b[0m\u001b[0m\n\u001b[1;32m     13\u001b[0m         \u001b[0mhtml\u001b[0m \u001b[0;34m=\u001b[0m \u001b[0mopen_\u001b[0m\u001b[0;34m.\u001b[0m\u001b[0mread\u001b[0m\u001b[0;34m(\u001b[0m\u001b[0;34m)\u001b[0m\u001b[0;34m.\u001b[0m\u001b[0mdecode\u001b[0m\u001b[0;34m(\u001b[0m\u001b[0;34m'utf-8'\u001b[0m\u001b[0;34m)\u001b[0m\u001b[0;34m\u001b[0m\u001b[0;34m\u001b[0m\u001b[0m\n",
      "\u001b[0;31mNameError\u001b[0m: name 'url1' is not defined"
     ]
    }
   ],
   "source": [
    "getReviewResult('150198')"
   ]
  },
  {
   "cell_type": "code",
   "execution_count": null,
   "metadata": {},
   "outputs": [],
   "source": []
  }
 ],
 "metadata": {
  "kernelspec": {
   "display_name": "Python 3",
   "language": "python",
   "name": "python3"
  },
  "language_info": {
   "codemirror_mode": {
    "name": "ipython",
    "version": 3
   },
   "file_extension": ".py",
   "mimetype": "text/x-python",
   "name": "python",
   "nbconvert_exporter": "python",
   "pygments_lexer": "ipython3",
   "version": "3.6.7"
  }
 },
 "nbformat": 4,
 "nbformat_minor": 2
}

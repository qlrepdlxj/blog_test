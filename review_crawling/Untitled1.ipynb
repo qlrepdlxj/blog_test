{
 "cells": [
  {
   "cell_type": "code",
   "execution_count": 4,
   "metadata": {},
   "outputs": [],
   "source": [
    "import re\n",
    "from bs4 import BeautifulSoup\n",
    "from urllib.request import urlopen"
   ]
  },
  {
   "cell_type": "code",
   "execution_count": 16,
   "metadata": {},
   "outputs": [],
   "source": [
    "def getCode(URL):\n",
    "    code_st = re.search('code=[0-9]+',URL).group()\n",
    "    code = re.search('code=[0-9]+',code_st).group()\n",
    "    return(code)\n",
    "\n",
    "def getReviewResult(CODE):\n",
    "    f = open('review_'+CODE+'.txt','w')\n",
    "    page=int(1)\n",
    "    count=int(input('page number: '))\n",
    "    while count:\n",
    "        url1 = 'http://movie.naver.com/movie/bi/mi/pointWriteFormList.nhn?code='\n",
    "        url2 = '&type=after&isActualPointWriteExecute=false&isMileageSubscriptionAlready=false&isMileageSubscriptionReject=false&page='\n",
    "        URL = url1+CODE+url2+str(page)\n",
    "        open_ = urlopen(URL)\n",
    "        html = open_.read().decode('utf-8')\n",
    "        soup = BeautifulSoup(html,'lxml')\n",
    "        score_result = soup.find('div',class_='score_result')\n",
    "        lis = score_result.find_all('li')\n",
    "        \n",
    "        for li in lis:\n",
    "            page=int(page)\n",
    "            reple=li.find('div',class_='score_reple').find('p').get_text()\n",
    "            score = li.find('div',class_='star_score').find('em').get_text()\n",
    "            children = li.find('dt')\n",
    "            child = children.findChildren()\n",
    "            time = str(child[3])\n",
    "            time_s=time[4:17]\n",
    "            print(reple)\n",
    "            print(score)\n",
    "            print(time_s)\n",
    "\n",
    "            f.write('작성시간: '+time_s.encode('utf-8')+'\\t')\n",
    "            f.write('영화평점: '+score.encode('utf-8')+'\\n')\n",
    "            f.write('리뷰내용: '+reple.encode('utf-8')+'\\t')\n",
    "        count -= 1\n",
    "        if not count:\n",
    "            break\n",
    "\n",
    "        page += 1\n",
    "    f.close()"
   ]
  },
  {
   "cell_type": "code",
   "execution_count": 17,
   "metadata": {},
   "outputs": [
    {
     "name": "stdin",
     "output_type": "stream",
     "text": [
      "page number:  1\n"
     ]
    },
    {
     "name": "stdout",
     "output_type": "stream",
     "text": [
      "타키. 미츠하. 왜 날짜를 볼때 연도를 안보니  \n",
      "9\n",
      "2017.01.04 10\n"
     ]
    },
    {
     "ename": "TypeError",
     "evalue": "must be str, not bytes",
     "output_type": "error",
     "traceback": [
      "\u001b[0;31m---------------------------------------------------------------------------\u001b[0m",
      "\u001b[0;31mTypeError\u001b[0m                                 Traceback (most recent call last)",
      "\u001b[0;32m<ipython-input-17-b207e7040b2c>\u001b[0m in \u001b[0;36m<module>\u001b[0;34m\u001b[0m\n\u001b[0;32m----> 1\u001b[0;31m \u001b[0mgetReviewResult\u001b[0m\u001b[0;34m(\u001b[0m\u001b[0;34m'150198'\u001b[0m\u001b[0;34m)\u001b[0m\u001b[0;34m\u001b[0m\u001b[0;34m\u001b[0m\u001b[0m\n\u001b[0m",
      "\u001b[0;32m<ipython-input-16-af37ab7baebf>\u001b[0m in \u001b[0;36mgetReviewResult\u001b[0;34m(CODE)\u001b[0m\n\u001b[1;32m     30\u001b[0m             \u001b[0mprint\u001b[0m\u001b[0;34m(\u001b[0m\u001b[0mtime_s\u001b[0m\u001b[0;34m)\u001b[0m\u001b[0;34m\u001b[0m\u001b[0;34m\u001b[0m\u001b[0m\n\u001b[1;32m     31\u001b[0m \u001b[0;34m\u001b[0m\u001b[0m\n\u001b[0;32m---> 32\u001b[0;31m             \u001b[0mf\u001b[0m\u001b[0;34m.\u001b[0m\u001b[0mwrite\u001b[0m\u001b[0;34m(\u001b[0m\u001b[0;34m'작성시간: '\u001b[0m\u001b[0;34m+\u001b[0m\u001b[0mtime_s\u001b[0m\u001b[0;34m.\u001b[0m\u001b[0mencode\u001b[0m\u001b[0;34m(\u001b[0m\u001b[0;34m'utf-8'\u001b[0m\u001b[0;34m)\u001b[0m\u001b[0;34m+\u001b[0m\u001b[0;34m'\\t'\u001b[0m\u001b[0;34m)\u001b[0m\u001b[0;34m\u001b[0m\u001b[0;34m\u001b[0m\u001b[0m\n\u001b[0m\u001b[1;32m     33\u001b[0m             \u001b[0mf\u001b[0m\u001b[0;34m.\u001b[0m\u001b[0mwrite\u001b[0m\u001b[0;34m(\u001b[0m\u001b[0;34m'영화평점: '\u001b[0m\u001b[0;34m+\u001b[0m\u001b[0mscore\u001b[0m\u001b[0;34m.\u001b[0m\u001b[0mencode\u001b[0m\u001b[0;34m(\u001b[0m\u001b[0;34m'utf-8'\u001b[0m\u001b[0;34m)\u001b[0m\u001b[0;34m+\u001b[0m\u001b[0;34m'\\n'\u001b[0m\u001b[0;34m)\u001b[0m\u001b[0;34m\u001b[0m\u001b[0;34m\u001b[0m\u001b[0m\n\u001b[1;32m     34\u001b[0m             \u001b[0mf\u001b[0m\u001b[0;34m.\u001b[0m\u001b[0mwrite\u001b[0m\u001b[0;34m(\u001b[0m\u001b[0;34m'리뷰내용: '\u001b[0m\u001b[0;34m+\u001b[0m\u001b[0mreple\u001b[0m\u001b[0;34m.\u001b[0m\u001b[0mencode\u001b[0m\u001b[0;34m(\u001b[0m\u001b[0;34m'utf-8'\u001b[0m\u001b[0;34m)\u001b[0m\u001b[0;34m+\u001b[0m\u001b[0;34m'\\t'\u001b[0m\u001b[0;34m)\u001b[0m\u001b[0;34m\u001b[0m\u001b[0;34m\u001b[0m\u001b[0m\n",
      "\u001b[0;31mTypeError\u001b[0m: must be str, not bytes"
     ]
    }
   ],
   "source": [
    "getReviewResult('150198')"
   ]
  },
  {
   "cell_type": "code",
   "execution_count": null,
   "metadata": {},
   "outputs": [],
   "source": []
  }
 ],
 "metadata": {
  "kernelspec": {
   "display_name": "Python 3",
   "language": "python",
   "name": "python3"
  },
  "language_info": {
   "codemirror_mode": {
    "name": "ipython",
    "version": 3
   },
   "file_extension": ".py",
   "mimetype": "text/x-python",
   "name": "python",
   "nbconvert_exporter": "python",
   "pygments_lexer": "ipython3",
   "version": "3.6.7"
  }
 },
 "nbformat": 4,
 "nbformat_minor": 2
}

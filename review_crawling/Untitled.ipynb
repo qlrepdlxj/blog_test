{
 "cells": [
  {
   "cell_type": "markdown",
   "metadata": {},
   "source": [
    "http://blog.naver.com/PostView.nhn?blogId=josing616&logNo=220744929196\n",
    "\n",
    "https://m.blog.naver.com/PostView.nhn?blogId=21ahn&logNo=221319540023&proxyReferer=&proxyReferer=https%3A%2F%2Fwww.google.com%2F\n",
    "\n",
    "https://bab2min.tistory.com/556"
   ]
  },
  {
   "cell_type": "code",
   "execution_count": 1,
   "metadata": {},
   "outputs": [],
   "source": [
    "import urllib\n",
    "import urllib.request\n",
    "import urllib.parse\n",
    "import bs4\n",
    "import re\n",
    "import os\n",
    "import time\n",
    "from concurrent.futures import ThreadPoolExecutor\n",
    " \n",
    "def deleteTag(x):\n",
    "    return re.sub(\"<[^>]*>\", \"\", x)\n",
    " \n",
    "def getComments(code):\n",
    "    def makeArgs(code, page):\n",
    "        params = {\n",
    "            'code': code,\n",
    "            'type': 'after',\n",
    "            'isActualPointWriteExecute': 'false',\n",
    "            'isMileageSubscriptionAlready': 'false',\n",
    "            'isMileageSubscriptionReject': 'false',\n",
    "            'page': page\n",
    "        }\n",
    "        return urllib.parse.urlencode(params)\n",
    " \n",
    "    def innerHTML(s, sl=0):\n",
    "        ret = ''\n",
    "        for i in s.contents[sl:]:\n",
    "            if i is str:\n",
    "                ret += i.strip()\n",
    "            else:\n",
    "                ret += str(i)\n",
    "        return ret\n",
    " \n",
    "    def fText(s):\n",
    "        if len(s): return innerHTML(s[0]).strip()\n",
    "        return ''\n",
    " \n",
    "    retList = []\n",
    "    colSet = set()\n",
    "    print(\"Processing: %d\" % code)\n",
    "    page = 1\n",
    "    while 1:\n",
    "        try:\n",
    "            f = urllib.request.urlopen(\n",
    "                \"http://movie.naver.com/movie/bi/mi/pointWriteFormList.nhn?\" + makeArgs(code, page))\n",
    "            data = f.read().decode('utf-8')\n",
    "        except:\n",
    "            break\n",
    "        soup = bs4.BeautifulSoup(re.sub(\"&#(?![0-9])\", \"\", data), \"html.parser\")\n",
    "        cs = soup.select(\".score_result li\")\n",
    "        if not len(cs): break\n",
    "        for link in cs:\n",
    "            try:\n",
    "                url = link.select('.score_reple em a')[0].get('onclick')\n",
    "            except:\n",
    "                print(page)\n",
    "                print(data)\n",
    "                raise \"\"\n",
    "            m = re.search('[0-9]+', url)\n",
    "            if m:\n",
    "                url = m.group(0)\n",
    "            else:\n",
    "                url = ''\n",
    "            if url in colSet: return retList\n",
    "            colSet.add(url)\n",
    "            cat = fText(link.select('.star_score em'))\n",
    "            cont = fText(link.select('.score_reple p'))\n",
    "            cont = re.sub('<span [^>]+>.+?</span>', '', cont)\n",
    "            retList.append((url, cat, cont))\n",
    "        page += 1\n",
    " \n",
    "    return retList\n",
    "\n",
    "def fetch(i):\n",
    "    outname = 'comments/%d.txt' % i\n",
    "    try:\n",
    "        if os.stat(outname).st_size > 0: return\n",
    "    except:\n",
    "        None\n",
    "    rs = getComments(i)\n",
    "    if not len(rs): return\n",
    "    f = open(outname, 'w', encoding='utf-8')\n",
    "    f.write('INSERT IGNORE INTO movie VALUES ')\n",
    "    for idx, r in enumerate(rs):\n",
    "        if idx: f.write(',\\n')\n",
    "        f.write(\"(%d,%s,%s,'%s')\" % (i, r[0], r[1], r[2].replace(\"'\", \"''\").replace(\"\\\\\", \"\\\\\\\\\")))\n",
    "    f.write(';\\n')\n",
    "    f.close()\n",
    "    time.sleep(1)\n",
    " \n",
    " \n",
    "# with ThreadPoolExecutor(max_workers=5) as executor:\n",
    "# # 영화 고유 ID값의 범위를 몰라서 대략 아래처럼 잡았습니다.\n",
    "#     for i in range(140000, 140010):\n",
    "#         executor.submit(fetch, i)"
   ]
  },
  {
   "cell_type": "code",
   "execution_count": null,
   "metadata": {},
   "outputs": [],
   "source": []
  },
  {
   "cell_type": "code",
   "execution_count": 2,
   "metadata": {},
   "outputs": [
    {
     "name": "stdout",
     "output_type": "stream",
     "text": [
      "Processing: 157493\n"
     ]
    }
   ],
   "source": [
    "with ThreadPoolExecutor(max_workers=4) as executor:\n",
    "# 영화 고유 ID값의 범위를 몰라서 대략 아래처럼 잡았습니다.\n",
    "#     for i in range(140000, 140010):\n",
    "    executor.submit(fetch, 157493)"
   ]
  },
  {
   "cell_type": "code",
   "execution_count": null,
   "metadata": {},
   "outputs": [],
   "source": []
  }
 ],
 "metadata": {
  "kernelspec": {
   "display_name": "Python 3",
   "language": "python",
   "name": "python3"
  },
  "language_info": {
   "codemirror_mode": {
    "name": "ipython",
    "version": 3
   },
   "file_extension": ".py",
   "mimetype": "text/x-python",
   "name": "python",
   "nbconvert_exporter": "python",
   "pygments_lexer": "ipython3",
   "version": "3.6.7"
  }
 },
 "nbformat": 4,
 "nbformat_minor": 2
}

{
 "cells": [
  {
   "cell_type": "code",
   "execution_count": 1,
   "metadata": {},
   "outputs": [],
   "source": [
    "#-*- coding: utf-8 -*-\n",
    "import json\n",
    "import csv\n",
    "\n",
    "dates = {'01':'32','02':'29','03':'32','04':'31','05':'32','06':'31','07':'32','08':'32','09':'31','10':'32','11':'31','12':'32'}\n",
    "lists = ['rnum','rank','rankInten','rankOldAndNew','movieCd','rnum','movieNm','openDt','salesAmt','salesShare','salesInten',\\\n",
    "    'salesChange','salesAcc','audiCnt','audiInten','audiChange','audiAcc','scrnCnt','showCnt']\n",
    "lists2 = ['date','rnum','rank','rankInten','rankOldAndNew','movieCd','rnum','movieNm','openDt','salesAmt','salesShare','salesInten',\\\n",
    "    'salesChange','salesAcc','audiCnt','audiInten','audiChange','audiAcc','scrnCnt','showCnt']\n",
    "\n",
    "for date in dates:\n",
    "    targetDt='2017'+date+'01'\n",
    "    j = open('2017'+date+'.csv', 'w', encoding='utf-8')\n",
    "    csv_file = csv.writer(j)\n",
    "    csv_file.writerow(lists2)\n",
    "\n",
    "    for i in range(1,int(dates[date])):\n",
    "        with open('data/2017/'+date+'/daily_box_office/'+targetDt+'.json', 'r', encoding=\"utf-8\") as data_file:\n",
    "            data = json.load(data_file)\n",
    "        #data = json.loads(f)\n",
    "        tmp = []\n",
    "        tmp2=[]\n",
    "        for i in range(0,10):\n",
    "            tmp.append(int(targetDt))\n",
    "            for list in lists:                \n",
    "                tmp.append(data['boxOfficeResult']['dailyBoxOfficeList'][i][list])\n",
    "            tmp2.insert(i,tmp)\n",
    "            tmp=[]\n",
    "        for i in range(0,10):\n",
    "            csv_file.writerow(tmp2[i])\n",
    "        tmp_dt = int(targetDt) + 1\n",
    "        targetDt = str(tmp_dt)\n",
    "\n",
    "j.close()"
   ]
  },
  {
   "cell_type": "code",
   "execution_count": null,
   "metadata": {},
   "outputs": [],
   "source": []
  }
 ],
 "metadata": {
  "kernelspec": {
   "display_name": "Python 3",
   "language": "python",
   "name": "python3"
  },
  "language_info": {
   "codemirror_mode": {
    "name": "ipython",
    "version": 3
   },
   "file_extension": ".py",
   "mimetype": "text/x-python",
   "name": "python",
   "nbconvert_exporter": "python",
   "pygments_lexer": "ipython3",
   "version": "3.6.7"
  }
 },
 "nbformat": 4,
 "nbformat_minor": 2
}

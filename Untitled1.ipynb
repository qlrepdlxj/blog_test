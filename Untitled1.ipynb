{
 "cells": [
  {
   "cell_type": "markdown",
   "metadata": {},
   "source": [
    "[네이버 영화리뷰 크롤링](http://blog.naver.com/PostView.nhn?blogId=josing616&logNo=220744929196)"
   ]
  },
  {
   "cell_type": "code",
   "execution_count": null,
   "metadata": {},
   "outputs": [],
   "source": [
    "import re\n",
    "from bs4 import BeautifulSoup\n",
    "from urllib.request import urlopen"
   ]
  },
  {
   "cell_type": "code",
   "execution_count": null,
   "metadata": {},
   "outputs": [],
   "source": [
    "def getCode(URL):\n",
    "    code_st=re.search('code=[0-9]+',URL).group()\n",
    "    code = re.search('[0-9]+',code_st).group()\n",
    "    return(code)"
   ]
  },
  {
   "cell_type": "code",
   "execution_count": null,
   "metadata": {},
   "outputs": [],
   "source": [
    "def getReviewResult(CODE):\n",
    "    f=open('review_'+CODE+'.txt','w')\n",
    "    page = int(1)\n",
    "#     count = int(input('Page Number: '))\n",
    "    count = 10\n",
    "    while count:\n",
    "        url1='https://movie.naver.com/movie/bi/mi/basic.nhn?code='\n",
    "        url2 = '&type=after&isActualPointWriteExecute=false&isMileageSubscriptionAlready=false&isMileageSubscriptionReject=false&page='\n",
    "        URL = url1+CODE+url2+str(page)\n",
    "        open_=urlopen(URL)\n",
    "        html=open_.read().decode('utf-8')\n",
    "        soup=BeautifulSoup(html,'lxml')\n",
    "        \n",
    "        score_result=soup.find('div',class_='score_result')\n",
    "        lis=score_result.find_all('li')\n",
    "        \n",
    "        for li in lis:\n",
    "            page=int(page)\n",
    "            reple=li.find('div',class_='score_reple').find('p').get_text()\n",
    "            score=li.find('div',class_='star_score').find('p').get_text()\n",
    "            children=li.find('dt')\n",
    "            child=children.findChildren()\n",
    "            \n",
    "            time=str(child[3])\n",
    "            time_s=time[4:17]\n",
    "            \n",
    "            print(reple)\n",
    "            print(score)\n",
    "            print(time_s)\n",
    "            \n",
    "            f.write('작성시간: '+time_s.encoding('utf-8')+'\\t')\n",
    "            f.write('영화평점: '+score.encoding('utf-8')+'\\n')\n",
    "            f.write('리뷰내용: '+reple.encoding('utf-8')+'\\t')\n",
    "            \n",
    "        count -= 1\n",
    "        \n",
    "        if not count:\n",
    "            break\n",
    "        \n",
    "        page += 1\n",
    "    f.close()"
   ]
  },
  {
   "cell_type": "code",
   "execution_count": null,
   "metadata": {},
   "outputs": [],
   "source": [
    "url='https://movie.naver.com/movie/bi/mi/basic.nhn?code=74866'\n",
    "code = getCode(url)\n",
    "code\n",
    "getReviewResult('74866')"
   ]
  },
  {
   "cell_type": "code",
   "execution_count": null,
   "metadata": {},
   "outputs": [],
   "source": [
    "import requests\n",
    "from bs4 import BeautifulSoup"
   ]
  },
  {
   "cell_type": "code",
   "execution_count": null,
   "metadata": {},
   "outputs": [],
   "source": [
    "test_url = \"https://movie.naver.com/movie/bi/mi/pointWriteFormList.nhn?code=171921&type=after&page=1\"\n",
    "resp = requests.get(test_url)\n",
    "html = BeautifulSoup(resp.content, 'html.parser')\n",
    "html"
   ]
  },
  {
   "cell_type": "code",
   "execution_count": null,
   "metadata": {},
   "outputs": [],
   "source": [
    "score_result = html.find('div', {'class': 'score_result'})\n",
    "lis = score_result.findAll('li')\n",
    "lis[0]\n",
    "score_result"
   ]
  },
  {
   "cell_type": "code",
   "execution_count": null,
   "metadata": {},
   "outputs": [],
   "source": [
    "review_text = lis[0].find('p').getText()\n",
    "review_text"
   ]
  },
  {
   "cell_type": "code",
   "execution_count": null,
   "metadata": {},
   "outputs": [],
   "source": [
    "score = lis[0].find('em').getText()\n",
    "score"
   ]
  },
  {
   "cell_type": "code",
   "execution_count": null,
   "metadata": {},
   "outputs": [],
   "source": [
    "like = lis[0].find('div', {'class': 'btn_area'}).findAll('span')[1].getText()\n",
    "dislike = lis[0].find('div', {'class': 'btn_area'}).findAll('span')[3].getText()\n",
    "like, dislike"
   ]
  },
  {
   "cell_type": "code",
   "execution_count": null,
   "metadata": {},
   "outputs": [],
   "source": [
    "nickname = lis[0].findAll('a')[0].find('span').getText()\n",
    "nickname"
   ]
  },
  {
   "cell_type": "code",
   "execution_count": null,
   "metadata": {},
   "outputs": [],
   "source": [
    "from datetime import datetime\n",
    "created_at = datetime.strptime(li.find('dt').findAll('em')[-1].getText(), \"%Y.%m.%d %H:%M\")\n",
    "created_at"
   ]
  },
  {
   "cell_type": "code",
   "execution_count": null,
   "metadata": {},
   "outputs": [],
   "source": [
    "import requests\n",
    "from bs4 import BeautifulSoup\n",
    "import json\n",
    "def get_data(url):\n",
    "    data=[]\n",
    "    resp = requests.get(url)\n",
    "    html = BeautifulSoup(resp.content, 'html.parser')\n",
    "    score_result = html.find('div', {'class': 'score_result'})\n",
    "    lis = score_result.findAll('li')\n",
    "\n",
    "    f = open('sample_movie_review.json', 'a')\n",
    "    for li in lis:        \n",
    "        nickname = li.findAll('a')[0].find('span').getText()\n",
    "#         created_at = datetime.strptime(li.find('dt').findAll('em')[-1].getText(), \"%Y.%m.%d %H:%M\")\n",
    "\n",
    "        review_text = li.find('p').getText()\n",
    "        score = li.find('em').getText()\n",
    "        btn_likes = li.find('div', {'class': 'btn_area'}).findAll('span')\n",
    "        like = btn_likes[1].getText()\n",
    "        dislike = btn_likes[3].getText()\n",
    "\n",
    "        watch_movie = li.find('span', {'class':'ico_viewer'})\n",
    "\n",
    "        # 간단하게 프린트만 했습니다.\n",
    "#         print(nickname, review_text, score, like, dislike, watch_movie and True or False)\n",
    "        d = {\n",
    "            'review_text':review_text,\n",
    "            'score':score,\n",
    "            'like':like,\n",
    "            'dislike':dislike,\n",
    "#             'date':str(created_at),\n",
    "            'watch':watch_movie and True or False\n",
    "        }\n",
    "        data.append(d)\n",
    "    return data\n",
    "#     result = html.find('div', {'class':'score_total'}).find('strong').findChildren('em')[1].getText()\n",
    "#     int(result.replace(',', ''))"
   ]
  },
  {
   "cell_type": "code",
   "execution_count": null,
   "metadata": {},
   "outputs": [],
   "source": [
    "result = html.find('div', {'class':'score_total'}).find('strong').findChildren('em')[1].getText()\n",
    "int(result.replace(',', ''))"
   ]
  },
  {
   "cell_type": "code",
   "execution_count": null,
   "metadata": {},
   "outputs": [],
   "source": [
    "test_url = 'https://movie.naver.com/movie/bi/mi/pointWriteFormList.nhn?code=171921&type=after'\n",
    "resp = requests.get(test_url)\n",
    "html = BeautifulSoup(resp.content, 'html.parser')\n",
    "result = html.find('div', {'class':'score_total'}).find('strong').findChildren('em')[1].getText()\n",
    "total_count = int(result.replace(',', ''))\n",
    "r_data = []\n",
    "for i in range(1, int(total_count / 10) + 1):\n",
    "    url = test_url + '&page=' + str(i)\n",
    "    print('url: \"' + url + '\" is parsing....')\n",
    "    data = get_data(url)\n",
    "    r_data.append(data)"
   ]
  },
  {
   "cell_type": "code",
   "execution_count": null,
   "metadata": {},
   "outputs": [],
   "source": [
    "print(r_data)"
   ]
  },
  {
   "cell_type": "code",
   "execution_count": null,
   "metadata": {},
   "outputs": [],
   "source": [
    "type(r_data[0][0]['review_text'])"
   ]
  },
  {
   "cell_type": "code",
   "execution_count": null,
   "metadata": {},
   "outputs": [],
   "source": [
    "len(r_data)"
   ]
  },
  {
   "cell_type": "code",
   "execution_count": null,
   "metadata": {},
   "outputs": [],
   "source": [
    "from bs4 import BeautifulSoup\n",
    "from urllib.request import urlopen\n",
    "url = \"https://movie.naver.com/movie/sdb/rank/rmovie.nhn?sel=cnt&date=20170101\"\n",
    "page = urlopen(url)\n",
    "soup = BeautifulSoup(page, \"html.parser\")\n",
    "soup"
   ]
  },
  {
   "cell_type": "code",
   "execution_count": 15,
   "metadata": {},
   "outputs": [],
   "source": [
    "b = soup.find_all('div','tit3')"
   ]
  },
  {
   "cell_type": "code",
   "execution_count": 26,
   "metadata": {},
   "outputs": [
    {
     "data": {
      "text/plain": [
       "'마스터'"
      ]
     },
     "execution_count": 26,
     "metadata": {},
     "output_type": "execute_result"
    }
   ],
   "source": [
    "b[0].find('a').text"
   ]
  },
  {
   "cell_type": "code",
   "execution_count": 29,
   "metadata": {},
   "outputs": [],
   "source": [
    "title_n = soup.find_all('div', 'tit3')\n",
    "# b = soup.find_all('div', 'tit3')[n]\n",
    "# 전체 영화의 제목 뽑아옴\n",
    "movie_name = [b[n].find('a').text for n in range(0, len(title_n))]\n",
    "\n",
    "# 전체 순위의 평점 뽑아옴\n",
    "movie_point = [b[n].find('a')['href'][28:] for n in range(0, len(title_n))]"
   ]
  },
  {
   "cell_type": "code",
   "execution_count": 30,
   "metadata": {},
   "outputs": [
    {
     "data": {
      "text/plain": [
       "{'마스터': '145162',\n",
       " '로그 원: 스타워즈 스토리': '136868',\n",
       " '라라랜드': '134963',\n",
       " '씽': '144938',\n",
       " '판도라': '132933',\n",
       " '당신, 거기 있어줄래요': '145292',\n",
       " '너의 이름은.': '150198',\n",
       " '미씽: 사라진 여자': '142625',\n",
       " '패신저스': '116233',\n",
       " '여교사': '139673',\n",
       " '형': '142803',\n",
       " '에곤 쉴레: 욕망이 그린 그림': '154307',\n",
       " '루돌프와 많이있어': '153951',\n",
       " '포켓몬 더 무비 XY&Z 「볼케니온 : 기계왕국의 비밀」': '152265',\n",
       " '사랑하기 때문에': '140010',\n",
       " '목숨 건 연애': '142263',\n",
       " '신비한 동물사전': '115642',\n",
       " '캡틴 판타스틱': '127396',\n",
       " '더 킹': '144314',\n",
       " '매드맥스: 분노의 도로': '77768',\n",
       " '나, 다니엘 블레이크': '150376',\n",
       " '어카운턴트': '134859',\n",
       " '극장판 도라에몽:신 진구의 버스 오브 재팬': '141675',\n",
       " '최후의 Z': '102805',\n",
       " '그 시절, 우리가 좋아했던 소녀': '88669',\n",
       " '하이큐!! 승자와 패자': '155963',\n",
       " '사다코 대 카야코': '149283',\n",
       " '무현, 두 도시 이야기': '152183',\n",
       " '내 남편의 가정교사': '158788',\n",
       " '잭 리처: 네버 고 백': '119412',\n",
       " '어쌔신 크리드': '118307',\n",
       " '업 포 러브': '146386',\n",
       " '연애담': '149481',\n",
       " '미스 사이공: 25주년 특별 공연': '155123',\n",
       " '해리가 샐리를 만났을 때': '10250',\n",
       " '미인어': '127383',\n",
       " '원피스 필름 골드': '146214',\n",
       " '스타워즈: 깨어난 포스': '100072',\n",
       " '내 친구의 아내 2': '156645',\n",
       " '눈의 여왕3: 눈과 불의 마법대결': '156675',\n",
       " '딥워터 호라이즌': '137346',\n",
       " '사랑은 부엉부엉': '152486',\n",
       " '파파좀비': '157033',\n",
       " '아기배달부 스토크': '144945',\n",
       " '자백': '146534',\n",
       " 'ARQ': '154491',\n",
       " '공조': '142384',\n",
       " '졸업반': '157493',\n",
       " '얼라이드': '149777',\n",
       " '내 어깨 위 고양이, 밥': '154379'}"
      ]
     },
     "execution_count": 30,
     "metadata": {},
     "output_type": "execute_result"
    }
   ],
   "source": [
    "movie_dict = {}\n",
    "\n",
    "for i in range(0, len(title_n)): \n",
    "    movie_dict[movie_name[i]] = movie_point[i]\n",
    "\n",
    "movie_dict"
   ]
  },
  {
   "cell_type": "code",
   "execution_count": null,
   "metadata": {},
   "outputs": [],
   "source": [
    "from bs4 import BeautifulSoup\n",
    "from urllib.request import urlopen\n",
    "url = \"https://movie.naver.com/movie/bi/mi/basic.nhn?code=\"\n",
    "page = urlopen(url+movie_dict['마스터'])\n",
    "soup = BeautifulSoup(page, \"html.parser\")\n",
    "soup"
   ]
  },
  {
   "cell_type": "code",
   "execution_count": 46,
   "metadata": {},
   "outputs": [
    {
     "data": {
      "text/plain": [
       "[<span class=\"st_on\" style=\"width:86.5%\">관람객 평점 8.65점</span>,\n",
       " <span class=\"st_on\" style=\"width:57.7%\"></span>,\n",
       " <span class=\"st_on\" style=\"width:81.0%\"></span>,\n",
       " <span class=\"st_on\" style=\"width:0%\">0점</span>,\n",
       " <span class=\"st_on\" id=\"pointStarWide\" style=\"width:0%\"></span>,\n",
       " <span class=\"st_on\" style=\"width:86.5%\">관람객 평점 8.65점</span>,\n",
       " <span class=\"st_on\" style=\"width:57.7%\"></span>,\n",
       " <span class=\"st_on\" style=\"width:81.0%\"></span>,\n",
       " <span class=\"st_on\" style=\"width:0%\">0점</span>,\n",
       " <span class=\"st_on\" id=\"pointStar\" style=\"width:0%\"></span>,\n",
       " <span class=\"st_on\" style=\"width:81.0%\">평점 - 총 10점 중</span>,\n",
       " <span class=\"st_on\" style=\"width:57.7%\">평점 - 총 10점 중</span>,\n",
       " <span class=\"st_on\" style=\"width:100.0%\"></span>,\n",
       " <span class=\"st_on\" style=\"width:100.0%\"></span>,\n",
       " <span class=\"st_on\" style=\"width:100.0%\"></span>,\n",
       " <span class=\"st_on\" style=\"width:50.0%\"></span>,\n",
       " <span class=\"st_on\" style=\"width:100.0%\"></span>]"
      ]
     },
     "execution_count": 46,
     "metadata": {},
     "output_type": "execute_result"
    }
   ],
   "source": [
    "b = soup.find_all('span','st_on')\n",
    "b"
   ]
  },
  {
   "cell_type": "code",
   "execution_count": 83,
   "metadata": {},
   "outputs": [
    {
     "data": {
      "text/plain": [
       "8.65"
      ]
     },
     "execution_count": 83,
     "metadata": {},
     "output_type": "execute_result"
    }
   ],
   "source": [
    "round(float(b[0]['style'][6:10])/10,2)"
   ]
  },
  {
   "cell_type": "code",
   "execution_count": 84,
   "metadata": {},
   "outputs": [
    {
     "data": {
      "text/plain": [
       "5.77"
      ]
     },
     "execution_count": 84,
     "metadata": {},
     "output_type": "execute_result"
    }
   ],
   "source": [
    "round(float(b[1]['style'][6:10])/10,2)"
   ]
  },
  {
   "cell_type": "code",
   "execution_count": 85,
   "metadata": {},
   "outputs": [
    {
     "data": {
      "text/plain": [
       "8.1"
      ]
     },
     "execution_count": 85,
     "metadata": {},
     "output_type": "execute_result"
    }
   ],
   "source": [
    "round(float(b[2]['style'][6:10])/10,2)"
   ]
  },
  {
   "cell_type": "code",
   "execution_count": null,
   "metadata": {},
   "outputs": [],
   "source": []
  }
 ],
 "metadata": {
  "kernelspec": {
   "display_name": "Python 3",
   "language": "python",
   "name": "python3"
  },
  "language_info": {
   "codemirror_mode": {
    "name": "ipython",
    "version": 3
   },
   "file_extension": ".py",
   "mimetype": "text/x-python",
   "name": "python",
   "nbconvert_exporter": "python",
   "pygments_lexer": "ipython3",
   "version": "3.6.7"
  }
 },
 "nbformat": 4,
 "nbformat_minor": 2
}

{
 "cells": [
  {
   "cell_type": "markdown",
   "metadata": {},
   "source": [
    "[네이버 영화리뷰 크롤링](http://blog.naver.com/PostView.nhn?blogId=josing616&logNo=220744929196)"
   ]
  },
  {
   "cell_type": "code",
   "execution_count": 89,
   "metadata": {},
   "outputs": [],
   "source": [
    "import re\n",
    "from bs4 import BeautifulSoup\n",
    "from urllib.request import urlopen"
   ]
  },
  {
   "cell_type": "code",
   "execution_count": 90,
   "metadata": {},
   "outputs": [],
   "source": [
    "def getCode(URL):\n",
    "    code_st=re.search('code=[0-9]+',URL).group()\n",
    "    code = re.search('[0-9]+',code_st).group()\n",
    "    return(code)"
   ]
  },
  {
   "cell_type": "code",
   "execution_count": 91,
   "metadata": {},
   "outputs": [],
   "source": [
    "def getReviewResult(CODE):\n",
    "    f=open('review_'+CODE+'.txt','w')\n",
    "    page = int(1)\n",
    "#     count = int(input('Page Number: '))\n",
    "    count = 10\n",
    "    while count:\n",
    "        url1='https://movie.naver.com/movie/bi/mi/basic.nhn?code='\n",
    "        url2 = '&type=after&isActualPointWriteExecute=false&isMileageSubscriptionAlready=false&isMileageSubscriptionReject=false&page='\n",
    "        URL = url1+CODE+url2+str(page)\n",
    "        open_=urlopen(URL)\n",
    "        html=open_.read().decode('utf-8')\n",
    "        soup=BeautifulSoup(html,'lxml')\n",
    "        \n",
    "        score_result=soup.find('div',class_='score_result')\n",
    "        lis=score_result.find_all('li')\n",
    "        \n",
    "        for li in lis:\n",
    "            page=int(page)\n",
    "            reple=li.find('div',class_='score_reple').find('p').get_text()\n",
    "            score=li.find('div',class_='star_score').find('p').get_text()\n",
    "            children=li.find('dt')\n",
    "            child=children.findChildren()\n",
    "            \n",
    "            time=str(child[3])\n",
    "            time_s=time[4:17]\n",
    "            \n",
    "            print(reple)\n",
    "            print(score)\n",
    "            print(time_s)\n",
    "            \n",
    "            f.write('작성시간: '+time_s.encoding('utf-8')+'\\t')\n",
    "            f.write('영화평점: '+score.encoding('utf-8')+'\\n')\n",
    "            f.write('리뷰내용: '+reple.encoding('utf-8')+'\\t')\n",
    "            \n",
    "        count -= 1\n",
    "        \n",
    "        if not count:\n",
    "            break\n",
    "        \n",
    "        page += 1\n",
    "    f.close()"
   ]
  },
  {
   "cell_type": "code",
   "execution_count": 92,
   "metadata": {},
   "outputs": [
    {
     "ename": "AttributeError",
     "evalue": "'NoneType' object has no attribute 'get_text'",
     "output_type": "error",
     "traceback": [
      "\u001b[0;31m---------------------------------------------------------------------------\u001b[0m",
      "\u001b[0;31mAttributeError\u001b[0m                            Traceback (most recent call last)",
      "\u001b[0;32m<ipython-input-92-9aa4c030f6f9>\u001b[0m in \u001b[0;36m<module>\u001b[0;34m\u001b[0m\n\u001b[1;32m      2\u001b[0m \u001b[0mcode\u001b[0m \u001b[0;34m=\u001b[0m \u001b[0mgetCode\u001b[0m\u001b[0;34m(\u001b[0m\u001b[0murl\u001b[0m\u001b[0;34m)\u001b[0m\u001b[0;34m\u001b[0m\u001b[0;34m\u001b[0m\u001b[0m\n\u001b[1;32m      3\u001b[0m \u001b[0mcode\u001b[0m\u001b[0;34m\u001b[0m\u001b[0;34m\u001b[0m\u001b[0m\n\u001b[0;32m----> 4\u001b[0;31m \u001b[0mgetReviewResult\u001b[0m\u001b[0;34m(\u001b[0m\u001b[0;34m'74866'\u001b[0m\u001b[0;34m)\u001b[0m\u001b[0;34m\u001b[0m\u001b[0;34m\u001b[0m\u001b[0m\n\u001b[0m",
      "\u001b[0;32m<ipython-input-91-7d94b29836fd>\u001b[0m in \u001b[0;36mgetReviewResult\u001b[0;34m(CODE)\u001b[0m\n\u001b[1;32m     18\u001b[0m             \u001b[0mpage\u001b[0m\u001b[0;34m=\u001b[0m\u001b[0mint\u001b[0m\u001b[0;34m(\u001b[0m\u001b[0mpage\u001b[0m\u001b[0;34m)\u001b[0m\u001b[0;34m\u001b[0m\u001b[0;34m\u001b[0m\u001b[0m\n\u001b[1;32m     19\u001b[0m             \u001b[0mreple\u001b[0m\u001b[0;34m=\u001b[0m\u001b[0mli\u001b[0m\u001b[0;34m.\u001b[0m\u001b[0mfind\u001b[0m\u001b[0;34m(\u001b[0m\u001b[0;34m'div'\u001b[0m\u001b[0;34m,\u001b[0m\u001b[0mclass_\u001b[0m\u001b[0;34m=\u001b[0m\u001b[0;34m'score_reple'\u001b[0m\u001b[0;34m)\u001b[0m\u001b[0;34m.\u001b[0m\u001b[0mfind\u001b[0m\u001b[0;34m(\u001b[0m\u001b[0;34m'p'\u001b[0m\u001b[0;34m)\u001b[0m\u001b[0;34m.\u001b[0m\u001b[0mget_text\u001b[0m\u001b[0;34m(\u001b[0m\u001b[0;34m)\u001b[0m\u001b[0;34m\u001b[0m\u001b[0;34m\u001b[0m\u001b[0m\n\u001b[0;32m---> 20\u001b[0;31m             \u001b[0mscore\u001b[0m\u001b[0;34m=\u001b[0m\u001b[0mli\u001b[0m\u001b[0;34m.\u001b[0m\u001b[0mfind\u001b[0m\u001b[0;34m(\u001b[0m\u001b[0;34m'div'\u001b[0m\u001b[0;34m,\u001b[0m\u001b[0mclass_\u001b[0m\u001b[0;34m=\u001b[0m\u001b[0;34m'star_score'\u001b[0m\u001b[0;34m)\u001b[0m\u001b[0;34m.\u001b[0m\u001b[0mfind\u001b[0m\u001b[0;34m(\u001b[0m\u001b[0;34m'p'\u001b[0m\u001b[0;34m)\u001b[0m\u001b[0;34m.\u001b[0m\u001b[0mget_text\u001b[0m\u001b[0;34m(\u001b[0m\u001b[0;34m)\u001b[0m\u001b[0;34m\u001b[0m\u001b[0;34m\u001b[0m\u001b[0m\n\u001b[0m\u001b[1;32m     21\u001b[0m             \u001b[0mchildren\u001b[0m\u001b[0;34m=\u001b[0m\u001b[0mli\u001b[0m\u001b[0;34m.\u001b[0m\u001b[0mfind\u001b[0m\u001b[0;34m(\u001b[0m\u001b[0;34m'dt'\u001b[0m\u001b[0;34m)\u001b[0m\u001b[0;34m\u001b[0m\u001b[0;34m\u001b[0m\u001b[0m\n\u001b[1;32m     22\u001b[0m             \u001b[0mchild\u001b[0m\u001b[0;34m=\u001b[0m\u001b[0mchildren\u001b[0m\u001b[0;34m.\u001b[0m\u001b[0mfindChildren\u001b[0m\u001b[0;34m(\u001b[0m\u001b[0;34m)\u001b[0m\u001b[0;34m\u001b[0m\u001b[0;34m\u001b[0m\u001b[0m\n",
      "\u001b[0;31mAttributeError\u001b[0m: 'NoneType' object has no attribute 'get_text'"
     ]
    }
   ],
   "source": [
    "url='https://movie.naver.com/movie/bi/mi/basic.nhn?code=74866'\n",
    "code = getCode(url)\n",
    "code\n",
    "getReviewResult('74866')"
   ]
  },
  {
   "cell_type": "code",
   "execution_count": null,
   "metadata": {},
   "outputs": [],
   "source": [
    "import requests\n",
    "from bs4 import BeautifulSoup"
   ]
  },
  {
   "cell_type": "code",
   "execution_count": null,
   "metadata": {},
   "outputs": [],
   "source": [
    "test_url = \"https://movie.naver.com/movie/bi/mi/pointWriteFormList.nhn?code=171921&type=after&page=1\"\n",
    "resp = requests.get(test_url)\n",
    "html = BeautifulSoup(resp.content, 'html.parser')\n",
    "html"
   ]
  },
  {
   "cell_type": "code",
   "execution_count": null,
   "metadata": {},
   "outputs": [],
   "source": [
    "score_result = html.find('div', {'class': 'score_result'})\n",
    "lis = score_result.findAll('li')\n",
    "lis[0]\n",
    "score_result"
   ]
  },
  {
   "cell_type": "code",
   "execution_count": null,
   "metadata": {},
   "outputs": [],
   "source": [
    "review_text = lis[0].find('p').getText()\n",
    "review_text"
   ]
  },
  {
   "cell_type": "code",
   "execution_count": null,
   "metadata": {},
   "outputs": [],
   "source": [
    "score = lis[0].find('em').getText()\n",
    "score"
   ]
  },
  {
   "cell_type": "code",
   "execution_count": null,
   "metadata": {},
   "outputs": [],
   "source": [
    "like = lis[0].find('div', {'class': 'btn_area'}).findAll('span')[1].getText()\n",
    "dislike = lis[0].find('div', {'class': 'btn_area'}).findAll('span')[3].getText()\n",
    "like, dislike"
   ]
  },
  {
   "cell_type": "code",
   "execution_count": null,
   "metadata": {},
   "outputs": [],
   "source": [
    "nickname = lis[0].findAll('a')[0].find('span').getText()\n",
    "nickname"
   ]
  },
  {
   "cell_type": "code",
   "execution_count": null,
   "metadata": {},
   "outputs": [],
   "source": [
    "from datetime import datetime\n",
    "created_at = datetime.strptime(li.find('dt').findAll('em')[-1].getText(), \"%Y.%m.%d %H:%M\")\n",
    "created_at"
   ]
  },
  {
   "cell_type": "code",
   "execution_count": null,
   "metadata": {},
   "outputs": [],
   "source": [
    "import requests\n",
    "from bs4 import BeautifulSoup\n",
    "import json\n",
    "def get_data(url):\n",
    "    data=[]\n",
    "    resp = requests.get(url)\n",
    "    html = BeautifulSoup(resp.content, 'html.parser')\n",
    "    score_result = html.find('div', {'class': 'score_result'})\n",
    "    lis = score_result.findAll('li')\n",
    "\n",
    "    f = open('sample_movie_review.json', 'a')\n",
    "    for li in lis:        \n",
    "        nickname = li.findAll('a')[0].find('span').getText()\n",
    "#         created_at = datetime.strptime(li.find('dt').findAll('em')[-1].getText(), \"%Y.%m.%d %H:%M\")\n",
    "\n",
    "        review_text = li.find('p').getText()\n",
    "        score = li.find('em').getText()\n",
    "        btn_likes = li.find('div', {'class': 'btn_area'}).findAll('span')\n",
    "        like = btn_likes[1].getText()\n",
    "        dislike = btn_likes[3].getText()\n",
    "\n",
    "        watch_movie = li.find('span', {'class':'ico_viewer'})\n",
    "\n",
    "        # 간단하게 프린트만 했습니다.\n",
    "#         print(nickname, review_text, score, like, dislike, watch_movie and True or False)\n",
    "        d = {\n",
    "            'review_text':review_text,\n",
    "            'score':score,\n",
    "            'like':like,\n",
    "            'dislike':dislike,\n",
    "#             'date':str(created_at),\n",
    "            'watch':watch_movie and True or False\n",
    "        }\n",
    "        data.append(d)\n",
    "    return data\n",
    "#     result = html.find('div', {'class':'score_total'}).find('strong').findChildren('em')[1].getText()\n",
    "#     int(result.replace(',', ''))"
   ]
  },
  {
   "cell_type": "code",
   "execution_count": null,
   "metadata": {},
   "outputs": [],
   "source": [
    "result = html.find('div', {'class':'score_total'}).find('strong').findChildren('em')[1].getText()\n",
    "int(result.replace(',', ''))"
   ]
  },
  {
   "cell_type": "code",
   "execution_count": null,
   "metadata": {},
   "outputs": [],
   "source": [
    "test_url = 'https://movie.naver.com/movie/bi/mi/pointWriteFormList.nhn?code=171921&type=after'\n",
    "resp = requests.get(test_url)\n",
    "html = BeautifulSoup(resp.content, 'html.parser')\n",
    "result = html.find('div', {'class':'score_total'}).find('strong').findChildren('em')[1].getText()\n",
    "total_count = int(result.replace(',', ''))\n",
    "r_data = []\n",
    "for i in range(1, int(total_count / 10) + 1):\n",
    "    url = test_url + '&page=' + str(i)\n",
    "    print('url: \"' + url + '\" is parsing....')\n",
    "    data = get_data(url)\n",
    "    r_data.append(data)"
   ]
  },
  {
   "cell_type": "code",
   "execution_count": null,
   "metadata": {},
   "outputs": [],
   "source": [
    "print(r_data)"
   ]
  },
  {
   "cell_type": "code",
   "execution_count": null,
   "metadata": {},
   "outputs": [],
   "source": [
    "type(r_data[0][0]['review_text'])"
   ]
  },
  {
   "cell_type": "code",
   "execution_count": null,
   "metadata": {},
   "outputs": [],
   "source": [
    "len(r_data)"
   ]
  },
  {
   "cell_type": "code",
   "execution_count": null,
   "metadata": {},
   "outputs": [],
   "source": [
    "from bs4 import BeautifulSoup\n",
    "from urllib.request import urlopen\n",
    "url = \"https://movie.naver.com/movie/sdb/rank/rmovie.nhn?sel=cnt&date=20170101\"\n",
    "page = urlopen(url)\n",
    "soup = BeautifulSoup(page, \"html.parser\")\n",
    "soup"
   ]
  },
  {
   "cell_type": "code",
   "execution_count": null,
   "metadata": {},
   "outputs": [],
   "source": [
    "b = soup.find_all('div','tit3')"
   ]
  },
  {
   "cell_type": "code",
   "execution_count": null,
   "metadata": {},
   "outputs": [],
   "source": [
    "b[0].find('a').text"
   ]
  },
  {
   "cell_type": "code",
   "execution_count": null,
   "metadata": {},
   "outputs": [],
   "source": [
    "title_n = soup.find_all('div', 'tit3')\n",
    "# b = soup.find_all('div', 'tit3')[n]\n",
    "# 전체 영화의 제목 뽑아옴\n",
    "movie_name = [b[n].find('a').text for n in range(0, len(title_n))]\n",
    "\n",
    "# 전체 순위의 평점 뽑아옴\n",
    "movie_point = [b[n].find('a')['href'][28:] for n in range(0, len(title_n))]"
   ]
  },
  {
   "cell_type": "code",
   "execution_count": null,
   "metadata": {},
   "outputs": [],
   "source": [
    "movie_dict = {}\n",
    "\n",
    "for i in range(0, len(title_n)): \n",
    "    movie_dict[movie_name[i]] = movie_point[i]\n",
    "\n",
    "movie_dict"
   ]
  },
  {
   "cell_type": "code",
   "execution_count": null,
   "metadata": {},
   "outputs": [],
   "source": [
    "from bs4 import BeautifulSoup\n",
    "from urllib.request import urlopen\n",
    "url = \"https://movie.naver.com/movie/bi/mi/basic.nhn?code=\"\n",
    "page = urlopen(url+movie_dict['마스터'])\n",
    "soup = BeautifulSoup(page, \"html.parser\")\n",
    "soup"
   ]
  },
  {
   "cell_type": "code",
   "execution_count": null,
   "metadata": {},
   "outputs": [],
   "source": [
    "b = soup.find_all('span','st_on')\n",
    "b"
   ]
  },
  {
   "cell_type": "code",
   "execution_count": null,
   "metadata": {},
   "outputs": [],
   "source": [
    "round(float(b[0]['style'][6:10])/10,2)"
   ]
  },
  {
   "cell_type": "code",
   "execution_count": null,
   "metadata": {},
   "outputs": [],
   "source": [
    "round(float(b[1]['style'][6:10])/10,2)"
   ]
  },
  {
   "cell_type": "code",
   "execution_count": null,
   "metadata": {},
   "outputs": [],
   "source": [
    "round(float(b[2]['style'][6:10])/10,2)"
   ]
  },
  {
   "cell_type": "code",
   "execution_count": null,
   "metadata": {},
   "outputs": [],
   "source": []
  }
 ],
 "metadata": {
  "kernelspec": {
   "display_name": "Python 3",
   "language": "python",
   "name": "python3"
  },
  "language_info": {
   "codemirror_mode": {
    "name": "ipython",
    "version": 3
   },
   "file_extension": ".py",
   "mimetype": "text/x-python",
   "name": "python",
   "nbconvert_exporter": "python",
   "pygments_lexer": "ipython3",
   "version": "3.6.7"
  }
 },
 "nbformat": 4,
 "nbformat_minor": 2
}

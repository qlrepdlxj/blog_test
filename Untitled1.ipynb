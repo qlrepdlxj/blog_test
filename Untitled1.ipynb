{
 "cells": [
  {
   "cell_type": "code",
   "execution_count": 31,
   "metadata": {},
   "outputs": [
    {
     "name": "stdout",
     "output_type": "stream",
     "text": [
      "극장판 <b>포켓몬</b>스터DP - 디아루가 VS 펄기아 VS 다크라이\n",
      "8.03\n",
      "<b>포켓몬 더 무비</b> XY&amp;Z 「볼케니온 : 기계왕국의 비밀」\n",
      "8.75\n",
      "<b>포켓몬 더 무비</b> XY 후파: 광륜의 초마신\n",
      "8.75\n",
      "<b>포켓몬 더 무비</b> XY 피카츄와 포켓몬 음악대\n",
      "10.00\n"
     ]
    }
   ],
   "source": [
    "import os\n",
    "import sys\n",
    "import urllib.request\n",
    "from tqdm import tqdm\n",
    "import json\n",
    "\n",
    "client_id = \"nA8Iwm4HJ6EM2W1dueU9\"\n",
    "client_secret = \"HaEPQCPbyQ\"\n",
    "encText = urllib.parse.quote(\"포켓몬 더 무비\")\n",
    "url = \"https://openapi.naver.com/v1/search/movie.json?query=\" + encText # json 결과\n",
    "# url = \"https://openapi.naver.com/v1/search/blog.xml?query=\" + encText # xml 결과\n",
    "request = urllib.request.Request(url)\n",
    "request.add_header(\"X-Naver-Client-Id\",client_id)\n",
    "request.add_header(\"X-Naver-Client-Secret\",client_secret)\n",
    "response = urllib.request.urlopen(request)\n",
    "rescode = response.getcode()\n",
    "if(rescode==200):\n",
    "    response_body = response.read()\n",
    "    d1=json.loads(response_body)\n",
    "    n= int(d1['total'])\n",
    "    for i in range(0, n):\n",
    "        print(d1['items'][i]['title'])\n",
    "        print(d1['items'][i]['userRating'])\n",
    "else:\n",
    "    print(\"Error Code:\" + rescode)"
   ]
  },
  {
   "cell_type": "code",
   "execution_count": 28,
   "metadata": {},
   "outputs": [],
   "source": [
    "import re\n",
    "\n",
    "def remove_tag(content):\n",
    "   cleanr =re.compile('<.*?>')\n",
    "   cleantext = re.sub(cleanr, '', content)\n",
    "   return cleantext"
   ]
  },
  {
   "cell_type": "code",
   "execution_count": 32,
   "metadata": {},
   "outputs": [
    {
     "data": {
      "text/plain": [
       "'포켓몬 더 무비 XY&amp;Z 「볼케니온 : 기계왕국의 비밀」'"
      ]
     },
     "execution_count": 32,
     "metadata": {},
     "output_type": "execute_result"
    }
   ],
   "source": [
    "text = d1['items'][1]['title']\n",
    "remove_tag(text)"
   ]
  },
  {
   "cell_type": "code",
   "execution_count": null,
   "metadata": {},
   "outputs": [],
   "source": []
  }
 ],
 "metadata": {
  "kernelspec": {
   "display_name": "Python 3",
   "language": "python",
   "name": "python3"
  },
  "language_info": {
   "codemirror_mode": {
    "name": "ipython",
    "version": 3
   },
   "file_extension": ".py",
   "mimetype": "text/x-python",
   "name": "python",
   "nbconvert_exporter": "python",
   "pygments_lexer": "ipython3",
   "version": "3.6.7"
  }
 },
 "nbformat": 4,
 "nbformat_minor": 2
}

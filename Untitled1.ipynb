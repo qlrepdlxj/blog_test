{
 "cells": [
  {
   "cell_type": "code",
   "execution_count": 1,
   "metadata": {},
   "outputs": [
    {
     "data": {
      "text/html": [
       "<script type=\"text/javascript\">window.PlotlyConfig = {MathJaxConfig: 'local'};</script><script type=\"text/javascript\">if (window.MathJax) {MathJax.Hub.Config({SVG: {font: \"STIX-Web\"}});}</script><script>requirejs.config({paths: { 'plotly': ['https://cdn.plot.ly/plotly-latest.min']},});if(!window._Plotly) {require(['plotly'],function(plotly) {window._Plotly=plotly;});}</script>"
      ],
      "text/vnd.plotly.v1+html": [
       "<script type=\"text/javascript\">window.PlotlyConfig = {MathJaxConfig: 'local'};</script><script type=\"text/javascript\">if (window.MathJax) {MathJax.Hub.Config({SVG: {font: \"STIX-Web\"}});}</script><script>requirejs.config({paths: { 'plotly': ['https://cdn.plot.ly/plotly-latest.min']},});if(!window._Plotly) {require(['plotly'],function(plotly) {window._Plotly=plotly;});}</script>"
      ]
     },
     "metadata": {},
     "output_type": "display_data"
    }
   ],
   "source": [
    "import plotly.offline as offline\n",
    "import plotly.graph_objs as go\n",
    "import pandas as pd\n",
    "import datetime\n",
    "# import date\n",
    "\n",
    "offline.init_notebook_mode(connected=True) \n",
    "df = pd.read_csv('201701.csv', parse_dates=True)\n",
    "date = []\n",
    "list2 = []\n",
    "\n",
    "for i in range(0,31):\n",
    "    dateTime = datetime.datetime.strptime(str(df['date'][10*i]),\"%Y%m%d\").date()\n",
    "    date.append(datetime.datetime.strptime(str(df['date'][10*i]),\"%Y%m%d\").date())\n",
    "    list1 = []\n",
    "    total=0\n",
    "    \n",
    "    for j in range(0,10):\n",
    "        total+=df['audiCnt'][j+10*i]\n",
    "        list1.append(df['audiCnt'][j+10*i])\n",
    "    \n",
    "    list2.append(total)\n",
    "# list2"
   ]
  },
  {
   "cell_type": "code",
   "execution_count": 2,
   "metadata": {},
   "outputs": [],
   "source": [
    "# date"
   ]
  },
  {
   "cell_type": "code",
   "execution_count": 3,
   "metadata": {},
   "outputs": [
    {
     "data": {
      "application/vnd.plotly.v1+json": {
       "config": {
        "linkText": "Export to plot.ly",
        "plotlyServerURL": "https://plot.ly",
        "showLink": true
       },
       "data": [
        {
         "type": "bar",
         "uid": "7dc48497-b9b7-45ab-ab44-d153d2db807e",
         "x": [
          "2017-01-01",
          "2017-01-02",
          "2017-01-03",
          "2017-01-04",
          "2017-01-05",
          "2017-01-06",
          "2017-01-07",
          "2017-01-08",
          "2017-01-09",
          "2017-01-10",
          "2017-01-11",
          "2017-01-12",
          "2017-01-13",
          "2017-01-14",
          "2017-01-15",
          "2017-01-16",
          "2017-01-17",
          "2017-01-18",
          "2017-01-19",
          "2017-01-20",
          "2017-01-21",
          "2017-01-22",
          "2017-01-23",
          "2017-01-24",
          "2017-01-25",
          "2017-01-26",
          "2017-01-27",
          "2017-01-28",
          "2017-01-29",
          "2017-01-30",
          "2017-01-31"
         ],
         "y": [
          1079312,
          429079,
          354356,
          524319,
          472716,
          529040,
          1050318,
          984339,
          361874,
          366937,
          387775,
          390926,
          438353,
          958710,
          931352,
          291145,
          297278,
          626383,
          541489,
          575217,
          1252975,
          1243345,
          413530,
          418223,
          590581,
          651238,
          1088636,
          1365896,
          1662892,
          1604649,
          609035
         ]
        }
       ],
       "layout": {}
      },
      "text/html": [
       "<div id=\"d12d4fc9-d429-491e-bcf6-b3442873a0a1\" style=\"height: 525px; width: 100%;\" class=\"plotly-graph-div\"></div><script type=\"text/javascript\">require([\"plotly\"], function(Plotly) { window.PLOTLYENV=window.PLOTLYENV || {};window.PLOTLYENV.BASE_URL=\"https://plot.ly\";Plotly.newPlot(\"d12d4fc9-d429-491e-bcf6-b3442873a0a1\", [{\"x\": [\"2017-01-01\", \"2017-01-02\", \"2017-01-03\", \"2017-01-04\", \"2017-01-05\", \"2017-01-06\", \"2017-01-07\", \"2017-01-08\", \"2017-01-09\", \"2017-01-10\", \"2017-01-11\", \"2017-01-12\", \"2017-01-13\", \"2017-01-14\", \"2017-01-15\", \"2017-01-16\", \"2017-01-17\", \"2017-01-18\", \"2017-01-19\", \"2017-01-20\", \"2017-01-21\", \"2017-01-22\", \"2017-01-23\", \"2017-01-24\", \"2017-01-25\", \"2017-01-26\", \"2017-01-27\", \"2017-01-28\", \"2017-01-29\", \"2017-01-30\", \"2017-01-31\"], \"y\": [1079312, 429079, 354356, 524319, 472716, 529040, 1050318, 984339, 361874, 366937, 387775, 390926, 438353, 958710, 931352, 291145, 297278, 626383, 541489, 575217, 1252975, 1243345, 413530, 418223, 590581, 651238, 1088636, 1365896, 1662892, 1604649, 609035], \"type\": \"bar\", \"uid\": \"a2f6d113-a6f8-43ae-9f81-b2fda2b6a882\"}], {}, {\"showLink\": true, \"linkText\": \"Export to plot.ly\", \"plotlyServerURL\": \"https://plot.ly\"})});</script><script type=\"text/javascript\">window.addEventListener(\"resize\", function(){window._Plotly.Plots.resize(document.getElementById(\"d12d4fc9-d429-491e-bcf6-b3442873a0a1\"));});</script>"
      ],
      "text/vnd.plotly.v1+html": [
       "<div id=\"d12d4fc9-d429-491e-bcf6-b3442873a0a1\" style=\"height: 525px; width: 100%;\" class=\"plotly-graph-div\"></div><script type=\"text/javascript\">require([\"plotly\"], function(Plotly) { window.PLOTLYENV=window.PLOTLYENV || {};window.PLOTLYENV.BASE_URL=\"https://plot.ly\";Plotly.newPlot(\"d12d4fc9-d429-491e-bcf6-b3442873a0a1\", [{\"x\": [\"2017-01-01\", \"2017-01-02\", \"2017-01-03\", \"2017-01-04\", \"2017-01-05\", \"2017-01-06\", \"2017-01-07\", \"2017-01-08\", \"2017-01-09\", \"2017-01-10\", \"2017-01-11\", \"2017-01-12\", \"2017-01-13\", \"2017-01-14\", \"2017-01-15\", \"2017-01-16\", \"2017-01-17\", \"2017-01-18\", \"2017-01-19\", \"2017-01-20\", \"2017-01-21\", \"2017-01-22\", \"2017-01-23\", \"2017-01-24\", \"2017-01-25\", \"2017-01-26\", \"2017-01-27\", \"2017-01-28\", \"2017-01-29\", \"2017-01-30\", \"2017-01-31\"], \"y\": [1079312, 429079, 354356, 524319, 472716, 529040, 1050318, 984339, 361874, 366937, 387775, 390926, 438353, 958710, 931352, 291145, 297278, 626383, 541489, 575217, 1252975, 1243345, 413530, 418223, 590581, 651238, 1088636, 1365896, 1662892, 1604649, 609035], \"type\": \"bar\", \"uid\": \"a2f6d113-a6f8-43ae-9f81-b2fda2b6a882\"}], {}, {\"showLink\": true, \"linkText\": \"Export to plot.ly\", \"plotlyServerURL\": \"https://plot.ly\"})});</script><script type=\"text/javascript\">window.addEventListener(\"resize\", function(){window._Plotly.Plots.resize(document.getElementById(\"d12d4fc9-d429-491e-bcf6-b3442873a0a1\"));});</script>"
      ]
     },
     "metadata": {},
     "output_type": "display_data"
    }
   ],
   "source": [
    "trace = go.Bar(x=date, y=list2) \n",
    "data=[trace]\n",
    "offline.iplot(data)"
   ]
  },
  {
   "cell_type": "code",
   "execution_count": null,
   "metadata": {},
   "outputs": [],
   "source": []
  }
 ],
 "metadata": {
  "kernelspec": {
   "display_name": "Python 3",
   "language": "python",
   "name": "python3"
  },
  "language_info": {
   "codemirror_mode": {
    "name": "ipython",
    "version": 3
   },
   "file_extension": ".py",
   "mimetype": "text/x-python",
   "name": "python",
   "nbconvert_exporter": "python",
   "pygments_lexer": "ipython3",
   "version": "3.6.7"
  }
 },
 "nbformat": 4,
 "nbformat_minor": 2
}

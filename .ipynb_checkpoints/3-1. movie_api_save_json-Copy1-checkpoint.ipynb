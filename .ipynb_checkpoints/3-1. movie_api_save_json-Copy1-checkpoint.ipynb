{
 "cells": [
  {
   "cell_type": "markdown",
   "metadata": {},
   "source": [
    "### 3. KOBIS OPENAPI\n",
    "\n",
    "영화관 입장권 통합 전산망 OPENAPI를 사용하여 일일 박스오피스 자료를 가져오고 JSON파일로 저장"
   ]
  },
  {
   "cell_type": "markdown",
   "metadata": {},
   "source": [
    "# title"
   ]
  },
  {
   "cell_type": "code",
   "execution_count": null,
   "metadata": {},
   "outputs": [],
   "source": [
    "import os\n",
    "import requests\n",
    "import json\n",
    "import calendar\n",
    "from tqdm import tqdm\n",
    "from datetime import date, timedelta\n",
    "\n",
    "key='ad816991534afeaef71f07e7336b0d61'\n",
    "movie_info_path='/root/movie/data/'"
   ]
  },
  {
   "cell_type": "markdown",
   "metadata": {},
   "source": [
    "폴더가 존재하는지 확인한 뒤 없으면 생성하는 함수"
   ]
  },
  {
   "cell_type": "code",
   "execution_count": null,
   "metadata": {},
   "outputs": [],
   "source": [
    "def check_dir(start_date,end_date):    \n",
    "    start_year = int(start_date.year)\n",
    "    end_year = int(end_date.year)\n",
    "    year = start_year\n",
    "    for i in tqdm(range(start_year,end_year+1)):        \n",
    "        if(os.path.isdir(movie_info_path+str(year))!=1):\n",
    "            os.mkdir(movie_info_path+str(year)+'/')\n",
    "            print(\"create \"+str(year)+\" folder\") \n",
    "            \n",
    "#         if(os.path.isdir(movie_info_path+str(year)+'_K')!=1):\n",
    "#             os.mkdir(movie_info_path+str(year)+'_K/')\n",
    "#             print(\"create \"+str(year)+\"_K folder\")   \n",
    "            \n",
    "#         if(os.path.isdir(movie_info_path+str(year)+'_F')!=1):\n",
    "#             os.mkdir(movie_info_path+str(year)+'_F/')\n",
    "#             print(\"create \"+str(year)+\"_F folder\")    \n",
    "        year += 1"
   ]
  },
  {
   "cell_type": "markdown",
   "metadata": {},
   "source": [
    "일일 박스오피스 자료를 찾고 없으면 API를 통해 자료를 받아온다\n",
    "\n",
    "파일은 JSON 타입으로 해당 폴더에 저장"
   ]
  },
  {
   "cell_type": "code",
   "execution_count": null,
   "metadata": {},
   "outputs": [],
   "source": [
    "def daily_box_office_to_json(start_date,end_date):    \n",
    "    tmp_date = start_date\n",
    "    startDt = int(str(start_date)[0:4]+str(start_date)[5:7]+str(start_date)[8:10])\n",
    "    endDt = int(str(end_date)[0:4]+str(end_date)[5:7]+str(end_date)[8:10])\n",
    "    days = end_date - start_date\n",
    "    for i in tqdm(range(0,days.days+1)):\n",
    "        targetDt = int(str(tmp_date)[0:4]+str(tmp_date)[5:7]+str(tmp_date)[8:10])\n",
    "        \n",
    "        if(os.path.isfile(\"/root/movie/data/\"+str(targetDt)[0:4]+'/'+str(targetDt)+'.json')!=1):\n",
    "            url='http://www.kobis.or.kr/kobisopenapi/webservice/rest/boxoffice/searchDailyBoxOfficeList.json?key='+key+'&targetDt='+str(targetDt)\n",
    "            res = requests.get(url)\n",
    "            text = res.text\n",
    "            d = json.loads(text)\n",
    "            with open('data/'+str(targetDt)[0:4]+'/'+str(targetDt)+'.json', 'w', encoding=\"utf-8\") as make_file:\n",
    "                json.dump(d, make_file, ensure_ascii=False, indent=\"\\t\")\n",
    "                \n",
    "#         if(os.path.isfile(\"/root/movie/data/\"+str(targetDt)[0:4]+'_K/'+str(targetDt)+'_K.json')!=1):\n",
    "#             url='http://www.kobis.or.kr/kobisopenapi/webservice/rest/boxoffice/searchDailyBoxOfficeList.json?key='+key+'&targetDt='+str(targetDt)+'&repNationCd=K'\n",
    "#             res = requests.get(url)\n",
    "#             text = res.text\n",
    "#             d = json.loads(text)\n",
    "#             with open('data/'+str(targetDt)[0:4]+'_K/'+str(targetDt)+'_K.json', 'w', encoding=\"utf-8\") as make_file:\n",
    "#                 json.dump(d, make_file, ensure_ascii=False, indent=\"\\t\")\n",
    "                \n",
    "#         if(os.path.isfile(\"/root/movie/data/\"+str(targetDt)[0:4]+'_F/'+str(targetDt)+'_F.json')!=1):\n",
    "#             url='http://www.kobis.or.kr/kobisopenapi/webservice/rest/boxoffice/searchDailyBoxOfficeList.json?key='+key+'&targetDt='+str(targetDt)+'&repNationCd=F'\n",
    "#             res = requests.get(url)\n",
    "#             text = res.text\n",
    "#             d = json.loads(text)\n",
    "#             with open('data/'+str(targetDt)[0:4]+'_F/'+str(targetDt)+'_F.json', 'w', encoding=\"utf-8\") as make_file:\n",
    "#                 json.dump(d, make_file, ensure_ascii=False, indent=\"\\t\")\n",
    "\n",
    "        tmp_date += timedelta(1)"
   ]
  },
  {
   "cell_type": "markdown",
   "metadata": {},
   "source": [
    "샘플 데이터로 2017년 전체 자료를 받아온다"
   ]
  },
  {
   "cell_type": "code",
   "execution_count": null,
   "metadata": {},
   "outputs": [],
   "source": [
    "start_date = date(2017,1,1)\n",
    "end_date = date(2017,12,31)\n",
    "check_dir(start_date,end_date)\n",
    "daily_box_office_to_json(start_date,end_date)"
   ]
  },
  {
   "cell_type": "code",
   "execution_count": null,
   "metadata": {},
   "outputs": [],
   "source": [
    "import pandas as pd\n",
    "import requests\n",
    "import datetime\n",
    "import json\n",
    "from tqdm import tqdm_notebook\n",
    "from dateutil.relativedelta import relativedelta\n",
    "\n",
    "my_date = datetime.date(2017, 1, 1)"
   ]
  },
  {
   "cell_type": "code",
   "execution_count": null,
   "metadata": {},
   "outputs": [],
   "source": [
    "start_date = date(2017,1,1)\n",
    "targetDt = str(start_date)[0:4]+str(start_date)[5:7]+str(start_date)[8:10]\n",
    "with open('data/'+str(targetDt)[0:4]+'/'+str(targetDt)+'.json', 'r', encoding=\"utf-8\") as read_file:\n",
    "    d = json.load(read_file)\n",
    "d"
   ]
  },
  {
   "cell_type": "code",
   "execution_count": null,
   "metadata": {},
   "outputs": [],
   "source": [
    "#일별 데이터  : csv로 저장 함수 정의 \n",
    "\n",
    "#mykey= '430156241533f1d058c603178cc3ca0e' #kobis에서 key 발급\n",
    "#mykey='4aa9ba2ba5fd74d34df70439d3b483db'\n",
    "# mykey='aec9e1bc0c849c607bac8a03d6bdb25e' #내 키 일일 조회수 초과해서 예시에 있는 키\n",
    "\n",
    "def daily_boxoffice(start_date, end_date) :\n",
    "    \n",
    "    final_list = []\n",
    "#     url = 'http://www.kobis.or.kr/kobisopenapi/webservice/rest/boxoffice/searchDailyBoxOfficeList.json'\n",
    "\n",
    "    for single_date in tqdm_notebook(pd.date_range(start_date, end_date)) :\n",
    "        for rep in [\"\",\"_K\", \"_F\"] :            \n",
    "#             dic={\n",
    "#             'key' : keys,\n",
    "#             'targetDt' : single_date.strftime('%Y%m%d'),\n",
    "#             'itemPerPage' : '10', \n",
    "#             'repNationCd' : rep #한국영화 K, 외국영화 F\n",
    "#             }\n",
    "            \n",
    "#             req = requests.get(url, params = dic)           \n",
    "#             text = req.text\n",
    "#             d = json.loads(text) \n",
    "\n",
    "            targetDt = str(single_date)[0:4]+str(single_date)[5:7]+str(single_date)[8:10]\n",
    "            with open('data/'+str(targetDt)[0:4]+rep+'/'+str(targetDt)+rep+'.json', 'r', encoding=\"utf-8\") as read_file:\n",
    "                d = json.load(read_file)\n",
    "            \n",
    "            for item in d[\"boxOfficeResult\"][\"dailyBoxOfficeList\"] :\n",
    "                value_list = []\n",
    "                key_list = []\n",
    "                for key, value in item.items() :\n",
    "                    key_list.append(key)\n",
    "                    value_list.append(value)\n",
    "                    \n",
    "                value_list.append(single_date)\n",
    "                key_list.append('CurrentDate')\n",
    "                \n",
    "                value_list.append(rep)\n",
    "                key_list.append('Nation')\n",
    "            \n",
    "                final_list.append(value_list)\n",
    "\n",
    "    return pd.DataFrame(final_list, columns=key_list)     # final_list에 담긴 내용을 df로 반환"
   ]
  },
  {
   "cell_type": "code",
   "execution_count": null,
   "metadata": {},
   "outputs": [],
   "source": [
    "#일별 데이터  : csv로 저장 함수 정의 \n",
    "\n",
    "#mykey= '430156241533f1d058c603178cc3ca0e' #kobis에서 key 발급\n",
    "#mykey='4aa9ba2ba5fd74d34df70439d3b483db'\n",
    "# mykey='aec9e1bc0c849c607bac8a03d6bdb25e' #내 키 일일 조회수 초과해서 예시에 있는 키\n",
    "\n",
    "def daily_boxoffice(start_date, end_date) :\n",
    "    \n",
    "    final_list = []\n",
    "#     url = 'http://www.kobis.or.kr/kobisopenapi/webservice/rest/boxoffice/searchDailyBoxOfficeList.json'\n",
    "\n",
    "    for single_date in tqdm_notebook(pd.date_range(start_date, end_date)) :\n",
    "#         for rep in [\"\",\"_K\", \"_F\"] :            \n",
    "#             dic={\n",
    "#             'key' : keys,\n",
    "#             'targetDt' : single_date.strftime('%Y%m%d'),\n",
    "#             'itemPerPage' : '10', \n",
    "#             'repNationCd' : rep #한국영화 K, 외국영화 F\n",
    "#             }\n",
    "            \n",
    "#             req = requests.get(url, params = dic)           \n",
    "#             text = req.text\n",
    "#             d = json.loads(text) \n",
    "\n",
    "        targetDt = str(single_date)[0:4]+str(single_date)[5:7]+str(single_date)[8:10]\n",
    "        with open('data/'+str(targetDt)[0:4]+'/'+str(targetDt)+'.json', 'r', encoding=\"utf-8\") as read_file:\n",
    "            d = json.load(read_file)\n",
    "\n",
    "        for item in d[\"boxOfficeResult\"][\"dailyBoxOfficeList\"] :\n",
    "            value_list = []\n",
    "            key_list = []\n",
    "            for key, value in item.items() :\n",
    "                key_list.append(key)\n",
    "                value_list.append(value)\n",
    "\n",
    "            value_list.append(single_date)\n",
    "            key_list.append('CurrentDate')\n",
    "\n",
    "#                 value_list.append(rep)\n",
    "#                 key_list.append('Nation')\n",
    "\n",
    "            final_list.append(value_list)\n",
    "\n",
    "    return pd.DataFrame(final_list, columns=key_list)     # final_list에 담긴 내용을 df로 반환"
   ]
  },
  {
   "cell_type": "code",
   "execution_count": null,
   "metadata": {},
   "outputs": [],
   "source": [
    "start_date = date(2017,1,1)\n",
    "end_date = date(2017,12,31)\n",
    "a = daily_boxoffice(start_date, end_date)"
   ]
  },
  {
   "cell_type": "code",
   "execution_count": null,
   "metadata": {},
   "outputs": [],
   "source": [
    "#일별 박스 오피스를 월별로 추출, 영화코드 리스트 추출 ###ok\n",
    "movie_code_list_all=pd.DataFrame()\n",
    "for i in tqdm_notebook(range(1)):\n",
    "    start_date = my_date + relativedelta(months=i)\n",
    "    end_date = start_date+ relativedelta(months=1) - datetime.timedelta(days=1)\n",
    "    \n",
    "    daily_boxoffice_data = daily_boxoffice(start_date, end_date)\n",
    "    startdate=start_date.strftime('%Y%m%d')\n",
    "    \n",
    "    enddate=end_date.strftime('%Y%m%d')\n",
    "    \n",
    "    movie_code_list = pd.DataFrame({'movieCd' :daily_boxoffice_data.movieCd.drop_duplicates(), 'movieNm':daily_boxoffice_data.movieNm.drop_duplicates(), 'director':'','Rate' : 0})\n",
    "    \n",
    "    \n",
    "    daily_boxoffice_data.to_csv(\"daliy_boxoffice_data_\"+startdate+\"~\"+enddate+\".csv\", index=False)\n",
    "    movie_code_list.to_csv(\"movie_code_list_\"+startdate+\"~\"+enddate+\".csv\", index=False)\n",
    "    \n",
    "    movie_code_list_all = movie_code_list.append(movie_code_list_all)\n",
    "    movie_code_list_all = movie_code_list_all.drop_duplicates()\n",
    "    movie_code_list_all.to_csv(\"movie_code_list_all.csv\", index=False)"
   ]
  },
  {
   "cell_type": "markdown",
   "metadata": {},
   "source": [
    "--------------------------------------------------------------\n",
    "영화 코드를 통해 영화 정보 파일 불러오기\n",
    "--------------------------------------------------------------"
   ]
  },
  {
   "cell_type": "code",
   "execution_count": null,
   "metadata": {},
   "outputs": [],
   "source": [
    "def movie_info_api(df):\n",
    "    for i in range(0,len(df['movieCd'])):\n",
    "        movieCd = str(df['movieCd'][i])\n",
    "\n",
    "        if(os.path.isfile(\"/root/movie/movie_info/\"+movieCd+\".json\")):\n",
    "            print(movieCd+\".json already exist!\")\n",
    "\n",
    "        else:\n",
    "            url = 'http://www.kobis.or.kr/kobisopenapi/webservice/rest/movie/searchMovieInfo.json?key='\\\n",
    "                +key+'&movieCd='+movieCd    \n",
    "            res = requests.get(url)\n",
    "            text = res.text\n",
    "            d = json.loads(text)\n",
    "            print(movieCd+\".json is created!\")\n",
    "            with open('movie_info/'+movieCd+'.json', 'w', encoding=\"utf-8\") as make_file:\n",
    "                json.dump(d, make_file, ensure_ascii=False, indent=\"\\t\")"
   ]
  },
  {
   "cell_type": "code",
   "execution_count": null,
   "metadata": {},
   "outputs": [],
   "source": [
    "df = pd.read_csv('movie_code_list_all.csv')\n",
    "movie_info_api(df)"
   ]
  },
  {
   "cell_type": "code",
   "execution_count": null,
   "metadata": {},
   "outputs": [],
   "source": [
    "#영화데이터  : txt 로 저장 함수 정의\n",
    "def movie_data(lists) :    \n",
    "    dict_list = dict()\n",
    "\n",
    "    for movie in lists :\n",
    "        with open('movie_info/'+movie+'.json', 'r', encoding=\"utf-8\") as read_file:\n",
    "            d = json.load(read_file)\n",
    "        \n",
    "        dict_list[movie] = d['movieInfoResult']['movieInfo'] #dict_list[movie] 가 있어야 append형식으로 됨. 없으면 마지막것만 추출\n",
    "    return dict_list"
   ]
  },
  {
   "cell_type": "code",
   "execution_count": null,
   "metadata": {},
   "outputs": [],
   "source": [
    "movie_info=movie_data(movie_code_list_all.movieCd) \n",
    "with open('movie_info.txt', 'w', encoding='utf-8') as outfile:   #딕셔너리를 json으로 저장\n",
    "    json.dump(movie_info, outfile, ensure_ascii=False)"
   ]
  },
  {
   "cell_type": "code",
   "execution_count": null,
   "metadata": {
    "scrolled": true
   },
   "outputs": [],
   "source": [
    "#movie_info의  director를 뽑아서 movie_code_list에 넣기\n",
    "movie_info_keys=list(movie_info.keys())\n",
    "movie_info_keys"
   ]
  },
  {
   "cell_type": "code",
   "execution_count": null,
   "metadata": {},
   "outputs": [],
   "source": [
    "movie_code_list_all = pd.read_csv(\"movie_code_list_all.csv\")\n",
    "for i in range(len(movie_code_list_all)):\n",
    "    movie_code_list_all.iloc[i,2]=movie_info[movie_info_keys[i]]['directors'][0]['peopleNm']"
   ]
  },
  {
   "cell_type": "code",
   "execution_count": null,
   "metadata": {},
   "outputs": [],
   "source": [
    "movie_code_list_all.to_csv(\"movie_code_add_director.csv\")\n"
   ]
  },
  {
   "cell_type": "code",
   "execution_count": null,
   "metadata": {},
   "outputs": [],
   "source": [
    "############### 네이버 api로 별점 추출, def 이용_1"
   ]
  },
  {
   "cell_type": "code",
   "execution_count": null,
   "metadata": {},
   "outputs": [],
   "source": [
    "from bs4 import BeautifulSoup\n",
    "import urllib.request\n",
    "from urllib.parse import quote\n",
    "import json\n",
    "import re\n",
    "import requests\n",
    "import pandas as pd\n",
    "\n",
    "naver_client_id = \"nA8Iwm4HJ6EM2W1dueU9\"\n",
    "naver_client_secret = \"HaEPQCPbyQ\"\n",
    "\n",
    "def cleanhtml(raw_html):\n",
    "    cleanr = re.compile('<.*?>')\n",
    "    cleantext = re.sub(cleanr, '', raw_html)\n",
    "    return cleantext\n",
    "def searchByTitle(title): #네이버 api\n",
    "    myurl = 'https://openapi.naver.com/v1/search/movie.json?display=100&query=' + quote(title)\n",
    "    request = urllib.request.Request(myurl)\n",
    "    request.add_header(\"X-Naver-Client-Id\",naver_client_id)\n",
    "    request.add_header(\"X-Naver-Client-Secret\",naver_client_secret)\n",
    "    response = urllib.request.urlopen(request)\n",
    "    rescode = response.getcode()\n",
    "    if(rescode==200):\n",
    "        response_body = response.read()\n",
    "        d = json.loads(response_body.decode('utf-8'))\n",
    "        if (len(d['items']) > 0):\n",
    "            return d['items']\n",
    "        else:\n",
    "            return None \n",
    "    else:\n",
    "        print(\"Error Code:\" + rescode)"
   ]
  },
  {
   "cell_type": "code",
   "execution_count": null,
   "metadata": {},
   "outputs": [],
   "source": [
    "#requests data 불러오기\n",
    "def findItemByInput(items):\n",
    "    a = {}\n",
    "    n=len(items)\n",
    "    #print('n = ',n)\n",
    "    for index, item in enumerate(items):\n",
    "        navertitle = cleanhtml(item['title'])\n",
    "        naversubtitle = cleanhtml(item['subtitle'])\n",
    " #       naverpubdate = cleanhtml(item['pubDate'])\n",
    " #       naveractor = cleanhtml(item['actor'])\n",
    "        naverlink = cleanhtml(item['link']) # 있어야함\n",
    "        naverdirecter=cleanhtml(item['director'])\n",
    "        naveruserScore = cleanhtml(item['userRating'])\n",
    " \n",
    "        navertitle1 = navertitle.replace(\" \",\"\")\n",
    "        navertitle1 = navertitle1.replace(\"-\", \",\")\n",
    "        navertitle1 = navertitle1.replace(\":\", \",\")\n",
    " \n",
    "        spScore = getSpecialScore(naverlink)  #기자 평론가 평점을 얻어 옵니다\n",
    "        \n",
    "        naverid = re.split(\"code=\", naverlink)[1]  #네이버가 다루는 영화 고유 ID를 얻어 옵니다\n",
    "   #     print('naveruserScore',naveruserScore)\n",
    "#         print(naveruserScore)\n",
    "#         print(type(naveruserScore))\n",
    "        a[naverdirecter[:3]] = naveruserScore\n",
    "      #  print(naverid, navertitle,naveruserScore, spScore)\n",
    "#         print(index, navertitle, naversubtitle, naveruserScore, spScore)\n",
    "    return a"
   ]
  },
  {
   "cell_type": "code",
   "execution_count": null,
   "metadata": {},
   "outputs": [],
   "source": []
  },
  {
   "cell_type": "code",
   "execution_count": null,
   "metadata": {},
   "outputs": [],
   "source": [
    "def getInfoFromNaver(searchTitle):\n",
    "    items = searchByTitle(searchTitle)\n",
    " \n",
    "    if (items != None):\n",
    "        b = findItemByInput(items)\n",
    "    else:\n",
    "        print(\"No result\") \n",
    "    \n",
    "    print(b)\n",
    "    return b"
   ]
  },
  {
   "cell_type": "code",
   "execution_count": null,
   "metadata": {},
   "outputs": [],
   "source": [
    "def get_soup(url):\n",
    "    source_code = requests.get(url)\n",
    "    plain_text = source_code.text\n",
    "    soup = BeautifulSoup(plain_text, 'lxml')\n",
    "    return soup\n",
    " \n",
    "#기자 평론가 평점을 얻어 옵니다\n",
    "def getSpecialScore(URL):\n",
    "    soup = get_soup(URL)\n",
    "    scorearea = soup.find_all('div', \"spc_score_area\")\n",
    "    newsoup = BeautifulSoup(str(scorearea), 'lxml')\n",
    "    score = newsoup.find_all('em')\n",
    "    if (score and len(score) > 5):\n",
    "        scoreis = score[1].text + score[2].text + score[3].text + score[4].text\n",
    "        return float(scoreis)\n",
    "    else:\n",
    "        return 0.0"
   ]
  },
  {
   "cell_type": "code",
   "execution_count": null,
   "metadata": {},
   "outputs": [],
   "source": [
    "i = movie_code_list_all['movieNm'][1]"
   ]
  },
  {
   "cell_type": "code",
   "execution_count": null,
   "metadata": {},
   "outputs": [],
   "source": [
    "name=movie_code_list_all.iloc[3,3]\n",
    "name"
   ]
  },
  {
   "cell_type": "code",
   "execution_count": null,
   "metadata": {},
   "outputs": [],
   "source": [
    "b=[]\n",
    "# for r in tqdm_notebook(range(3,4)):\n",
    "# print('r = ',r)\n",
    "\n",
    "name=movie_code_list_all['movieNm'][2]\n",
    "print('name = ',name)  \n",
    "\n",
    "#     a = getInfoFromNaver(name)   #이 값을 변수에 넣을 수가 없음 ㅠㅠ 대입이 안됨\n",
    "\n",
    "items = searchByTitle(name)\n",
    "for i in range(len(items)):\n",
    "    print(\"%d : %s\",i, items)\n",
    "    if (items != None):\n",
    "        b.append(findItemByInput(items))\n",
    "    else:\n",
    "        print(\"No result\")\n",
    "\n",
    "# movie_code_list_all"
   ]
  },
  {
   "cell_type": "code",
   "execution_count": null,
   "metadata": {},
   "outputs": [],
   "source": [
    "b"
   ]
  },
  {
   "cell_type": "code",
   "execution_count": null,
   "metadata": {},
   "outputs": [],
   "source": [
    "c = {}\n",
    "for r in tqdm_notebook(range(10)):\n",
    "    print('r = ',r)\n",
    "    \n",
    "    name=movie_code_list_all['movieNm'][r]\n",
    "    print('name = ',name)  \n",
    "    \n",
    "    c[name] = getInfoFromNaver(name)    #이 값을 변수에 넣을 수가 없음 ㅠㅠ 대입이 안됨"
   ]
  },
  {
   "cell_type": "code",
   "execution_count": null,
   "metadata": {},
   "outputs": [],
   "source": [
    "c"
   ]
  },
  {
   "cell_type": "code",
   "execution_count": null,
   "metadata": {},
   "outputs": [],
   "source": [
    "movie_code_list_all['movieNm']"
   ]
  },
  {
   "cell_type": "code",
   "execution_count": null,
   "metadata": {},
   "outputs": [],
   "source": [
    "type(movie_code_list_all)"
   ]
  },
  {
   "cell_type": "code",
   "execution_count": null,
   "metadata": {},
   "outputs": [],
   "source": [
    "for i in range(0,len(c)):\n",
    "    m_Nm = movie_code_list_all[i]['movieNm']\n",
    "    m_dr = movie_code_list_all[i]['director']\n",
    "    if(movie_code_list_all[i]['Rate'] == 0):\n",
    "        for j in range(0, len(c[m_Nm])):\n",
    "            if(m_dr[:3] == c[m_Nm][m_dr[:3]]):\n",
    "                movie_code_list_all[i]['Rate'] = c[m_Nm][j]\n",
    "            else:\n",
    "                movie_code_list_all[i]['Rate'] = 0\n",
    "                "
   ]
  },
  {
   "cell_type": "code",
   "execution_count": null,
   "metadata": {},
   "outputs": [],
   "source": [
    "movie_code_list_all"
   ]
  },
  {
   "cell_type": "code",
   "execution_count": null,
   "metadata": {},
   "outputs": [],
   "source": [
    "############### 네이버 api로 별점 추출, def 이용_2\n",
    "import os\n",
    "import sys\n",
    "import urllib.request\n",
    "import json\n",
    "\n",
    "client_id = \"nA8Iwm4HJ6EM2W1dueU9\"\n",
    "client_secret = \"HaEPQCPbyQ\"\n",
    "\n",
    "with open('movie_info.txt', 'w', encoding='utf-8') as outfile:   \n",
    "    json.dump(movie_info, outfile, ensure_ascii=False)\n",
    "\n",
    "from IPython.display import clear_output\n",
    "\n",
    "def naver_starscore():\n",
    "    for i in tqdm_notebook(range(len(movie_code_list_all))) : \n",
    "        url = 'https://openapi.naver.com/v1/search/movie.json'\n",
    "        dic = {\n",
    "            'query' : movie_code_list_all.iloc[i, 3],\n",
    "            'display' : 100\n",
    "        }\n",
    "\n",
    "        headers = {\n",
    "            'X-Naver-Client-Id' : 'API Client ID',\n",
    "            'X-Naver-Client-Secret' : 'API Client Secret'\n",
    "        }\n",
    "        \n",
    "        request = requests.get(url, headers=headers, dic=payload)        \n",
    "        response = urllib.request.urlopen(request)\n",
    "        rescode = response.getcode()\n",
    "        \n",
    "        if(rescode==200):\n",
    "            response_body = response.read()\n",
    "            js_naver = json.loads(response_body)\n",
    "            print(l, 'th = request success')\n",
    "            print('js_naver = \\n', js_naver)\n",
    "\n",
    "            if js_naver['total']==1: #영화명 1개, 별점 추출                \n",
    "                if movie_code_list_all.iloc[l,3].replace(' ', '') == js_naver['items'][0]['title'][3:-4].replace(' ', ''):\n",
    "                    movie_code_list_all.iloc[l,0] = js_naver['items'][0]['userRating']\n",
    "                    print(' 영화명1개, 일치,  okokokokkok')\n",
    "                else:                \n",
    "                    print(' 영화명1개, 불일치')\n",
    "\n",
    "            else:  #영화명 여러개 \n",
    "             #   print('js_naver[items].count(title) = ',js_naver['items'].count('title'))\n",
    "                for j in range(1,js_naver['items'].count('title')):\n",
    "                 #   print('j = ', j)\n",
    "                    for k in range(80):\n",
    "                 #       print('k = ',k)\n",
    "              #          print('js_naver director =',js_naver['items'][j]['director'][:3],'movie_code_list_all.iloc[k,1] = ',movie_code_list_all.iloc[k,1])\n",
    "                        if js_naver['items'][j]['director'][:3] == movie_code_list_all.iloc[k,1]:                        \n",
    "                            movie_code_list_all.iloc[l,0] = js_naver['items'][0]['userRating']\n",
    "                #            print('영화여러개, 감독 일치, okokokok')\n",
    "                        else:\n",
    "                            movie_code_list_all.iloc[l,0] = 0\n",
    "                   #         print('영화여러개, 감독불일치, 별점 0')\n",
    "        else:\n",
    "            print(\"Error Code:\" + rescode)"
   ]
  },
  {
   "cell_type": "code",
   "execution_count": null,
   "metadata": {},
   "outputs": [],
   "source": [
    "movie_code_list_all"
   ]
  },
  {
   "cell_type": "code",
   "execution_count": null,
   "metadata": {},
   "outputs": [],
   "source": [
    "############### 네이버 api로 별점 추출, display = 100 으로 수정중\n",
    "import os\n",
    "import sys\n",
    "import urllib.request\n",
    "\n",
    "client_id = \"nA8Iwm4HJ6EM2W1dueU9\"\n",
    "client_secret = \"HaEPQCPbyQ\"\n",
    "\n",
    "with open('movie_info.txt', 'w', encoding='utf-8') as outfile:   \n",
    "    json.dump(movie_info, outfile, ensure_ascii=False)\n",
    "\n",
    "for i in tqdm_notebook(range(len(movie_code_list_all))) :  \n",
    "    url = 'https://openapi.naver.com/v1/search/movie.json'\n",
    "    dic = {\n",
    "        'query' : movie_code_list_all.iloc[i, 3],\n",
    "         'display' : 100\n",
    "    }\n",
    "    headers = {\n",
    "         'X-Naver-Client-Id' : 'API Client ID',\n",
    "          'X-Naver-Client-Secret' : 'API Client Secret'\n",
    "       }    \n",
    "    request = requests.get(url, headers=headers, params=dic)\n",
    "    response = urllib.request.urlopen(request)\n",
    "    rescode = response.getcode()        \n",
    "    \n",
    "    if(rescode==200):\n",
    "        response_body = response.read()\n",
    "        js_naver = json.loads(response_body)\n",
    "        print(l, 'th = request success')\n",
    "        print('js_naver = \\n', js_naver)\n",
    "        \n",
    "        if js_naver['total']==1: #영화명 1개, 별점 추출                \n",
    "            if movie_code_list_all.iloc[l,3].replace(' ', '') == js_naver['items'][0]['title'][3:-4].replace(' ', ''):\n",
    "                movie_code_list_all.iloc[l,0] = js_naver['items'][0]['userRating']\n",
    "                print(' 영화명1개, 일치,  okokokokkok')\n",
    "            else:                \n",
    "                print(' 영화명1개, 불일치')\n",
    "                \n",
    "        else:  #영화명 여러개 \n",
    "            print('js_naver[items].count(title) = ',js_naver['items'].count('title'))\n",
    "            for j in range(1,js_naver['items'].count('title')):\n",
    "                print('j = ', j)\n",
    "                for k in range(80):\n",
    "                    print('k = ',k)\n",
    "                    print('js_naver director =',js_naver['items'][j]['director'][:3],'movie_code_list_all.iloc[k,1] = ',movie_code_list_all.iloc[k,1])\n",
    "                    if js_naver['items'][j]['director'][:3] == movie_code_list_all.iloc[k,1]:                        \n",
    "                        movie_code_list_all.iloc[l,0] = js_naver['items'][0]['userRating']\n",
    "            #            print('영화여러개, 감독 일치, okokokok')\n",
    "                    else:\n",
    "                        movie_code_list_all.iloc[l,0] = 0\n",
    "               #         print('영화여러개, 감독불일치, 별점 0')\n",
    "    else:\n",
    "        print(\"Error Code:\" + rescode)"
   ]
  },
  {
   "cell_type": "code",
   "execution_count": null,
   "metadata": {},
   "outputs": [],
   "source": [
    "movie_code_list_all"
   ]
  },
  {
   "cell_type": "code",
   "execution_count": null,
   "metadata": {},
   "outputs": [],
   "source": [
    "############### 네이버 api로 별점 추출, display=10\n",
    "import os\n",
    "import sys\n",
    "import urllib.request\n",
    "\n",
    "client_id = \"nA8Iwm4HJ6EM2W1dueU9\"\n",
    "client_secret = \"HaEPQCPbyQ\"\n",
    "\n",
    "with open('movie_info.txt', 'w', encoding='utf-8') as outfile:   \n",
    "    json.dump(movie_info, outfile, ensure_ascii=False)\n",
    "\n",
    "for l in tqdm_notebook(range(len(movie_code_list_all))):\n",
    "    m=movie_code_list_all.iloc[l,3] #영화명이 iloc[l,3]\n",
    "    encText = urllib.parse.quote(m)\n",
    "    url = \"https://openapi.naver.com/v1/search/movie.json?query=\" + encText # json 결과\n",
    "    request = urllib.request.Request(url)\n",
    "    request.add_header(\"X-Naver-Client-Id\",client_id)\n",
    "    request.add_header(\"X-Naver-Client-Secret\",client_secret)\n",
    "    response = urllib.request.urlopen(request)\n",
    "    rescode = response.getcode()\n",
    "    \n",
    "    if(rescode==200):\n",
    "        response_body = response.read()\n",
    "        js_naver = json.loads(response_body)\n",
    "        print(l, 'th = request success')\n",
    "        print('js_naver = \\n', js_naver)\n",
    "        \n",
    "        if js_naver['total']==1: #영화명 1개, 별점 추출                \n",
    "            if movie_code_list_all.iloc[l,3].replace(' ', '') == js_naver['items'][0]['title'][3:-4].replace(' ', ''):\n",
    "                movie_code_list_all.iloc[l,0] = js_naver['items'][0]['userRating']\n",
    "                print(' 영화명1개, 일치,  okokokokkok')\n",
    "            else:                \n",
    "                print(' 영화명1개, 불일치')\n",
    "                \n",
    "        else:  #영화명 여러개 \n",
    "            print('js_naver[items].count(title) = ',js_naver['items'].count('title'))\n",
    "            for j in range(1,js_naver['items'].count('title')):\n",
    "                print('j = ', j)\n",
    "                for k in range(80):\n",
    "                    print('k = ',k)\n",
    "                    print('js_naver director =',js_naver['items'][j]['director'][:3],'movie_code_list_all.iloc[k,1] = ',movie_code_list_all.iloc[k,1])\n",
    "                    if js_naver['items'][j]['director'][:3] == movie_code_list_all.iloc[k,1]:                        \n",
    "                        movie_code_list_all.iloc[l,0] = js_naver['items'][0]['userRating']\n",
    "            #            print('영화여러개, 감독 일치, okokokok')\n",
    "                    else:\n",
    "                        movie_code_list_all.iloc[l,0] = 0\n",
    "               #         print('영화여러개, 감독불일치, 별점 0')\n",
    "    else:\n",
    "        print(\"Error Code:\" + rescode)"
   ]
  },
  {
   "cell_type": "code",
   "execution_count": null,
   "metadata": {},
   "outputs": [],
   "source": [
    "movie_code_list_all"
   ]
  },
  {
   "cell_type": "code",
   "execution_count": null,
   "metadata": {},
   "outputs": [],
   "source": [
    "movie_code_list_all.to_csv(\"movie_code_list_all.csv\", index=False)"
   ]
  }
 ],
 "metadata": {
  "kernelspec": {
   "display_name": "Python 3",
   "language": "python",
   "name": "python3"
  },
  "language_info": {
   "codemirror_mode": {
    "name": "ipython",
    "version": 3
   },
   "file_extension": ".py",
   "mimetype": "text/x-python",
   "name": "python",
   "nbconvert_exporter": "python",
   "pygments_lexer": "ipython3",
   "version": "3.6.7"
  }
 },
 "nbformat": 4,
 "nbformat_minor": 2
}

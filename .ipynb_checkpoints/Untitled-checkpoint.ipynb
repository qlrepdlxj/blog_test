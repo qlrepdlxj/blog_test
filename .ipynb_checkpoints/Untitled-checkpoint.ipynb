{
 "cells": [
  {
   "cell_type": "code",
   "execution_count": 2,
   "metadata": {},
   "outputs": [],
   "source": [
    "import pandas as pd\n",
    "import numpy as np\n",
    "import csv"
   ]
  },
  {
   "cell_type": "code",
   "execution_count": 4,
   "metadata": {},
   "outputs": [],
   "source": [
    "f = open('201701.csv', 'r', encoding='utf-8')\n",
    "rdr = csv.reader(f)\n",
    "# for line in rdr:\n",
    "#     print(line)\n",
    "f.close()    "
   ]
  },
  {
   "cell_type": "code",
   "execution_count": 41,
   "metadata": {},
   "outputs": [
    {
     "name": "stdout",
     "output_type": "stream",
     "text": [
      "20170101 마스터 506299\n",
      "20170101 로그 원: 스타워즈 스토리 173451\n",
      "20170101 씽 115152\n",
      "20170101 판도라 87966\n",
      "20170101 라라랜드 87529\n",
      "20170101 너의 이름은. 37418\n",
      "20170101 루돌프와 많이있어 29910\n",
      "20170101 포켓몬 더 무비 XY&Z 「볼케니온 : 기계왕국의 비밀」 19405\n",
      "20170101 당신, 거기 있어줄래요 18630\n",
      "20170101 극장판 도라에몽: 신 진구의 버스 오브 재팬 3552\n",
      "20170102 마스터 183423\n",
      "20170102 씽 70667\n",
      "20170102 로그 원: 스타워즈 스토리 49916\n",
      "20170102 라라랜드 45780\n",
      "20170102 판도라 38072\n",
      "20170102 루돌프와 많이있어 19063\n",
      "20170102 당신, 거기 있어줄래요 10133\n",
      "20170102 포켓몬 더 무비 XY&Z 「볼케니온 : 기계왕국의 비밀」 9156\n",
      "20170102 해리가 샐리를 만났을 때 1507\n",
      "20170102 나, 다니엘 블레이크 1362\n",
      "20170103 마스터 135859\n",
      "20170103 씽 70773\n",
      "20170103 라라랜드 41085\n",
      "20170103 로그 원: 스타워즈 스토리 35485\n",
      "20170103 판도라 27605\n",
      "20170103 루돌프와 많이있어 20377\n",
      "20170103 포켓몬 더 무비 XY&Z 「볼케니온 : 기계왕국의 비밀」 9079\n",
      "20170103 당신, 거기 있어줄래요 8951\n",
      "20170103 나, 다니엘 블레이크 3091\n",
      "20170103 7년-그들이 없는 언론 2051\n",
      "20170104 너의 이름은. 138028\n",
      "20170104 마스터 102362\n",
      "20170104 패신저스 85044\n",
      "20170104 사랑하기 때문에 44941\n",
      "20170104 씽 44224\n",
      "20170104 눈의 여왕 3: 눈과 불의 마법대결 34965\n",
      "20170104 라라랜드 25457\n",
      "20170104 여교사 19575\n",
      "20170104 로그 원: 스타워즈 스토리 17103\n",
      "20170104 판도라 12620\n",
      "20170105 너의 이름은. 132463\n",
      "20170105 마스터 92234\n",
      "20170105 패신저스 67929\n",
      "20170105 씽 41738\n",
      "20170105 사랑하기 때문에 36355\n",
      "20170105 눈의 여왕 3: 눈과 불의 마법대결 34484\n",
      "20170105 라라랜드 24059\n",
      "20170105 여교사 16513\n",
      "20170105 로그 원: 스타워즈 스토리 15460\n",
      "20170105 판도라 11481\n",
      "20170106 너의 이름은. 169402\n",
      "20170106 마스터 105235\n",
      "20170106 패신저스 72707\n",
      "20170106 씽 40419\n",
      "20170106 사랑하기 때문에 34492\n",
      "20170106 눈의 여왕 3: 눈과 불의 마법대결 33216\n",
      "20170106 라라랜드 28540\n",
      "20170106 로그 원: 스타워즈 스토리 18632\n",
      "20170106 여교사 14947\n",
      "20170106 판도라 11450\n",
      "20170107 너의 이름은. 335325\n",
      "20170107 마스터 236394\n",
      "20170107 패신저스 148502\n",
      "20170107 씽 74686\n",
      "20170107 눈의 여왕 3: 눈과 불의 마법대결 69879\n",
      "20170107 사랑하기 때문에 57846\n",
      "20170107 라라랜드 48729\n",
      "20170107 로그 원: 스타워즈 스토리 38850\n",
      "20170107 판도라 21657\n",
      "20170107 여교사 18450\n",
      "20170108 너의 이름은. 333008\n",
      "20170108 마스터 220974\n",
      "20170108 패신저스 129810\n",
      "20170108 씽 68237\n",
      "20170108 눈의 여왕 3: 눈과 불의 마법대결 67605\n",
      "20170108 사랑하기 때문에 53856\n",
      "20170108 라라랜드 42658\n",
      "20170108 로그 원: 스타워즈 스토리 33704\n",
      "20170108 판도라 20971\n",
      "20170108 여교사 13516\n",
      "20170109 너의 이름은. 154781\n",
      "20170109 마스터 65323\n",
      "20170109 패신저스 36992\n",
      "20170109 씽 21302\n",
      "20170109 라라랜드 21210\n",
      "20170109 사랑하기 때문에 20277\n",
      "20170109 눈의 여왕 3: 눈과 불의 마법대결 17324\n",
      "20170109 로그 원: 스타워즈 스토리 9818\n",
      "20170109 여교사 8165\n",
      "20170109 판도라 6682\n",
      "20170110 너의 이름은. 150777\n",
      "20170110 마스터 62635\n",
      "20170110 패신저스 33095\n",
      "20170110 라라랜드 27160\n",
      "20170110 씽 25162\n",
      "20170110 눈의 여왕 3: 눈과 불의 마법대결 21843\n",
      "20170110 사랑하기 때문에 20444\n",
      "20170110 로그 원: 스타워즈 스토리 10621\n",
      "20170110 여교사 8330\n",
      "20170110 판도라 6870\n",
      "20170111 너의 이름은. 140350\n",
      "20170111 어쌔신 크리드 60851\n",
      "20170111 마스터 54670\n",
      "20170111 얼라이드 43776\n",
      "20170111 라라랜드 21988\n",
      "20170111 씽 19209\n",
      "20170111 패신저스 17473\n",
      "20170111 눈의 여왕 3: 눈과 불의 마법대결 15370\n",
      "20170111 사랑하기 때문에 8989\n",
      "20170111 반지의 제왕 : 반지원정대 (확장판) 5099\n",
      "20170112 너의 이름은. 121478\n",
      "20170112 모아나 84797\n",
      "20170112 마스터 46151\n",
      "20170112 얼라이드 43512\n",
      "20170112 어쌔신 크리드 41422\n",
      "20170112 라라랜드 17385\n",
      "20170112 패신저스 11093\n",
      "20170112 씽 9271\n",
      "20170112 눈의 여왕 3: 눈과 불의 마법대결 9076\n",
      "20170112 사랑하기 때문에 6741\n",
      "20170113 너의 이름은. 148996\n",
      "20170113 모아나 84390\n",
      "20170113 마스터 52777\n",
      "20170113 얼라이드 51445\n",
      "20170113 어쌔신 크리드 43164\n",
      "20170113 라라랜드 21825\n",
      "20170113 패신저스 12752\n",
      "20170113 씽 8708\n",
      "20170113 눈의 여왕 3: 눈과 불의 마법대결 7863\n",
      "20170113 사랑하기 때문에 6433\n",
      "20170114 너의 이름은. 292247\n",
      "20170114 모아나 243738\n",
      "20170114 마스터 120563\n",
      "20170114 얼라이드 101641\n",
      "20170114 어쌔신 크리드 86776\n",
      "20170114 라라랜드 45303\n",
      "20170114 패신저스 21708\n",
      "20170114 씽 19241\n",
      "20170114 눈의 여왕 3: 눈과 불의 마법대결 16679\n",
      "20170114 사랑하기 때문에 10814\n",
      "20170115 너의 이름은. 298280\n",
      "20170115 모아나 255212\n",
      "20170115 마스터 111003\n",
      "20170115 얼라이드 93567\n",
      "20170115 어쌔신 크리드 72083\n",
      "20170115 라라랜드 40288\n",
      "20170115 씽 18093\n",
      "20170115 패신저스 17377\n",
      "20170115 눈의 여왕 3: 눈과 불의 마법대결 15766\n",
      "20170115 사랑하기 때문에 9683\n",
      "20170116 너의 이름은. 97566\n",
      "20170116 모아나 64650\n",
      "20170116 마스터 37009\n",
      "20170116 얼라이드 36848\n",
      "20170116 어쌔신 크리드 20210\n",
      "20170116 라라랜드 17258\n",
      "20170116 패신저스 5778\n",
      "20170116 사랑하기 때문에 4433\n",
      "20170116 씽 4431\n",
      "20170116 눈의 여왕 3: 눈과 불의 마법대결 2962\n",
      "20170117 너의 이름은. 93300\n",
      "20170117 모아나 76621\n",
      "20170117 마스터 35981\n",
      "20170117 얼라이드 34506\n",
      "20170117 라라랜드 17977\n",
      "20170117 어쌔신 크리드 16999\n",
      "20170117 씽 6390\n",
      "20170117 패신저스 5624\n",
      "20170117 눈의 여왕 3: 눈과 불의 마법대결 5273\n",
      "20170117 사랑하기 때문에 4607\n",
      "20170118 더 킹 288966\n",
      "20170118 공조 151845\n",
      "20170118 너의 이름은. 58068\n",
      "20170118 터닝메카드W: 블랙미러의 부활 50159\n",
      "20170118 모아나 48075\n",
      "20170118 얼라이드 8918\n",
      "20170118 라라랜드 8833\n",
      "20170118 마스터 5939\n",
      "20170118 반지의 제왕 : 두개의 탑 (확장판) 3237\n",
      "20170118 눈의 여왕 3: 눈과 불의 마법대결 2343\n",
      "20170119 더 킹 238039\n",
      "20170119 공조 141569\n",
      "20170119 너의 이름은. 53380\n",
      "20170119 모아나 53001\n",
      "20170119 터닝메카드W: 블랙미러의 부활 27622\n",
      "20170119 라라랜드 9337\n",
      "20170119 얼라이드 8125\n",
      "20170119 마스터 4799\n",
      "20170119 반지의 제왕 : 두개의 탑 (확장판) 3048\n",
      "20170119 단지 세상의 끝 2569\n",
      "20170120 더 킹 261528\n",
      "20170120 공조 160116\n",
      "20170120 너의 이름은. 55958\n",
      "20170120 모아나 48522\n",
      "20170120 터닝메카드W: 블랙미러의 부활 18988\n",
      "20170120 라라랜드 10966\n",
      "20170120 얼라이드 9058\n",
      "20170120 마스터 4783\n",
      "20170120 반지의 제왕 : 두개의 탑 (확장판) 3279\n",
      "20170120 단지 세상의 끝 2019\n",
      "20170121 더 킹 524841\n",
      "20170121 공조 333625\n",
      "20170121 모아나 141432\n",
      "20170121 너의 이름은. 107103\n",
      "20170121 터닝메카드W: 블랙미러의 부활 97501\n",
      "20170121 라라랜드 18699\n",
      "20170121 얼라이드 14237\n",
      "20170121 마스터 7865\n",
      "20170121 반지의 제왕 : 두개의 탑 (확장판) 5044\n",
      "20170121 단지 세상의 끝 2628\n",
      "20170122 더 킹 525513\n",
      "20170122 공조 352228\n",
      "20170122 모아나 145485\n",
      "20170122 너의 이름은. 97603\n",
      "20170122 터닝메카드W: 블랙미러의 부활 80707\n",
      "20170122 라라랜드 16278\n",
      "20170122 얼라이드 12089\n",
      "20170122 마스터 5997\n",
      "20170122 반지의 제왕 : 두개의 탑 (확장판) 4732\n",
      "20170122 단지 세상의 끝 2713\n",
      "20170123 더 킹 163491\n",
      "20170123 공조 138338\n",
      "20170123 모아나 40440\n",
      "20170123 너의 이름은. 40227\n",
      "20170123 터닝메카드W: 블랙미러의 부활 9910\n",
      "20170123 라라랜드 8829\n",
      "20170123 얼라이드 6012\n",
      "20170123 마스터 2564\n",
      "20170123 반지의 제왕 : 두개의 탑 (확장판) 2180\n",
      "20170123 단지 세상의 끝 1539\n",
      "20170124 더 킹 156749\n",
      "20170124 공조 135694\n",
      "20170124 모아나 50077\n",
      "20170124 너의 이름은. 41488\n",
      "20170124 터닝메카드W: 블랙미러의 부활 10875\n",
      "20170124 라라랜드 9377\n",
      "20170124 얼라이드 6427\n",
      "20170124 반지의 제왕 : 두개의 탑 (확장판) 3037\n",
      "20170124 마스터 2824\n",
      "20170124 단지 세상의 끝 1675\n",
      "20170125 더 킹 199750\n",
      "20170125 공조 193551\n",
      "20170125 레지던트 이블: 파멸의 날 71038\n",
      "20170125 모아나 45856\n",
      "20170125 너의 이름은. 39161\n",
      "20170125 딥워터 호라이즌 12845\n",
      "20170125 라라랜드 9443\n",
      "20170125 짱구는 못말려 극장판: 폭풍수면! 꿈꾸는 세계 대돌격 8967\n",
      "20170125 터닝메카드W: 블랙미러의 부활 6112\n",
      "20170125 얼라이드 3858\n",
      "20170126 공조 238425\n",
      "20170126 더 킹 212532\n",
      "20170126 레지던트 이블: 파멸의 날 72754\n",
      "20170126 모아나 42954\n",
      "20170126 너의 이름은. 39450\n",
      "20170126 딥워터 호라이즌 13332\n",
      "20170126 라라랜드 12680\n",
      "20170126 짱구는 못말려 극장판: 폭풍수면! 꿈꾸는 세계 대돌격 7644\n",
      "20170126 터닝메카드W: 블랙미러의 부활 6920\n",
      "20170126 반지의 제왕 : 왕의 귀환 (확장판) 4547\n",
      "20170127 공조 472221\n",
      "20170127 더 킹 326785\n",
      "20170127 모아나 88759\n",
      "20170127 레지던트 이블: 파멸의 날 78851\n",
      "20170127 너의 이름은. 53932\n",
      "20170127 터닝메카드W: 블랙미러의 부활 18976\n",
      "20170127 라라랜드 16867\n",
      "20170127 딥워터 호라이즌 13037\n",
      "20170127 짱구는 못말려 극장판: 폭풍수면! 꿈꾸는 세계 대돌격 13025\n",
      "20170127 바다 탐험대 옥토넛 시즌4: 바다 괴물 대소동 6183\n",
      "20170128 공조 664830\n",
      "20170128 더 킹 429935\n",
      "20170128 모아나 83424\n",
      "20170128 레지던트 이블: 파멸의 날 83047\n",
      "20170128 너의 이름은. 45660\n",
      "20170128 라라랜드 19012\n",
      "20170128 딥워터 호라이즌 12832\n",
      "20170128 터닝메카드W: 블랙미러의 부활 10653\n",
      "20170128 짱구는 못말려 극장판: 폭풍수면! 꿈꾸는 세계 대돌격 10168\n",
      "20170128 얼라이드 6335\n",
      "20170129 공조 797994\n",
      "20170129 더 킹 493218\n",
      "20170129 모아나 126246\n",
      "20170129 레지던트 이블: 파멸의 날 103452\n",
      "20170129 너의 이름은. 55061\n",
      "20170129 터닝메카드W: 블랙미러의 부활 22616\n",
      "20170129 라라랜드 22454\n",
      "20170129 짱구는 못말려 극장판: 폭풍수면! 꿈꾸는 세계 대돌격 19385\n",
      "20170129 딥워터 호라이즌 14526\n",
      "20170129 바다 탐험대 옥토넛 시즌4: 바다 괴물 대소동 7940\n",
      "20170130 공조 761071\n",
      "20170130 더 킹 430477\n",
      "20170130 모아나 157236\n",
      "20170130 레지던트 이블: 파멸의 날 90436\n",
      "20170130 너의 이름은. 58556\n",
      "20170130 터닝메카드W: 블랙미러의 부활 32217\n",
      "20170130 짱구는 못말려 극장판: 폭풍수면! 꿈꾸는 세계 대돌격 27080\n",
      "20170130 라라랜드 23881\n",
      "20170130 딥워터 호라이즌 12235\n",
      "20170130 바다 탐험대 옥토넛 시즌4: 바다 괴물 대소동 11460\n",
      "20170131 공조 304003\n",
      "20170131 더 킹 144604\n",
      "20170131 레지던트 이블: 파멸의 날 47201\n",
      "20170131 모아나 47046\n",
      "20170131 너의 이름은. 28695\n",
      "20170131 라라랜드 12189\n",
      "20170131 딥워터 호라이즌 8520\n",
      "20170131 짱구는 못말려 극장판: 폭풍수면! 꿈꾸는 세계 대돌격 7734\n",
      "20170131 터닝메카드W: 블랙미러의 부활 6020\n",
      "20170131 얼라이드 3023\n"
     ]
    }
   ],
   "source": [
    "df = pd.read_csv('201701.csv', parse_dates=True)\n",
    "df.head(20)\n",
    "# if df['date'] == 20170101:\n",
    "#     print(df[0])\n",
    "df['date'][10]\n",
    "\n",
    "for i in range(0,31):\n",
    "    date = df['date'][10*i]\n",
    "    total = 0\n",
    "    movieNm = []\n",
    "    audiCnt = []\n",
    "    for j in  range(0,10):\n",
    "        total += df['audiCnt'][j+10*i]\n",
    "        movieNm = \n",
    "        print(df['date'][j+10*i],df['movieNm'][j+10*i], df['audiCnt'][j+10*i])\n"
   ]
  },
  {
   "cell_type": "code",
   "execution_count": 51,
   "metadata": {},
   "outputs": [
    {
     "data": {
      "text/html": [
       "<script type=\"text/javascript\">window.PlotlyConfig = {MathJaxConfig: 'local'};</script><script type=\"text/javascript\">if (window.MathJax) {MathJax.Hub.Config({SVG: {font: \"STIX-Web\"}});}</script><script>requirejs.config({paths: { 'plotly': ['https://cdn.plot.ly/plotly-latest.min']},});if(!window._Plotly) {require(['plotly'],function(plotly) {window._Plotly=plotly;});}</script>"
      ],
      "text/vnd.plotly.v1+html": [
       "<script type=\"text/javascript\">window.PlotlyConfig = {MathJaxConfig: 'local'};</script><script type=\"text/javascript\">if (window.MathJax) {MathJax.Hub.Config({SVG: {font: \"STIX-Web\"}});}</script><script>requirejs.config({paths: { 'plotly': ['https://cdn.plot.ly/plotly-latest.min']},});if(!window._Plotly) {require(['plotly'],function(plotly) {window._Plotly=plotly;});}</script>"
      ]
     },
     "metadata": {},
     "output_type": "display_data"
    },
    {
     "data": {
      "application/vnd.plotly.v1+json": {
       "config": {
        "linkText": "Export to plot.ly",
        "plotlyServerURL": "https://plot.ly",
        "showLink": true
       },
       "data": [
        {
         "type": "bar",
         "uid": "3865c23d-2800-48d1-9350-da2ea1368efe",
         "x": [
          1,
          2
         ],
         "y": [
          1,
          2
         ]
        }
       ],
       "layout": {}
      },
      "text/html": [
       "<div id=\"f06956ea-3c65-46c7-b18f-f953de99de25\" style=\"height: 525px; width: 100%;\" class=\"plotly-graph-div\"></div><script type=\"text/javascript\">require([\"plotly\"], function(Plotly) { window.PLOTLYENV=window.PLOTLYENV || {};window.PLOTLYENV.BASE_URL=\"https://plot.ly\";Plotly.newPlot(\"f06956ea-3c65-46c7-b18f-f953de99de25\", [{\"x\": [1, 2], \"y\": [1, 2], \"type\": \"bar\", \"uid\": \"476e407d-05b0-4284-ba2b-7a8eaa60aa34\"}], {}, {\"showLink\": true, \"linkText\": \"Export to plot.ly\", \"plotlyServerURL\": \"https://plot.ly\"})});</script><script type=\"text/javascript\">window.addEventListener(\"resize\", function(){window._Plotly.Plots.resize(document.getElementById(\"f06956ea-3c65-46c7-b18f-f953de99de25\"));});</script>"
      ],
      "text/vnd.plotly.v1+html": [
       "<div id=\"f06956ea-3c65-46c7-b18f-f953de99de25\" style=\"height: 525px; width: 100%;\" class=\"plotly-graph-div\"></div><script type=\"text/javascript\">require([\"plotly\"], function(Plotly) { window.PLOTLYENV=window.PLOTLYENV || {};window.PLOTLYENV.BASE_URL=\"https://plot.ly\";Plotly.newPlot(\"f06956ea-3c65-46c7-b18f-f953de99de25\", [{\"x\": [1, 2], \"y\": [1, 2], \"type\": \"bar\", \"uid\": \"476e407d-05b0-4284-ba2b-7a8eaa60aa34\"}], {}, {\"showLink\": true, \"linkText\": \"Export to plot.ly\", \"plotlyServerURL\": \"https://plot.ly\"})});</script><script type=\"text/javascript\">window.addEventListener(\"resize\", function(){window._Plotly.Plots.resize(document.getElementById(\"f06956ea-3c65-46c7-b18f-f953de99de25\"));});</script>"
      ]
     },
     "metadata": {},
     "output_type": "display_data"
    }
   ],
   "source": [
    "import plotly.offline as offline\n",
    "import plotly.graph_objs as go\n",
    "offline.init_notebook_mode(connected=True) \n",
    "trace = go.Bar(x=[1,2], y=[1,2]) \n",
    "data=[trace]\n",
    "offline.iplot(data)"
   ]
  },
  {
   "cell_type": "code",
   "execution_count": 34,
   "metadata": {},
   "outputs": [
    {
     "name": "stderr",
     "output_type": "stream",
     "text": [
      "/usr/local/lib/python3.6/dist-packages/IPython/core/interactiveshell.py:3020: DtypeWarning: Columns (8,39,46,47,48) have mixed types. Specify dtype option on import or set low_memory=False.\n",
      "  interactivity=interactivity, compiler=compiler, result=result)\n"
     ]
    },
    {
     "ename": "AttributeError",
     "evalue": "'Series' object has no attribute 'iplot'",
     "output_type": "error",
     "traceback": [
      "\u001b[0;31m---------------------------------------------------------------------------\u001b[0m",
      "\u001b[0;31mAttributeError\u001b[0m                            Traceback (most recent call last)",
      "\u001b[0;32m<ipython-input-34-6f6ba1f59e11>\u001b[0m in \u001b[0;36m<module>\u001b[0;34m\u001b[0m\n\u001b[1;32m      3\u001b[0m \u001b[0mseries\u001b[0m \u001b[0;34m=\u001b[0m \u001b[0mdf\u001b[0m\u001b[0;34m[\u001b[0m\u001b[0;34m'Complaint Type'\u001b[0m\u001b[0;34m]\u001b[0m\u001b[0;34m.\u001b[0m\u001b[0mvalue_counts\u001b[0m\u001b[0;34m(\u001b[0m\u001b[0;34m)\u001b[0m\u001b[0;34m[\u001b[0m\u001b[0;34m:\u001b[0m\u001b[0;36m20\u001b[0m\u001b[0;34m]\u001b[0m\u001b[0;34m\u001b[0m\u001b[0;34m\u001b[0m\u001b[0m\n\u001b[1;32m      4\u001b[0m \u001b[0mseries\u001b[0m\u001b[0;34m.\u001b[0m\u001b[0mhead\u001b[0m\u001b[0;34m(\u001b[0m\u001b[0;36m3\u001b[0m\u001b[0;34m)\u001b[0m\u001b[0;34m\u001b[0m\u001b[0;34m\u001b[0m\u001b[0m\n\u001b[0;32m----> 5\u001b[0;31m series.iplot(kind='bar', yTitle='Number of Complaints', title='NYC 311 Complaints',\n\u001b[0m\u001b[1;32m      6\u001b[0m              filename='cufflinks/categorical-bar-chart')\n",
      "\u001b[0;32m/usr/local/lib/python3.6/dist-packages/pandas/core/generic.py\u001b[0m in \u001b[0;36m__getattr__\u001b[0;34m(self, name)\u001b[0m\n\u001b[1;32m   4374\u001b[0m             \u001b[0;32mif\u001b[0m \u001b[0mself\u001b[0m\u001b[0;34m.\u001b[0m\u001b[0m_info_axis\u001b[0m\u001b[0;34m.\u001b[0m\u001b[0m_can_hold_identifiers_and_holds_name\u001b[0m\u001b[0;34m(\u001b[0m\u001b[0mname\u001b[0m\u001b[0;34m)\u001b[0m\u001b[0;34m:\u001b[0m\u001b[0;34m\u001b[0m\u001b[0;34m\u001b[0m\u001b[0m\n\u001b[1;32m   4375\u001b[0m                 \u001b[0;32mreturn\u001b[0m \u001b[0mself\u001b[0m\u001b[0;34m[\u001b[0m\u001b[0mname\u001b[0m\u001b[0;34m]\u001b[0m\u001b[0;34m\u001b[0m\u001b[0;34m\u001b[0m\u001b[0m\n\u001b[0;32m-> 4376\u001b[0;31m             \u001b[0;32mreturn\u001b[0m \u001b[0mobject\u001b[0m\u001b[0;34m.\u001b[0m\u001b[0m__getattribute__\u001b[0m\u001b[0;34m(\u001b[0m\u001b[0mself\u001b[0m\u001b[0;34m,\u001b[0m \u001b[0mname\u001b[0m\u001b[0;34m)\u001b[0m\u001b[0;34m\u001b[0m\u001b[0;34m\u001b[0m\u001b[0m\n\u001b[0m\u001b[1;32m   4377\u001b[0m \u001b[0;34m\u001b[0m\u001b[0m\n\u001b[1;32m   4378\u001b[0m     \u001b[0;32mdef\u001b[0m \u001b[0m__setattr__\u001b[0m\u001b[0;34m(\u001b[0m\u001b[0mself\u001b[0m\u001b[0;34m,\u001b[0m \u001b[0mname\u001b[0m\u001b[0;34m,\u001b[0m \u001b[0mvalue\u001b[0m\u001b[0;34m)\u001b[0m\u001b[0;34m:\u001b[0m\u001b[0;34m\u001b[0m\u001b[0;34m\u001b[0m\u001b[0m\n",
      "\u001b[0;31mAttributeError\u001b[0m: 'Series' object has no attribute 'iplot'"
     ]
    }
   ],
   "source": [
    "import plotly.offline as offline\n",
    "import plotly.graph_objs as go\n",
    "offline.init_notebook_mode(connected=True)\n",
    "\n",
    "import plotly.plotly as py\n",
    "import cufflinks as cf\n",
    "import pandas as pd\n",
    "import numpy as np\n",
    "\n",
    "df = pd.read_csv('201701.csv', parse_dates=True)\n",
    "# df.head(3)\n",
    "\n",
    "series = df[''].value_counts()[:20]\n",
    "series.head(3)\n",
    "series.iplot(kind='bar', yTitle='Number of Complaints', title='NYC 311 Complaints',\n",
    "             filename='cufflinks/categorical-bar-chart')"
   ]
  },
  {
   "cell_type": "code",
   "execution_count": null,
   "metadata": {},
   "outputs": [],
   "source": [
    "df = pd.DataFrame(np.random.rand(10, 4), columns=['A', 'B', 'C', 'D'])\n",
    "row = df.ix[5]\n",
    "row.iplot(kind='bar', filename='cufflinks/bar-chart-row')"
   ]
  },
  {
   "cell_type": "code",
   "execution_count": null,
   "metadata": {},
   "outputs": [],
   "source": [
    "df.iplot(kind='bar', filename='cufflinks/grouped-bar-chart')"
   ]
  },
  {
   "cell_type": "code",
   "execution_count": 47,
   "metadata": {},
   "outputs": [
    {
     "ename": "AttributeError",
     "evalue": "'DataFrame' object has no attribute 'iplot'",
     "output_type": "error",
     "traceback": [
      "\u001b[0;31m---------------------------------------------------------------------------\u001b[0m",
      "\u001b[0;31mAttributeError\u001b[0m                            Traceback (most recent call last)",
      "\u001b[0;32m<ipython-input-47-8ff2205fbf7c>\u001b[0m in \u001b[0;36m<module>\u001b[0;34m\u001b[0m\n\u001b[0;32m----> 1\u001b[0;31m \u001b[0mdf\u001b[0m\u001b[0;34m.\u001b[0m\u001b[0miplot\u001b[0m\u001b[0;34m(\u001b[0m\u001b[0mkind\u001b[0m\u001b[0;34m=\u001b[0m\u001b[0;34m'bar'\u001b[0m\u001b[0;34m,\u001b[0m \u001b[0mbarmode\u001b[0m\u001b[0;34m=\u001b[0m\u001b[0;34m'stack'\u001b[0m\u001b[0;34m,\u001b[0m \u001b[0mfilename\u001b[0m\u001b[0;34m=\u001b[0m\u001b[0;34m'cufflinks/grouped-bar-chart'\u001b[0m\u001b[0;34m)\u001b[0m\u001b[0;34m\u001b[0m\u001b[0;34m\u001b[0m\u001b[0m\n\u001b[0m",
      "\u001b[0;32m/usr/local/lib/python3.6/dist-packages/pandas/core/generic.py\u001b[0m in \u001b[0;36m__getattr__\u001b[0;34m(self, name)\u001b[0m\n\u001b[1;32m   4374\u001b[0m             \u001b[0;32mif\u001b[0m \u001b[0mself\u001b[0m\u001b[0;34m.\u001b[0m\u001b[0m_info_axis\u001b[0m\u001b[0;34m.\u001b[0m\u001b[0m_can_hold_identifiers_and_holds_name\u001b[0m\u001b[0;34m(\u001b[0m\u001b[0mname\u001b[0m\u001b[0;34m)\u001b[0m\u001b[0;34m:\u001b[0m\u001b[0;34m\u001b[0m\u001b[0;34m\u001b[0m\u001b[0m\n\u001b[1;32m   4375\u001b[0m                 \u001b[0;32mreturn\u001b[0m \u001b[0mself\u001b[0m\u001b[0;34m[\u001b[0m\u001b[0mname\u001b[0m\u001b[0;34m]\u001b[0m\u001b[0;34m\u001b[0m\u001b[0;34m\u001b[0m\u001b[0m\n\u001b[0;32m-> 4376\u001b[0;31m             \u001b[0;32mreturn\u001b[0m \u001b[0mobject\u001b[0m\u001b[0;34m.\u001b[0m\u001b[0m__getattribute__\u001b[0m\u001b[0;34m(\u001b[0m\u001b[0mself\u001b[0m\u001b[0;34m,\u001b[0m \u001b[0mname\u001b[0m\u001b[0;34m)\u001b[0m\u001b[0;34m\u001b[0m\u001b[0;34m\u001b[0m\u001b[0m\n\u001b[0m\u001b[1;32m   4377\u001b[0m \u001b[0;34m\u001b[0m\u001b[0m\n\u001b[1;32m   4378\u001b[0m     \u001b[0;32mdef\u001b[0m \u001b[0m__setattr__\u001b[0m\u001b[0;34m(\u001b[0m\u001b[0mself\u001b[0m\u001b[0;34m,\u001b[0m \u001b[0mname\u001b[0m\u001b[0;34m,\u001b[0m \u001b[0mvalue\u001b[0m\u001b[0;34m)\u001b[0m\u001b[0;34m:\u001b[0m\u001b[0;34m\u001b[0m\u001b[0;34m\u001b[0m\u001b[0m\n",
      "\u001b[0;31mAttributeError\u001b[0m: 'DataFrame' object has no attribute 'iplot'"
     ]
    }
   ],
   "source": [
    "df.iplot(kind='bar', barmode='stack', filename='cufflinks/grouped-bar-chart')"
   ]
  },
  {
   "cell_type": "code",
   "execution_count": 48,
   "metadata": {},
   "outputs": [
    {
     "data": {
      "text/html": [
       "<script type=\"text/javascript\">window.PlotlyConfig = {MathJaxConfig: 'local'};</script><script type=\"text/javascript\">if (window.MathJax) {MathJax.Hub.Config({SVG: {font: \"STIX-Web\"}});}</script><script>requirejs.config({paths: { 'plotly': ['https://cdn.plot.ly/plotly-latest.min']},});if(!window._Plotly) {require(['plotly'],function(plotly) {window._Plotly=plotly;});}</script>"
      ],
      "text/vnd.plotly.v1+html": [
       "<script type=\"text/javascript\">window.PlotlyConfig = {MathJaxConfig: 'local'};</script><script type=\"text/javascript\">if (window.MathJax) {MathJax.Hub.Config({SVG: {font: \"STIX-Web\"}});}</script><script>requirejs.config({paths: { 'plotly': ['https://cdn.plot.ly/plotly-latest.min']},});if(!window._Plotly) {require(['plotly'],function(plotly) {window._Plotly=plotly;});}</script>"
      ]
     },
     "metadata": {},
     "output_type": "display_data"
    },
    {
     "data": {
      "application/vnd.plotly.v1+json": {
       "config": {
        "linkText": "Export to plot.ly",
        "plotlyServerURL": "https://plot.ly",
        "showLink": true
       },
       "data": [
        {
         "type": "scatter",
         "uid": "f9d8315b-0036-4b72-95f6-11f3728738b4",
         "x": [
          1,
          2,
          3,
          4
         ],
         "y": [
          4,
          3,
          2,
          1
         ]
        }
       ],
       "layout": {
        "title": "hello world"
       }
      },
      "text/html": [
       "<div id=\"3429e06d-4abd-4d20-b5e4-5c1b1a9ce63e\" style=\"height: 525px; width: 100%;\" class=\"plotly-graph-div\"></div><script type=\"text/javascript\">require([\"plotly\"], function(Plotly) { window.PLOTLYENV=window.PLOTLYENV || {};window.PLOTLYENV.BASE_URL=\"https://plot.ly\";Plotly.newPlot(\"3429e06d-4abd-4d20-b5e4-5c1b1a9ce63e\", [{\"x\": [1, 2, 3, 4], \"y\": [4, 3, 2, 1], \"type\": \"scatter\", \"uid\": \"8d767cb0-f5fb-4fd7-aeca-22306ac11b70\"}], {\"title\": \"hello world\"}, {\"showLink\": true, \"linkText\": \"Export to plot.ly\", \"plotlyServerURL\": \"https://plot.ly\"})});</script><script type=\"text/javascript\">window.addEventListener(\"resize\", function(){window._Plotly.Plots.resize(document.getElementById(\"3429e06d-4abd-4d20-b5e4-5c1b1a9ce63e\"));});</script>"
      ],
      "text/vnd.plotly.v1+html": [
       "<div id=\"3429e06d-4abd-4d20-b5e4-5c1b1a9ce63e\" style=\"height: 525px; width: 100%;\" class=\"plotly-graph-div\"></div><script type=\"text/javascript\">require([\"plotly\"], function(Plotly) { window.PLOTLYENV=window.PLOTLYENV || {};window.PLOTLYENV.BASE_URL=\"https://plot.ly\";Plotly.newPlot(\"3429e06d-4abd-4d20-b5e4-5c1b1a9ce63e\", [{\"x\": [1, 2, 3, 4], \"y\": [4, 3, 2, 1], \"type\": \"scatter\", \"uid\": \"8d767cb0-f5fb-4fd7-aeca-22306ac11b70\"}], {\"title\": \"hello world\"}, {\"showLink\": true, \"linkText\": \"Export to plot.ly\", \"plotlyServerURL\": \"https://plot.ly\"})});</script><script type=\"text/javascript\">window.addEventListener(\"resize\", function(){window._Plotly.Plots.resize(document.getElementById(\"3429e06d-4abd-4d20-b5e4-5c1b1a9ce63e\"));});</script>"
      ]
     },
     "metadata": {},
     "output_type": "display_data"
    }
   ],
   "source": [
    "import plotly\n",
    "import plotly.graph_objs as go\n",
    "\n",
    "plotly.offline.init_notebook_mode(connected=True)\n",
    "\n",
    "plotly.offline.iplot(kind='bar', {\n",
    "    \"data\": [go.Scatter(x=[1, 2, 3, 4], y=[4, 3, 2, 1])],\n",
    "    \"layout\": go.Layout(title=\"hello world\")\n",
    "})"
   ]
  },
  {
   "cell_type": "code",
   "execution_count": null,
   "metadata": {},
   "outputs": [],
   "source": []
  }
 ],
 "metadata": {
  "kernelspec": {
   "display_name": "Python 3",
   "language": "python",
   "name": "python3"
  },
  "language_info": {
   "codemirror_mode": {
    "name": "ipython",
    "version": 3
   },
   "file_extension": ".py",
   "mimetype": "text/x-python",
   "name": "python",
   "nbconvert_exporter": "python",
   "pygments_lexer": "ipython3",
   "version": "3.6.7"
  }
 },
 "nbformat": 4,
 "nbformat_minor": 2
}

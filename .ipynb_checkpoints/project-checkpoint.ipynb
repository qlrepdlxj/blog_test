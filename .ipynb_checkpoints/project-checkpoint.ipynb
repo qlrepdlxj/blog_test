{
 "cells": [
  {
   "cell_type": "markdown",
   "metadata": {},
   "source": [
    "### 1. 데이터 분석 설계\n",
    "#### 1.1 주제 선정\n",
    "#### 1.2 용어 정리\n",
    "#### 1.3 가설 설정-----option\n",
    "##### 1.3.1 변수 선정(종속변수, 독립변수(분석변수, 파생변수))\n",
    "##### 1.3.2 분석 항목 선정(빈도, 상관관계 등)"
   ]
  },
  {
   "cell_type": "markdown",
   "metadata": {},
   "source": [
    "### 2. 데이터 준비\n",
    "#### 2.1 데이터 선정 및 수집\n",
    "#### 2.2 데이터의 형태 파악"
   ]
  },
  {
   "cell_type": "markdown",
   "metadata": {},
   "source": [
    "### 3. 데이터 가공\n",
    "#### 3.1 데이터 추출 및 정제\n",
    "#### 3.2 데이터 병합\n",
    "#### 3.3 데이터 포맷 변환\n",
    "#### 3.4 데이터를 DB에 삽입"
   ]
  },
  {
   "cell_type": "markdown",
   "metadata": {},
   "source": [
    "### 4. 데이터 활용\n",
    "#### 4.1 DB에서 데이터 추출\n",
    "#### 4.2 추출 데이터를 분석에 맞게 변환"
   ]
  },
  {
   "cell_type": "markdown",
   "metadata": {},
   "source": [
    "### 5. 데이터 분석\n",
    "#### 5.1 통계 분석\n",
    "#### 5.2 그래프 및 시각화"
   ]
  },
  {
   "cell_type": "markdown",
   "metadata": {},
   "source": [
    "### 6. 결론 도출\n",
    "#### 6.1 분석 결과 해석\n",
    "#### 6.2 분석 목적에 따른 결론 도출"
   ]
  },
  {
   "cell_type": "markdown",
   "metadata": {},
   "source": [
    "### LINK\n",
    "\n",
    "https://qlrepdlxj.github.io/blog_test/"
   ]
  },
  {
   "cell_type": "code",
   "execution_count": null,
   "metadata": {},
   "outputs": [],
   "source": []
  }
 ],
 "metadata": {
  "kernelspec": {
   "display_name": "Python 3",
   "language": "python",
   "name": "python3"
  },
  "language_info": {
   "codemirror_mode": {
    "name": "ipython",
    "version": 3
   },
   "file_extension": ".py",
   "mimetype": "text/x-python",
   "name": "python",
   "nbconvert_exporter": "python",
   "pygments_lexer": "ipython3",
   "version": "3.5.3"
  }
 },
 "nbformat": 4,
 "nbformat_minor": 2
}

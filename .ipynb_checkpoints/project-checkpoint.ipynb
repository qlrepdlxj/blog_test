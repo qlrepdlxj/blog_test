{
 "cells": [
  {
   "cell_type": "markdown",
   "metadata": {},
   "source": [
    "## 영화 빅데이터 분석"
   ]
  },
  {
   "cell_type": "markdown",
   "metadata": {},
   "source": [
    "### 1. 데이터 분석 설계\n",
    "\n",
    "\n",
    "#### 1.1 주제 선정\n",
    "\n",
    "> 오픈 API와 트위터 분석을 통해 영화의 흥행을 예측한다.\n",
    "\n",
    "#### 1.2 용어 정리\n",
    "\n",
    "> 용어 ~~~~~~\n",
    "\n",
    "#### 1.3 가설 설정-----option\n",
    "\n",
    "> 트위터 분석을 통해 특정 영화에 대한 긍정/부정 의견을 파악해 영화의 흥행여부를 파악\n",
    "\n",
    "##### 1.3.1 변수 선정(종속변수, 독립변수(분석변수, 파생변수))\n",
    "\n",
    "> movieNm = 영화제목, movieCd = 영화코드 ...\n",
    "\n",
    "##### 1.3.2 분석 항목 선정(빈도, 상관관계 등)\n",
    "\n",
    "> 트위터 검색량 & 긍정/부정 비율 & 관객수"
   ]
  },
  {
   "cell_type": "markdown",
   "metadata": {},
   "source": [
    "### 2. 데이터 준비\n",
    "\n",
    "#### 2.1 데이터 선정 및 수집\n",
    "\n",
    "> 영화진흥위원회의 오픈 API를 사용하여 과거의 데이터를 수집\n",
    "\n",
    "> 트위터 크롤링을 통해 영화와 관련된 내용 수집\n",
    "\n",
    "#### 2.2 데이터의 형태 파악\n",
    "\n",
    "> 오픈 API -> JSON 타입"
   ]
  },
  {
   "cell_type": "markdown",
   "metadata": {},
   "source": [
    "### 3. 데이터 가공\n",
    "#### 3.1 데이터 추출 및 정제\n",
    "\n",
    "> API 요청을 통해 일별 박스오피스 정보를 저장함\n",
    "\n",
    "> 트위터 크롤링을 통해 해당 영화에 대한 의견을 저장하고 해당 의견이 긍정인지 부정인지 파악함\n",
    "\n",
    "#### 3.2 데이터 병합\n",
    "\n",
    "> JSON 파일을 CSV 파일로 병합한 뒤 데이터베이스에 입력 \n",
    "\n",
    "#### 3.3 데이터 포맷 변환\n",
    "\n",
    "> 3.2의 과정에서 적절한 형식으로 데이터 변환\n",
    "\n",
    "#### 3.4 데이터를 DB에 삽입\n",
    "\n",
    "> CSV 파일을 데이터베이스에 삽입\n",
    "\n",
    "'''sql\n",
    "create database movie\n",
    "create user 'test'@'localhost' identified by '1234'\n",
    "grant all privileges on movie.* to 'test'@'localhost'\n",
    "'''"
   ]
  },
  {
   "cell_type": "code",
   "execution_count": 3,
   "metadata": {},
   "outputs": [
    {
     "ename": "SyntaxError",
     "evalue": "invalid syntax (<ipython-input-3-ee3c07af9278>, line 1)",
     "output_type": "error",
     "traceback": [
      "\u001b[0;36m  File \u001b[0;32m\"<ipython-input-3-ee3c07af9278>\"\u001b[0;36m, line \u001b[0;32m1\u001b[0m\n\u001b[0;31m    ```sql\u001b[0m\n\u001b[0m    ^\u001b[0m\n\u001b[0;31mSyntaxError\u001b[0m\u001b[0;31m:\u001b[0m invalid syntax\n"
     ]
    }
   ],
   "source": [
    "```sql\n",
    "CREATE TABLE T1 (\n",
    "  c1 int PRIMARY KEY,\n",
    "  c2 varchar(50) SPARSE NULL\n",
    ");\n",
    "```"
   ]
  },
  {
   "cell_type": "markdown",
   "metadata": {},
   "source": [
    "### 4. 데이터 활용\n",
    "#### 4.1 DB에서 데이터 추출\n",
    "#### 4.2 추출 데이터를 분석에 맞게 변환"
   ]
  },
  {
   "cell_type": "markdown",
   "metadata": {},
   "source": [
    "### 5. 데이터 분석\n",
    "#### 5.1 통계 분석\n",
    "#### 5.2 그래프 및 시각화\n",
    "\n",
    "> plotly 라이브러리를 사용하여 데이터 시각화"
   ]
  },
  {
   "cell_type": "markdown",
   "metadata": {},
   "source": [
    "### 6. 결론 도출\n",
    "#### 6.1 분석 결과 해석\n",
    "#### 6.2 분석 목적에 따른 결론 도출"
   ]
  },
  {
   "cell_type": "markdown",
   "metadata": {},
   "source": [
    "### LINK\n",
    "\n",
    "https://qlrepdlxj.github.io/blog_test/"
   ]
  },
  {
   "cell_type": "code",
   "execution_count": null,
   "metadata": {},
   "outputs": [],
   "source": []
  }
 ],
 "metadata": {
  "kernelspec": {
   "display_name": "Python 3",
   "language": "python",
   "name": "python3"
  },
  "language_info": {
   "codemirror_mode": {
    "name": "ipython",
    "version": 3
   },
   "file_extension": ".py",
   "mimetype": "text/x-python",
   "name": "python",
   "nbconvert_exporter": "python",
   "pygments_lexer": "ipython3",
   "version": "3.6.7"
  }
 },
 "nbformat": 4,
 "nbformat_minor": 2
}

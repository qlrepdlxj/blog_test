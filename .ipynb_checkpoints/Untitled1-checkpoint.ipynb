{
 "cells": [
  {
   "cell_type": "code",
   "execution_count": 29,
   "metadata": {},
   "outputs": [
    {
     "data": {
      "text/html": [
       "<script type=\"text/javascript\">window.PlotlyConfig = {MathJaxConfig: 'local'};</script><script type=\"text/javascript\">if (window.MathJax) {MathJax.Hub.Config({SVG: {font: \"STIX-Web\"}});}</script><script>requirejs.config({paths: { 'plotly': ['https://cdn.plot.ly/plotly-latest.min']},});if(!window._Plotly) {require(['plotly'],function(plotly) {window._Plotly=plotly;});}</script>"
      ],
      "text/vnd.plotly.v1+html": [
       "<script type=\"text/javascript\">window.PlotlyConfig = {MathJaxConfig: 'local'};</script><script type=\"text/javascript\">if (window.MathJax) {MathJax.Hub.Config({SVG: {font: \"STIX-Web\"}});}</script><script>requirejs.config({paths: { 'plotly': ['https://cdn.plot.ly/plotly-latest.min']},});if(!window._Plotly) {require(['plotly'],function(plotly) {window._Plotly=plotly;});}</script>"
      ]
     },
     "metadata": {},
     "output_type": "display_data"
    },
    {
     "data": {
      "text/plain": [
       "[1079312,\n",
       " 429079,\n",
       " 354356,\n",
       " 524319,\n",
       " 472716,\n",
       " 529040,\n",
       " 1050318,\n",
       " 984339,\n",
       " 361874,\n",
       " 366937,\n",
       " 387775,\n",
       " 390926,\n",
       " 438353,\n",
       " 958710,\n",
       " 931352,\n",
       " 291145,\n",
       " 297278,\n",
       " 626383,\n",
       " 541489,\n",
       " 575217,\n",
       " 1252975,\n",
       " 1243345,\n",
       " 413530,\n",
       " 418223,\n",
       " 590581,\n",
       " 651238,\n",
       " 1088636,\n",
       " 1365896,\n",
       " 1662892,\n",
       " 1604649,\n",
       " 609035]"
      ]
     },
     "execution_count": 29,
     "metadata": {},
     "output_type": "execute_result"
    }
   ],
   "source": [
    "import plotly.offline as offline\n",
    "import plotly.graph_objs as go\n",
    "import pandas as pd\n",
    "import datetime\n",
    "# import date\n",
    "\n",
    "offline.init_notebook_mode(connected=True) \n",
    "df = pd.read_csv('201701.csv', parse_dates=True)\n",
    "date = []\n",
    "list2 = []\n",
    "\n",
    "for i in range(0,31):\n",
    "    date.append(datetime.datetime.strptime(str(df['date'][10*i]),\"%Y%m%d\").date())\n",
    "    list1 = []\n",
    "    total=0\n",
    "    \n",
    "    for j in range(0,10):\n",
    "        total+=df['audiCnt'][j+10*i]\n",
    "        list1.append(df['audiCnt'][j+10*i])\n",
    "    \n",
    "    list2.append(total)\n",
    "list2"
   ]
  },
  {
   "cell_type": "code",
   "execution_count": 30,
   "metadata": {},
   "outputs": [
    {
     "data": {
      "text/plain": [
       "[datetime.date(2017, 1, 1),\n",
       " datetime.date(2017, 1, 2),\n",
       " datetime.date(2017, 1, 3),\n",
       " datetime.date(2017, 1, 4),\n",
       " datetime.date(2017, 1, 5),\n",
       " datetime.date(2017, 1, 6),\n",
       " datetime.date(2017, 1, 7),\n",
       " datetime.date(2017, 1, 8),\n",
       " datetime.date(2017, 1, 9),\n",
       " datetime.date(2017, 1, 10),\n",
       " datetime.date(2017, 1, 11),\n",
       " datetime.date(2017, 1, 12),\n",
       " datetime.date(2017, 1, 13),\n",
       " datetime.date(2017, 1, 14),\n",
       " datetime.date(2017, 1, 15),\n",
       " datetime.date(2017, 1, 16),\n",
       " datetime.date(2017, 1, 17),\n",
       " datetime.date(2017, 1, 18),\n",
       " datetime.date(2017, 1, 19),\n",
       " datetime.date(2017, 1, 20),\n",
       " datetime.date(2017, 1, 21),\n",
       " datetime.date(2017, 1, 22),\n",
       " datetime.date(2017, 1, 23),\n",
       " datetime.date(2017, 1, 24),\n",
       " datetime.date(2017, 1, 25),\n",
       " datetime.date(2017, 1, 26),\n",
       " datetime.date(2017, 1, 27),\n",
       " datetime.date(2017, 1, 28),\n",
       " datetime.date(2017, 1, 29),\n",
       " datetime.date(2017, 1, 30),\n",
       " datetime.date(2017, 1, 31)]"
      ]
     },
     "execution_count": 30,
     "metadata": {},
     "output_type": "execute_result"
    }
   ],
   "source": [
    "date"
   ]
  },
  {
   "cell_type": "code",
   "execution_count": 32,
   "metadata": {},
   "outputs": [
    {
     "data": {
      "application/vnd.plotly.v1+json": {
       "config": {
        "linkText": "Export to plot.ly",
        "plotlyServerURL": "https://plot.ly",
        "showLink": true
       },
       "data": [
        {
         "type": "bar",
         "uid": "7a05dc3b-4a44-4823-be91-9e5d383aa5b9",
         "x": [
          "2017-01-01",
          "2017-01-02",
          "2017-01-03",
          "2017-01-04",
          "2017-01-05",
          "2017-01-06",
          "2017-01-07",
          "2017-01-08",
          "2017-01-09",
          "2017-01-10",
          "2017-01-11",
          "2017-01-12",
          "2017-01-13",
          "2017-01-14",
          "2017-01-15",
          "2017-01-16",
          "2017-01-17",
          "2017-01-18",
          "2017-01-19",
          "2017-01-20",
          "2017-01-21",
          "2017-01-22",
          "2017-01-23",
          "2017-01-24",
          "2017-01-25",
          "2017-01-26",
          "2017-01-27",
          "2017-01-28",
          "2017-01-29",
          "2017-01-30",
          "2017-01-31"
         ],
         "y": [
          1079312,
          429079,
          354356,
          524319,
          472716,
          529040,
          1050318,
          984339,
          361874,
          366937,
          387775,
          390926,
          438353,
          958710,
          931352,
          291145,
          297278,
          626383,
          541489,
          575217,
          1252975,
          1243345,
          413530,
          418223,
          590581,
          651238,
          1088636,
          1365896,
          1662892,
          1604649,
          609035
         ]
        }
       ],
       "layout": {}
      },
      "text/html": [
       "<div id=\"31ff12dc-1f92-4280-a7cd-8af5e930ab61\" style=\"height: 525px; width: 100%;\" class=\"plotly-graph-div\"></div><script type=\"text/javascript\">require([\"plotly\"], function(Plotly) { window.PLOTLYENV=window.PLOTLYENV || {};window.PLOTLYENV.BASE_URL=\"https://plot.ly\";Plotly.newPlot(\"31ff12dc-1f92-4280-a7cd-8af5e930ab61\", [{\"x\": [\"2017-01-01\", \"2017-01-02\", \"2017-01-03\", \"2017-01-04\", \"2017-01-05\", \"2017-01-06\", \"2017-01-07\", \"2017-01-08\", \"2017-01-09\", \"2017-01-10\", \"2017-01-11\", \"2017-01-12\", \"2017-01-13\", \"2017-01-14\", \"2017-01-15\", \"2017-01-16\", \"2017-01-17\", \"2017-01-18\", \"2017-01-19\", \"2017-01-20\", \"2017-01-21\", \"2017-01-22\", \"2017-01-23\", \"2017-01-24\", \"2017-01-25\", \"2017-01-26\", \"2017-01-27\", \"2017-01-28\", \"2017-01-29\", \"2017-01-30\", \"2017-01-31\"], \"y\": [1079312, 429079, 354356, 524319, 472716, 529040, 1050318, 984339, 361874, 366937, 387775, 390926, 438353, 958710, 931352, 291145, 297278, 626383, 541489, 575217, 1252975, 1243345, 413530, 418223, 590581, 651238, 1088636, 1365896, 1662892, 1604649, 609035], \"type\": \"bar\", \"uid\": \"2502c234-9056-418a-a4e3-e4d8b079aeb0\"}], {}, {\"showLink\": true, \"linkText\": \"Export to plot.ly\", \"plotlyServerURL\": \"https://plot.ly\"})});</script><script type=\"text/javascript\">window.addEventListener(\"resize\", function(){window._Plotly.Plots.resize(document.getElementById(\"31ff12dc-1f92-4280-a7cd-8af5e930ab61\"));});</script>"
      ],
      "text/vnd.plotly.v1+html": [
       "<div id=\"31ff12dc-1f92-4280-a7cd-8af5e930ab61\" style=\"height: 525px; width: 100%;\" class=\"plotly-graph-div\"></div><script type=\"text/javascript\">require([\"plotly\"], function(Plotly) { window.PLOTLYENV=window.PLOTLYENV || {};window.PLOTLYENV.BASE_URL=\"https://plot.ly\";Plotly.newPlot(\"31ff12dc-1f92-4280-a7cd-8af5e930ab61\", [{\"x\": [\"2017-01-01\", \"2017-01-02\", \"2017-01-03\", \"2017-01-04\", \"2017-01-05\", \"2017-01-06\", \"2017-01-07\", \"2017-01-08\", \"2017-01-09\", \"2017-01-10\", \"2017-01-11\", \"2017-01-12\", \"2017-01-13\", \"2017-01-14\", \"2017-01-15\", \"2017-01-16\", \"2017-01-17\", \"2017-01-18\", \"2017-01-19\", \"2017-01-20\", \"2017-01-21\", \"2017-01-22\", \"2017-01-23\", \"2017-01-24\", \"2017-01-25\", \"2017-01-26\", \"2017-01-27\", \"2017-01-28\", \"2017-01-29\", \"2017-01-30\", \"2017-01-31\"], \"y\": [1079312, 429079, 354356, 524319, 472716, 529040, 1050318, 984339, 361874, 366937, 387775, 390926, 438353, 958710, 931352, 291145, 297278, 626383, 541489, 575217, 1252975, 1243345, 413530, 418223, 590581, 651238, 1088636, 1365896, 1662892, 1604649, 609035], \"type\": \"bar\", \"uid\": \"2502c234-9056-418a-a4e3-e4d8b079aeb0\"}], {}, {\"showLink\": true, \"linkText\": \"Export to plot.ly\", \"plotlyServerURL\": \"https://plot.ly\"})});</script><script type=\"text/javascript\">window.addEventListener(\"resize\", function(){window._Plotly.Plots.resize(document.getElementById(\"31ff12dc-1f92-4280-a7cd-8af5e930ab61\"));});</script>"
      ]
     },
     "metadata": {},
     "output_type": "display_data"
    }
   ],
   "source": [
    "trace = go.Bar(x=date, y=list2) \n",
    "data=[trace]\n",
    "offline.iplot(data)"
   ]
  },
  {
   "cell_type": "code",
   "execution_count": 9,
   "metadata": {},
   "outputs": [
    {
     "data": {
      "text/plain": [
       "1.0000000100000002"
      ]
     },
     "execution_count": 9,
     "metadata": {},
     "output_type": "execute_result"
    }
   ],
   "source": []
  },
  {
   "cell_type": "code",
   "execution_count": null,
   "metadata": {},
   "outputs": [],
   "source": []
  }
 ],
 "metadata": {
  "kernelspec": {
   "display_name": "Python 3",
   "language": "python",
   "name": "python3"
  },
  "language_info": {
   "codemirror_mode": {
    "name": "ipython",
    "version": 3
   },
   "file_extension": ".py",
   "mimetype": "text/x-python",
   "name": "python",
   "nbconvert_exporter": "python",
   "pygments_lexer": "ipython3",
   "version": "3.6.7"
  }
 },
 "nbformat": 4,
 "nbformat_minor": 2
}

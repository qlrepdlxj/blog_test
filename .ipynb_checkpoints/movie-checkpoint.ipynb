{
 "cells": [
  {
   "cell_type": "markdown",
   "metadata": {},
   "source": [
    "# 영화 빅데이터 분석\n",
    "\n",
    "영화진흥위원회의 영화관 입장권 통합 전산망 오픈 API에서 제공하는 박스오피스 결과를 통해 영화의 흥행을 분석"
   ]
  },
  {
   "cell_type": "markdown",
   "metadata": {},
   "source": [
    "## (1) 영화 데이터 수집\n",
    "\n",
    "API에서 제공하는 일일박스오피스 정보를 불러와 JSON파일로 저장"
   ]
  },
  {
   "cell_type": "code",
   "execution_count": 12,
   "metadata": {},
   "outputs": [],
   "source": [
    "import requests\n",
    "import json\n",
    "from tqdm import tqdm\n",
    "# api 사용을 위해 발급받은 key 값을 변수에 저장\n",
    "key='ad816991534afeaef71f07e7336b0d61'\n",
    "targetDt=20170301"
   ]
  },
  {
   "cell_type": "code",
   "execution_count": 12,
   "metadata": {},
   "outputs": [
    {
     "name": "stderr",
     "output_type": "stream",
     "text": [
      "100%|██████████| 31/31 [01:13<00:00,  2.24s/it]\n"
     ]
    }
   ],
   "source": [
    "for i in tqdm(range(1,32)):\n",
    "#일일 박스오피스를 아무 옵션도 주지않고 날짜별로 검색한 뒤 JSON파일 저장\n",
    "    url1='http://www.kobis.or.kr/kobisopenapi/webservice/rest/boxoffice/searchDailyBoxOfficeList.json?key='\\\n",
    "        +key+'&targetDt='+str(targetDt)\n",
    "    \n",
    "    res1 = requests.get(url1)\n",
    "    text1 = res1.text\n",
    "    d1 = json.loads(text1)\n",
    "    \n",
    "    with open('data/'+str(targetDt)[0:4]+'/'+str(targetDt)[4:6]+'/daily_box_office/'+str(targetDt)+'.json', 'w', encoding=\"utf-8\") as make_file:\n",
    "        json.dump(d1, make_file, ensure_ascii=False, indent=\"\\t\")\n",
    "\n",
    "# 한국영화의 일일 박스오피스 자료를 검색하고 JSON파일로 저장\n",
    "    url2=url1+'&repNationCd=K'\n",
    "    \n",
    "    res2 = requests.get(url2)\n",
    "    text2 = res2.text\n",
    "    d2 = json.loads(text2)\n",
    "    \n",
    "    with open('data/'+str(targetDt)[0:4]+'/'+str(targetDt)[4:6]+'/daily_box_office_k/'+str(targetDt)+'_K.json', 'w', encoding=\"utf-8\") as make_file:\n",
    "        json.dump(d2, make_file, ensure_ascii=False, indent=\"\\t\")\n",
    "        \n",
    "# 해외영화의 일일 박스오피스 자료를 검색하고 JSON파일로 저장\n",
    "    url3=url1+'&repNationCd=F'    \n",
    "    \n",
    "    res3 = requests.get(url3)  \n",
    "    text3 = res3.text    \n",
    "    d3 = json.loads(text3)\n",
    "        \n",
    "    with open('data/'+str(targetDt)[0:4]+'/'+str(targetDt)[4:6]+'/daily_box_office_f/'+str(targetDt)+'_F.json', 'w', encoding=\"utf-8\") as make_file:\n",
    "        json.dump(d3, make_file, ensure_ascii=False, indent=\"\\t\")\n",
    "    \n",
    "    targetDt += 1"
   ]
  },
  {
   "cell_type": "code",
   "execution_count": 2,
   "metadata": {},
   "outputs": [
    {
     "data": {
      "text/plain": [
       "['신과함께-죄와 벌',\n",
       " '1987',\n",
       " '강철비',\n",
       " '위대한 쇼맨',\n",
       " '극장판 포켓몬스터 너로 정했다!',\n",
       " '몬스터 패밀리',\n",
       " '원더',\n",
       " '뽀로로 극장판 공룡섬 대모험',\n",
       " '극장판 프리파라 모두의 동경♪ 렛츠고☆프리파리',\n",
       " '스타워즈: 라스트 제다이']"
      ]
     },
     "execution_count": 2,
     "metadata": {},
     "output_type": "execute_result"
    }
   ],
   "source": [
    "import json\n",
    "result=[]\n",
    "result_name=[]\n",
    "targetDt=20180101\n",
    "for i in range(0,10):   \n",
    "    with open('data/2018/01/daily_box_office/'+str(targetDt)+'.json', 'r', encoding=\"utf-8\") as data_file:\n",
    "        data = json.load(data_file)\n",
    "    result.insert(i,data['boxOfficeResult']['dailyBoxOfficeList'][i]['salesAmt'])\n",
    "    result_name.insert(i,data['boxOfficeResult']['dailyBoxOfficeList'][i]['movieNm'])\n",
    "result_name"
   ]
  },
  {
   "cell_type": "code",
   "execution_count": 3,
   "metadata": {},
   "outputs": [
    {
     "data": {
      "text/html": [
       "<script type=\"text/javascript\">window.PlotlyConfig = {MathJaxConfig: 'local'};</script><script type=\"text/javascript\">if (window.MathJax) {MathJax.Hub.Config({SVG: {font: \"STIX-Web\"}});}</script><script>requirejs.config({paths: { 'plotly': ['https://cdn.plot.ly/plotly-latest.min']},});if(!window._Plotly) {require(['plotly'],function(plotly) {window._Plotly=plotly;});}</script>"
      ],
      "text/vnd.plotly.v1+html": [
       "<script type=\"text/javascript\">window.PlotlyConfig = {MathJaxConfig: 'local'};</script><script type=\"text/javascript\">if (window.MathJax) {MathJax.Hub.Config({SVG: {font: \"STIX-Web\"}});}</script><script>requirejs.config({paths: { 'plotly': ['https://cdn.plot.ly/plotly-latest.min']},});if(!window._Plotly) {require(['plotly'],function(plotly) {window._Plotly=plotly;});}</script>"
      ]
     },
     "metadata": {},
     "output_type": "display_data"
    },
    {
     "data": {
      "application/vnd.plotly.v1+json": {
       "config": {
        "linkText": "Export to plot.ly",
        "plotlyServerURL": "https://plot.ly",
        "showLink": true
       },
       "data": [
        {
         "labels": [
          "신과함께-죄와 벌",
          "1987",
          "강철비",
          "위대한 쇼맨",
          "극장판 포켓몬스터 너로 정했다!",
          "몬스터 패밀리",
          "원더",
          "뽀로로 극장판 공룡섬 대모험",
          "극장판 프리파라 모두의 동경♪ 렛츠고☆프리파리",
          "스타워즈: 라스트 제다이"
         ],
         "type": "pie",
         "uid": "61e55cd7-a183-43b9-b5bc-7d8e4ffafd08",
         "values": [
          "7715149100",
          "4460462100",
          "944228600",
          "509947700",
          "262886500",
          "205793300",
          "158549600",
          "109207600",
          "47882900",
          "35090500"
         ]
        }
       ],
       "layout": {}
      },
      "text/html": [
       "<div id=\"07bf964d-8919-4a0d-99a7-e524ad271d94\" style=\"height: 525px; width: 100%;\" class=\"plotly-graph-div\"></div><script type=\"text/javascript\">require([\"plotly\"], function(Plotly) { window.PLOTLYENV=window.PLOTLYENV || {};window.PLOTLYENV.BASE_URL=\"https://plot.ly\";Plotly.newPlot(\"07bf964d-8919-4a0d-99a7-e524ad271d94\", [{\"labels\": [\"\\uc2e0\\uacfc\\ud568\\uaed8-\\uc8c4\\uc640 \\ubc8c\", \"1987\", \"\\uac15\\ucca0\\ube44\", \"\\uc704\\ub300\\ud55c \\uc1fc\\ub9e8\", \"\\uadf9\\uc7a5\\ud310 \\ud3ec\\ucf13\\ubaac\\uc2a4\\ud130 \\ub108\\ub85c \\uc815\\ud588\\ub2e4!\", \"\\ubaac\\uc2a4\\ud130 \\ud328\\ubc00\\ub9ac\", \"\\uc6d0\\ub354\", \"\\ubf40\\ub85c\\ub85c \\uadf9\\uc7a5\\ud310 \\uacf5\\ub8e1\\uc12c \\ub300\\ubaa8\\ud5d8\", \"\\uadf9\\uc7a5\\ud310 \\ud504\\ub9ac\\ud30c\\ub77c \\ubaa8\\ub450\\uc758 \\ub3d9\\uacbd\\u266a \\ub81b\\uce20\\uace0\\u2606\\ud504\\ub9ac\\ud30c\\ub9ac\", \"\\uc2a4\\ud0c0\\uc6cc\\uc988: \\ub77c\\uc2a4\\ud2b8 \\uc81c\\ub2e4\\uc774\"], \"values\": [\"7715149100\", \"4460462100\", \"944228600\", \"509947700\", \"262886500\", \"205793300\", \"158549600\", \"109207600\", \"47882900\", \"35090500\"], \"type\": \"pie\", \"uid\": \"8a120f9a-f8db-4461-b1af-33ac15011c52\"}], {}, {\"showLink\": true, \"linkText\": \"Export to plot.ly\", \"plotlyServerURL\": \"https://plot.ly\"})});</script><script type=\"text/javascript\">window.addEventListener(\"resize\", function(){window._Plotly.Plots.resize(document.getElementById(\"07bf964d-8919-4a0d-99a7-e524ad271d94\"));});</script>"
      ],
      "text/vnd.plotly.v1+html": [
       "<div id=\"07bf964d-8919-4a0d-99a7-e524ad271d94\" style=\"height: 525px; width: 100%;\" class=\"plotly-graph-div\"></div><script type=\"text/javascript\">require([\"plotly\"], function(Plotly) { window.PLOTLYENV=window.PLOTLYENV || {};window.PLOTLYENV.BASE_URL=\"https://plot.ly\";Plotly.newPlot(\"07bf964d-8919-4a0d-99a7-e524ad271d94\", [{\"labels\": [\"\\uc2e0\\uacfc\\ud568\\uaed8-\\uc8c4\\uc640 \\ubc8c\", \"1987\", \"\\uac15\\ucca0\\ube44\", \"\\uc704\\ub300\\ud55c \\uc1fc\\ub9e8\", \"\\uadf9\\uc7a5\\ud310 \\ud3ec\\ucf13\\ubaac\\uc2a4\\ud130 \\ub108\\ub85c \\uc815\\ud588\\ub2e4!\", \"\\ubaac\\uc2a4\\ud130 \\ud328\\ubc00\\ub9ac\", \"\\uc6d0\\ub354\", \"\\ubf40\\ub85c\\ub85c \\uadf9\\uc7a5\\ud310 \\uacf5\\ub8e1\\uc12c \\ub300\\ubaa8\\ud5d8\", \"\\uadf9\\uc7a5\\ud310 \\ud504\\ub9ac\\ud30c\\ub77c \\ubaa8\\ub450\\uc758 \\ub3d9\\uacbd\\u266a \\ub81b\\uce20\\uace0\\u2606\\ud504\\ub9ac\\ud30c\\ub9ac\", \"\\uc2a4\\ud0c0\\uc6cc\\uc988: \\ub77c\\uc2a4\\ud2b8 \\uc81c\\ub2e4\\uc774\"], \"values\": [\"7715149100\", \"4460462100\", \"944228600\", \"509947700\", \"262886500\", \"205793300\", \"158549600\", \"109207600\", \"47882900\", \"35090500\"], \"type\": \"pie\", \"uid\": \"8a120f9a-f8db-4461-b1af-33ac15011c52\"}], {}, {\"showLink\": true, \"linkText\": \"Export to plot.ly\", \"plotlyServerURL\": \"https://plot.ly\"})});</script><script type=\"text/javascript\">window.addEventListener(\"resize\", function(){window._Plotly.Plots.resize(document.getElementById(\"07bf964d-8919-4a0d-99a7-e524ad271d94\"));});</script>"
      ]
     },
     "metadata": {},
     "output_type": "display_data"
    }
   ],
   "source": [
    "import plotly.offline as offline\n",
    "import plotly.graph_objs as go\n",
    "labels = result_name\n",
    "values = result\n",
    "offline.init_notebook_mode(connected=True) \n",
    "trace = go.Pie(labels=labels, values=values) \n",
    "offline.iplot([trace], filename='basic_pie_chart')"
   ]
  }
 ],
 "metadata": {
  "kernelspec": {
   "display_name": "Python 3",
   "language": "python",
   "name": "python3"
  },
  "language_info": {
   "codemirror_mode": {
    "name": "ipython",
    "version": 3
   },
   "file_extension": ".py",
   "mimetype": "text/x-python",
   "name": "python",
   "nbconvert_exporter": "python",
   "pygments_lexer": "ipython3",
   "version": "3.6.7"
  }
 },
 "nbformat": 4,
 "nbformat_minor": 2
}

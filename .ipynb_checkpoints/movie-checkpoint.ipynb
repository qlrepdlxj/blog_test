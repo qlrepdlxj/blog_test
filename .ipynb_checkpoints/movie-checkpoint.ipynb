{
 "cells": [
  {
   "cell_type": "markdown",
   "metadata": {},
   "source": [
    "# 영화 빅데이터 분석\n",
    "\n",
    "영화진흥위원회의 영화관 입장권 통합 전산망 오픈 API에서 제공하는 박스오피스 결과를 통해 영화의 흥행을 분석"
   ]
  },
  {
   "cell_type": "markdown",
   "metadata": {},
   "source": [
    "## (1) 영화 데이터 수집\n",
    "\n",
    "API에서 제공하는 일일박스오피스 정보를 불러와 JSON파일로 저장"
   ]
  },
  {
   "cell_type": "code",
   "execution_count": 1,
   "metadata": {},
   "outputs": [
    {
     "data": {
      "text/plain": [
       "3"
      ]
     },
     "execution_count": 1,
     "metadata": {},
     "output_type": "execute_result"
    }
   ],
   "source": [
    "import requests\n",
    "import json\n",
    "from tqdm import tqdm\n",
    "\n",
    "# api 사용을 위해 발급받은 key 값을 변수에 저장\n",
    "key='ad816991534afeaef71f07e7336b0d61'\n",
    "\n",
    "targetDt=20180101\n",
    "try:\n",
    "    if not(os.path.isdir({YOUR_DIRECTORY_NAME})):\n",
    "        os.makedirs(os.path.join({YOUR_DIRECTORY_NAME}))\n",
    "except OSError as e:\n",
    "    if e.errno != errno.EEXIST:\n",
    "        print(\"Failed to create directory!!!!!\")\n",
    "        raise\n",
    "\n",
    "for i in tqdm(range(1,32)):\n",
    "#일일 박스오피스를 아무 옵션도 주지않고 날짜별로 검색한 뒤 JSON파일 저장\n",
    "    url1='http://www.kobis.or.kr/kobisopenapi/webservice/rest/boxoffice/searchDailyBoxOfficeList.json?key='\\\n",
    "        +key+'&targetDt='+str(targetDt)\n",
    "    \n",
    "    res1 = requests.get(url1)\n",
    "    text1 = res1.text\n",
    "    d1 = json.loads(text1)\n",
    "    \n",
    "    with open('data/daily_box_office/'+str(targetDt)+'.json', 'w', encoding=\"utf-8\") as make_file:\n",
    "        json.dump(d1, make_file, ensure_ascii=False, indent=\"\\t\")\n",
    "\n",
    "# 한국영화의 일일 박스오피스 자료를 검색하고 JSON파일로 저장\n",
    "    url2='http://www.kobis.or.kr/kobisopenapi/webservice/rest/boxoffice/searchDailyBoxOfficeList.json?key='\\\n",
    "        +key+'&targetDt='+str(targetDt)+'&repNationCd=K'\n",
    "    \n",
    "    res2 = requests.get(url2)\n",
    "    text2 = res2.text\n",
    "    d2 = json.loads(text2)\n",
    "    \n",
    "    with open('data/daily_box_office_k/'+str(targetDt)+'_K.json', 'w', encoding=\"utf-8\") as make_file:\n",
    "        json.dump(d2, make_file, ensure_ascii=False, indent=\"\\t\")\n",
    "        \n",
    "# 해외영화의 일일 박스오피스 자료를 검색하고 JSON파일로 저장\n",
    "    url3='http://www.kobis.or.kr/kobisopenapi/webservice/rest/boxoffice/searchDailyBoxOfficeList.json?key='\\\n",
    "        +key+'&targetDt='+str(targetDt)+'&repNationCd=F'    \n",
    "    \n",
    "    res3 = requests.get(url3)  \n",
    "    text3 = res3.text    \n",
    "    d3 = json.loads(text3)\n",
    "        \n",
    "    with open('data/daily_box_office_f/'+str(targetDt)+'_F.json', 'w', encoding=\"utf-8\") as make_file:\n",
    "        json.dump(d3, make_file, ensure_ascii=False, indent=\"\\t\")\n",
    "    \n",
    "    targetDt += 1"
   ]
  },
  {
   "cell_type": "code",
   "execution_count": 2,
   "metadata": {},
   "outputs": [
    {
     "ename": "FileNotFoundError",
     "evalue": "[Errno 2] No such file or directory: 'data/daily_box_office/20180101.json'",
     "output_type": "error",
     "traceback": [
      "\u001b[0;31m---------------------------------------------------------------------------\u001b[0m",
      "\u001b[0;31mFileNotFoundError\u001b[0m                         Traceback (most recent call last)",
      "\u001b[0;32m<ipython-input-2-2cd02d2c3056>\u001b[0m in \u001b[0;36m<module>\u001b[0;34m\u001b[0m\n\u001b[1;32m      3\u001b[0m \u001b[0mtargetDt\u001b[0m\u001b[0;34m=\u001b[0m\u001b[0;36m20180101\u001b[0m\u001b[0;34m\u001b[0m\u001b[0m\n\u001b[1;32m      4\u001b[0m \u001b[0;32mfor\u001b[0m \u001b[0mi\u001b[0m \u001b[0;32min\u001b[0m \u001b[0mrange\u001b[0m\u001b[0;34m(\u001b[0m\u001b[0;36m0\u001b[0m\u001b[0;34m,\u001b[0m\u001b[0;36m10\u001b[0m\u001b[0;34m)\u001b[0m\u001b[0;34m:\u001b[0m\u001b[0;34m\u001b[0m\u001b[0m\n\u001b[0;32m----> 5\u001b[0;31m     \u001b[0;32mwith\u001b[0m \u001b[0mopen\u001b[0m\u001b[0;34m(\u001b[0m\u001b[0;34m'data/daily_box_office/'\u001b[0m\u001b[0;34m+\u001b[0m\u001b[0mstr\u001b[0m\u001b[0;34m(\u001b[0m\u001b[0mtargetDt\u001b[0m\u001b[0;34m)\u001b[0m\u001b[0;34m+\u001b[0m\u001b[0;34m'.json'\u001b[0m\u001b[0;34m,\u001b[0m \u001b[0;34m'r'\u001b[0m\u001b[0;34m,\u001b[0m \u001b[0mencoding\u001b[0m\u001b[0;34m=\u001b[0m\u001b[0;34m\"utf-8\"\u001b[0m\u001b[0;34m)\u001b[0m \u001b[0;32mas\u001b[0m \u001b[0mdata_file\u001b[0m\u001b[0;34m:\u001b[0m\u001b[0;34m\u001b[0m\u001b[0m\n\u001b[0m\u001b[1;32m      6\u001b[0m         \u001b[0mdata\u001b[0m \u001b[0;34m=\u001b[0m \u001b[0mjson\u001b[0m\u001b[0;34m.\u001b[0m\u001b[0mload\u001b[0m\u001b[0;34m(\u001b[0m\u001b[0mdata_file\u001b[0m\u001b[0;34m)\u001b[0m\u001b[0;34m\u001b[0m\u001b[0m\n\u001b[1;32m      7\u001b[0m     \u001b[0mresult\u001b[0m\u001b[0;34m.\u001b[0m\u001b[0minsert\u001b[0m\u001b[0;34m(\u001b[0m\u001b[0mi\u001b[0m\u001b[0;34m,\u001b[0m\u001b[0mdata\u001b[0m\u001b[0;34m[\u001b[0m\u001b[0;34m'boxOfficeResult'\u001b[0m\u001b[0;34m]\u001b[0m\u001b[0;34m[\u001b[0m\u001b[0;34m'dailyBoxOfficeList'\u001b[0m\u001b[0;34m]\u001b[0m\u001b[0;34m[\u001b[0m\u001b[0mi\u001b[0m\u001b[0;34m]\u001b[0m\u001b[0;34m[\u001b[0m\u001b[0;34m'salesAmt'\u001b[0m\u001b[0;34m]\u001b[0m\u001b[0;34m)\u001b[0m\u001b[0;34m\u001b[0m\u001b[0m\n",
      "\u001b[0;31mFileNotFoundError\u001b[0m: [Errno 2] No such file or directory: 'data/daily_box_office/20180101.json'"
     ]
    }
   ],
   "source": [
    "result=[]\n",
    "result_name=[]\n",
    "targetDt=20180101\n",
    "for i in range(0,10):   \n",
    "    with open('data/daily_box_office/'+str(targetDt)+'.json', 'r', encoding=\"utf-8\") as data_file:\n",
    "        data = json.load(data_file)\n",
    "    result.insert(i,data['boxOfficeResult']['dailyBoxOfficeList'][i]['salesAmt'])\n",
    "    result_name.insert(i,data['boxOfficeResult']['dailyBoxOfficeList'][i]['movieNm'])\n",
    "result_name"
   ]
  },
  {
   "cell_type": "code",
   "execution_count": 3,
   "metadata": {},
   "outputs": [],
   "source": []
  },
  {
   "cell_type": "code",
   "execution_count": 4,
   "metadata": {},
   "outputs": [
    {
     "data": {
      "text/plain": [
       "12"
      ]
     },
     "execution_count": 4,
     "metadata": {},
     "output_type": "execute_result"
    }
   ],
   "source": []
  },
  {
   "cell_type": "markdown",
   "metadata": {},
   "source": [
    "test1"
   ]
  },
  {
   "cell_type": "markdown",
   "metadata": {},
   "source": [
    "test2"
   ]
  },
  {
   "cell_type": "markdown",
   "metadata": {},
   "source": [
    "test3"
   ]
  },
  {
   "cell_type": "markdown",
   "metadata": {},
   "source": [
    "test4"
   ]
  },
  {
   "cell_type": "markdown",
   "metadata": {},
   "source": [
    "test5"
   ]
  }
 ],
 "metadata": {
  "kernelspec": {
   "display_name": "Python 3",
   "language": "python",
   "name": "python3"
  },
  "language_info": {
   "codemirror_mode": {
    "name": "ipython",
    "version": 3
   },
   "file_extension": ".py",
   "mimetype": "text/x-python",
   "name": "python",
   "nbconvert_exporter": "python",
   "pygments_lexer": "ipython3",
   "version": "3.5.3"
  }
 },
 "nbformat": 4,
 "nbformat_minor": 2
}

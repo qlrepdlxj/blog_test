{
 "cells": [
  {
   "cell_type": "code",
   "execution_count": null,
   "metadata": {},
   "outputs": [],
   "source": [
    "import os\n",
    "import pandas as pd\n",
    "import requests\n",
    "import json\n",
    "\n",
    "key='ad816991534afeaef71f07e7336b0d61'\n",
    "df = pd.read_csv('movie_code_list_all.csv')\n",
    "\n",
    "for i in range(0,len(df['movieCd'])):\n",
    "    movieCd = str(df['movieCd'][i])\n",
    "\n",
    "    if(os.path.isfile(\"/root/movie/movie_info/\"+movieCd+\".json\")):\n",
    "        print(movieCd+\".json already exist!\")\n",
    "        \n",
    "    else:\n",
    "        url = 'http://www.kobis.or.kr/kobisopenapi/webservice/rest/movie/searchMovieInfo.json?key='\\\n",
    "            +key+'&movieCd='+movieCd    \n",
    "        res = requests.get(url)\n",
    "        text = res.text\n",
    "        d = json.loads(text)\n",
    "        print(movieCd+\".json is created!\")\n",
    "        with open('movie_info/'+movieCd+'.json', 'w', encoding=\"utf-8\") as make_file:\n",
    "            json.dump(d, make_file, ensure_ascii=False, indent=\"\\t\")"
   ]
  },
  {
   "cell_type": "code",
   "execution_count": 20,
   "metadata": {},
   "outputs": [
    {
     "name": "stdout",
     "output_type": "stream",
     "text": [
      "31\n"
     ]
    }
   ],
   "source": [
    "import calendar\n",
    "print(calendar.monthrange(2016,1)[1])"
   ]
  },
  {
   "cell_type": "code",
   "execution_count": 65,
   "metadata": {},
   "outputs": [
    {
     "ename": "TypeError",
     "evalue": "must be str, not int",
     "output_type": "error",
     "traceback": [
      "\u001b[0;31m---------------------------------------------------------------------------\u001b[0m",
      "\u001b[0;31mTypeError\u001b[0m                                 Traceback (most recent call last)",
      "\u001b[0;32m<ipython-input-65-8cab8f722062>\u001b[0m in \u001b[0;36m<module>\u001b[0;34m\u001b[0m\n\u001b[1;32m      6\u001b[0m \u001b[0;31m# month = str(int(month)+1)\u001b[0m\u001b[0;34m\u001b[0m\u001b[0;34m\u001b[0m\u001b[0;34m\u001b[0m\u001b[0m\n\u001b[1;32m      7\u001b[0m \u001b[0mtargetDt\u001b[0m\u001b[0;34m=\u001b[0m\u001b[0myear\u001b[0m\u001b[0;34m+\u001b[0m\u001b[0mmonth\u001b[0m\u001b[0;34m+\u001b[0m\u001b[0mday\u001b[0m\u001b[0;34m\u001b[0m\u001b[0;34m\u001b[0m\u001b[0m\n\u001b[0;32m----> 8\u001b[0;31m \u001b[0mos\u001b[0m\u001b[0;34m.\u001b[0m\u001b[0mpath\u001b[0m\u001b[0;34m.\u001b[0m\u001b[0misfile\u001b[0m\u001b[0;34m(\u001b[0m\u001b[0;34m\"/root/movie/data/\"\u001b[0m\u001b[0;34m+\u001b[0m\u001b[0myear\u001b[0m\u001b[0;34m+\u001b[0m\u001b[0;34m\"/\"\u001b[0m\u001b[0;34m+\u001b[0m\u001b[0mmonth\u001b[0m\u001b[0;34m+\u001b[0m\u001b[0;34m\"/daily_box_office/\"\u001b[0m\u001b[0;34m+\u001b[0m\u001b[0mtargetDt\u001b[0m\u001b[0;34m+\u001b[0m\u001b[0;34m\".json\"\u001b[0m\u001b[0;34m)\u001b[0m\u001b[0;34m!=\u001b[0m\u001b[0;36m1\u001b[0m\u001b[0;34m\u001b[0m\u001b[0;34m\u001b[0m\u001b[0m\n\u001b[0m\u001b[1;32m      9\u001b[0m \u001b[0mend_day\u001b[0m\u001b[0;34m\u001b[0m\u001b[0;34m\u001b[0m\u001b[0m\n",
      "\u001b[0;31mTypeError\u001b[0m: must be str, not int"
     ]
    }
   ],
   "source": [
    "movie_info_path='/root/movie/data/'\n",
    "year=2018\n",
    "month=2\n",
    "day=1\n",
    "end_day=calendar.monthrange(int(year),2)[1]\n",
    "# month = str(int(month)+1)\n",
    "targetDt=year+month+day\n",
    "os.path.isfile(\"/root/movie/data/\"+year+\"/\"+month+\"/daily_box_office/\"+targetDt+\".json\")!=1\n",
    "end_day"
   ]
  },
  {
   "cell_type": "code",
   "execution_count": 66,
   "metadata": {},
   "outputs": [
    {
     "data": {
      "text/plain": [
       "2"
      ]
     },
     "execution_count": 66,
     "metadata": {},
     "output_type": "execute_result"
    }
   ],
   "source": [
    "from datetime import date\n",
    "# targetDt=year+month+day\n",
    "dt=date(year,month,day)\n",
    "dt.month"
   ]
  },
  {
   "cell_type": "code",
   "execution_count": 40,
   "metadata": {},
   "outputs": [
    {
     "name": "stderr",
     "output_type": "stream",
     "text": [
      "\n",
      "\n",
      "\n",
      "  0%|          | 0/6 [00:00<?, ?it/s]\u001b[A\u001b[A\u001b[A\n",
      "\n",
      "\n",
      "100%|██████████| 6/6 [00:00<00:00, 2366.99it/s]\u001b[A\u001b[A\u001b[A"
     ]
    },
    {
     "name": "stdout",
     "output_type": "stream",
     "text": [
      "dir /root/movie/data/2018/3 is exist\n"
     ]
    }
   ],
   "source": [
    "import calendar\n",
    "#from tqdm import tqdm\n",
    "movie_info_path='/root/movie/data/'\n",
    "year='2018'\n",
    "month='02'\n",
    "\n",
    "#end_day=calendar.monthrange(int(year),int(month))[1]\n",
    "\n",
    "for j in tqdm(range(0,6)):\n",
    "    day='01'\n",
    "    targetDt=year+month+day\n",
    "    end_day=calendar.monthrange(int(year),int(month))[1]\n",
    "    if(os.path.isdir(movie_info_path+year+'/'+month)):\n",
    "        print(\"dir \"+movie_info_path+year+'/'+month+\" is exist\")\n",
    "    else:\n",
    "        os.mkdir(movie_info_path+year+'/'+month+'/')\n",
    "    \n",
    "    if(os.path.isdir(movie_info_path+year+'/'+month+'/daily_box_office')!=1):\n",
    "        os.mkdir(movie_info_path+year+'/'+month+'/daily_box_office/')\n",
    "    elif(os.path.isdir(movie_info_path+year+'/'+month+'/daily_box_office_k')!=1):                \n",
    "        os.mkdir(movie_info_path+year+'/'+month+'/daily_box_office_k/')                \n",
    "    elif(os.path.isdir(movie_info_path+year+'/'+month+'/daily_box_office_f')!=1):\n",
    "        os.mkdir(movie_info_path+year+'/'+month+'/daily_box_office_f/')\n",
    "    else:\n",
    "        print(\"All folders are exist\")\n",
    "    \n",
    "#     for i in tqdm(range(0,end_day)):   \n",
    "              \n",
    "#         if(os.path.isfile(\"/root/movie/data/\"+year+'/'+month+'/daily_box_office/'+targetDt+'.json')!=1):\n",
    "#             url1='http://www.kobis.or.kr/kobisopenapi/webservice/rest/boxoffice/searchDailyBoxOfficeList.json?key='\\\n",
    "#                 +key+'&targetDt='+targetDt \n",
    "#             res1 = requests.get(url1)\n",
    "#             text1 = res1.text\n",
    "#             d1 = json.loads(text1)\n",
    "#             with open('data/'+year+'/'+month+'/daily_box_office/'+targetDt+'.json', 'w', encoding=\"utf-8\") as make_file:\n",
    "#                 json.dump(d1, make_file, ensure_ascii=False, indent=\"\\t\")\n",
    "#             print(targetDt+\".json is created!\")\n",
    "           \n",
    "#         elif(os.path.isfile(\"/root/movie/data/\"+year+'/'+month+'/daily_box_office_k/'+targetDt+'.json'!=1)):\n",
    "#             url2=url1+'&repNationCd=K'\n",
    "\n",
    "#             res2 = requests.get(url2)\n",
    "#             text2 = res2.text\n",
    "#             d2 = json.loads(text2)\n",
    "\n",
    "#             with open('data/'+year+'/'+month+'/daily_box_office_k/'+targetDt+'_K.json', 'w', encoding=\"utf-8\") as make_file:\n",
    "#                 json.dump(d2, make_file, ensure_ascii=False, indent=\"\\t\")\n",
    "           \n",
    "#         elif(os.path.isfile(\"/root/movie/data/\"+year+'/'+month+'/daily_box_office_f/'+targetDt+'.json')!=1):\n",
    "#             url3=url1+'&repNationCd=F'    \n",
    "\n",
    "#             res3 = requests.get(url3)  \n",
    "#             text3 = res3.text    \n",
    "#             d3 = json.loads(text3)\n",
    "\n",
    "#             with open('data/'+year+'/'+month+'/daily_box_office_f/'+str(targetDt)+'_F.json', 'w', encoding=\"utf-8\") as make_file:\n",
    "#                 json.dump(d3, make_file, ensure_ascii=False, indent=\"\\t\")\n",
    "        \n",
    "#         else:\n",
    "#             print(\"All files are exist\")\n",
    "#         day = str(int(day)+1)\n",
    "    \n",
    "    month = str(int(month)+1)"
   ]
  },
  {
   "cell_type": "code",
   "execution_count": null,
   "metadata": {},
   "outputs": [],
   "source": [
    "if(os.path.isdir(movie_info_path+year+'/'+month)):\n",
    "    print(\"folder exist\")\n",
    "else:\n",
    "    os.mkdir(movie_info_path+year+'/'+month+'/')"
   ]
  }
 ],
 "metadata": {
  "kernelspec": {
   "display_name": "Python 3",
   "language": "python",
   "name": "python3"
  },
  "language_info": {
   "codemirror_mode": {
    "name": "ipython",
    "version": 3
   },
   "file_extension": ".py",
   "mimetype": "text/x-python",
   "name": "python",
   "nbconvert_exporter": "python",
   "pygments_lexer": "ipython3",
   "version": "3.6.7"
  }
 },
 "nbformat": 4,
 "nbformat_minor": 2
}

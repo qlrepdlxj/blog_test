{
 "cells": [
  {
   "cell_type": "code",
   "execution_count": 27,
   "metadata": {},
   "outputs": [
    {
     "data": {
      "application/vnd.jupyter.widget-view+json": {
       "model_id": "bc62625fdeb14633b326b37e457fec6a",
       "version_major": 2,
       "version_minor": 0
      },
      "text/plain": [
       "HBox(children=(IntProgress(value=0, max=365), HTML(value='')))"
      ]
     },
     "metadata": {},
     "output_type": "display_data"
    }
   ],
   "source": [
    "from bs4 import BeautifulSoup\n",
    "from urllib.request import urlopen\n",
    "import pandas as pd\n",
    "from tqdm import tqdm\n",
    "from tqdm import tqdm_notebook\n",
    "from datetime import date\n"
   ]
  },
  {
   "cell_type": "code",
   "execution_count": null,
   "metadata": {},
   "outputs": [],
   "source": [
    "start_date = date(2017,1,1)\n",
    "end_date = date(2017,12,31)\n",
    "# Dt=20170101\n",
    "m_name=[]\n",
    "movie_dict=[]\n",
    "movie_dict2=[]\n",
    "title_n = soup.find_all('div', 'tit3')\n",
    "\n",
    "for single_date in tqdm_notebook(pd.date_range(start_date, end_date)):\n",
    "    j=0\n",
    "    targetDt = str(single_date)[0:4]+str(single_date)[5:7]+str(single_date)[8:10]\n",
    "    url = \"https://movie.naver.com/movie/sdb/rank/rmovie.nhn?sel=cnt&date=\"+targetDt\n",
    "    page = urlopen(url)\n",
    "    soup = BeautifulSoup(page, \"html.parser\")\n",
    "    b = soup.find_all('div','tit3')\n",
    "    title_n = soup.find_all('div', 'tit3')\n",
    "    # b = soup.find_all('div', 'tit3')[n]\n",
    "    # 전체 영화의 제목 뽑아옴\n",
    "    \n",
    "    \n",
    "    for n in range(0, len(title_n)):\n",
    "        movie_name.append(b[n].find('a').text)\n",
    "\n",
    "    # 전체 순위의 평점 뽑아옴\n",
    "        movie_point.append(b[n].find('a')['href'][28:])\n",
    "        \n",
    "    dff = list(zip(movie_name,movie_point))\n",
    "    dff = pd.DataFrame(dff)\n",
    "    dff = dff.drop_duplicates()\n",
    "    dff = dff.reset_index(drop=True)\n",
    "\n",
    "    j+=1"
   ]
  },
  {
   "cell_type": "code",
   "execution_count": 30,
   "metadata": {},
   "outputs": [
    {
     "data": {
      "application/vnd.jupyter.widget-view+json": {
       "model_id": "bc8eb8bee28b493b819c7753873f74ed",
       "version_major": 2,
       "version_minor": 0
      },
      "text/plain": [
       "HBox(children=(IntProgress(value=0, max=811), HTML(value='')))"
      ]
     },
     "metadata": {},
     "output_type": "display_data"
    }
   ],
   "source": [
    "# dff\n",
    "star1=[]\n",
    "star2=[]\n",
    "star3=[]\n",
    "list1=[]\n",
    "list2=[]\n",
    "num1=dff[0]\n",
    "for i in tqdm_notebook(range(0,len(dff[0]))):\n",
    "    url1 = \"https://movie.naver.com/movie/bi/mi/basic.nhn?code=\"\n",
    "    page1 = urlopen(url1+dff[1][i])\n",
    "    soup1 = BeautifulSoup(page1, \"html.parser\")\n",
    "    b = soup1.find_all('span','st_on')\n",
    "    list1.append(dff[0][i])\n",
    "    list2.append(dff[1][i])\n",
    "    if(len(b)<3):\n",
    "        star1.append(0)\n",
    "        star2.append(0)\n",
    "        star3.append(0)\n",
    "    else:\n",
    "        if(b[2]['style'][6:-1] == '0'):\n",
    "            star1.append(round(float(b[0]['style'][6:-1])/10,2))\n",
    "            star2.append(0)\n",
    "            star3.append(round(float(b[1]['style'][6:-1])/10,2))\n",
    "        else:\n",
    "            star1.append(round(float(b[0]['style'][6:-1])/10,2))\n",
    "            star2.append(round(float(b[1]['style'][6:-1])/10,2))\n",
    "            star3.append(round(float(b[2]['style'][6:-1])/10,2))\n",
    "movie_dict2.append(list(zip(list1,list2,star1,star2,star3)))"
   ]
  },
  {
   "cell_type": "code",
   "execution_count": 39,
   "metadata": {},
   "outputs": [],
   "source": [
    "import pandas as pd\n",
    "df = pd.DataFrame(movie_dict2[0])\n",
    "# for i in tqdm_notebook(range(1,len(movie_dict2))):\n",
    "#     df = df.append(movie_dict2[i], ignore_index=True)\n",
    "df2 = df.drop_duplicates()\n",
    "df2 = df2.reset_index(drop=True)\n",
    "df2 = df2.rename(columns={df2.columns[0]:'movieNm',df2.columns[1]:'naver_movieCd', df2.columns[2]:'ntz_see_score', df2.columns[3]:'spc_score', df2.columns[4]:'ntz_score'})\n",
    "df2.to_csv('naver_03.csv',index=False)"
   ]
  },
  {
   "cell_type": "code",
   "execution_count": null,
   "metadata": {},
   "outputs": [],
   "source": []
  }
 ],
 "metadata": {
  "kernelspec": {
   "display_name": "Python 3",
   "language": "python",
   "name": "python3"
  },
  "language_info": {
   "codemirror_mode": {
    "name": "ipython",
    "version": 3
   },
   "file_extension": ".py",
   "mimetype": "text/x-python",
   "name": "python",
   "nbconvert_exporter": "python",
   "pygments_lexer": "ipython3",
   "version": "3.6.7"
  }
 },
 "nbformat": 4,
 "nbformat_minor": 2
}

{
 "cells": [
  {
   "cell_type": "markdown",
   "metadata": {},
   "source": [
    "### 3. KOBIS OPENAPI\n",
    "\n",
    "영화관 입장권 통합 전산망 OPENAPI를 사용하여 일일 박스오피스 자료를 가져오고 JSON파일로 저장"
   ]
  },
  {
   "cell_type": "markdown",
   "metadata": {},
   "source": [
    "# title"
   ]
  },
  {
   "cell_type": "code",
   "execution_count": 1,
   "metadata": {},
   "outputs": [],
   "source": [
    "import os\n",
    "import requests\n",
    "import json\n",
    "import calendar\n",
    "from tqdm import tqdm\n",
    "from tqdm import tqdm_notebook\n",
    "from datetime import date, timedelta\n",
    "\n",
    "key='ad816991534afeaef71f07e7336b0d61'\n",
    "movie_info_path='/root/movie/data/'"
   ]
  },
  {
   "cell_type": "markdown",
   "metadata": {},
   "source": [
    "폴더가 존재하는지 확인한 뒤 없으면 생성하는 함수"
   ]
  },
  {
   "cell_type": "code",
   "execution_count": 2,
   "metadata": {},
   "outputs": [],
   "source": [
    "def check_dir(start_date,end_date):    \n",
    "    start_year = int(start_date.year)\n",
    "    end_year = int(end_date.year)\n",
    "    year = start_year\n",
    "    for i in tqdm(range(start_year,end_year+1)):        \n",
    "        if(os.path.isdir(movie_info_path+str(year))!=1):\n",
    "            os.mkdir(movie_info_path+str(year)+'/')\n",
    "            print(\"create \"+str(year)+\" folder\") \n",
    "        year += 1"
   ]
  },
  {
   "cell_type": "markdown",
   "metadata": {},
   "source": [
    "일일 박스오피스 자료를 찾고 없으면 API를 통해 자료를 받아온다\n",
    "\n",
    "파일은 JSON 타입으로 해당 폴더에 저장"
   ]
  },
  {
   "cell_type": "code",
   "execution_count": 3,
   "metadata": {},
   "outputs": [],
   "source": [
    "def daily_box_office_to_json(start_date,end_date):    \n",
    "    tmp_date = start_date\n",
    "    startDt = int(str(start_date)[0:4]+str(start_date)[5:7]+str(start_date)[8:10])\n",
    "    endDt = int(str(end_date)[0:4]+str(end_date)[5:7]+str(end_date)[8:10])\n",
    "    days = end_date - start_date\n",
    "    for i in tqdm(range(0,days.days+1)):\n",
    "        targetDt = int(str(tmp_date)[0:4]+str(tmp_date)[5:7]+str(tmp_date)[8:10])\n",
    "        \n",
    "        if(os.path.isfile(\"/root/movie/data/\"+str(targetDt)[0:4]+'/'+str(targetDt)+'.json')!=1):\n",
    "            url='http://www.kobis.or.kr/kobisopenapi/webservice/rest/boxoffice/searchDailyBoxOfficeList.json?key='+key+'&targetDt='+str(targetDt)\n",
    "            res = requests.get(url)\n",
    "            text = res.text\n",
    "            d = json.loads(text)\n",
    "            with open('data/'+str(targetDt)[0:4]+'/'+str(targetDt)+'.json', 'w', encoding=\"utf-8\") as make_file:\n",
    "                json.dump(d, make_file, ensure_ascii=False, indent=\"\\t\")\n",
    "        tmp_date += timedelta(1)"
   ]
  },
  {
   "cell_type": "markdown",
   "metadata": {},
   "source": [
    "샘플 데이터로 2017년 전체 자료를 받아온다"
   ]
  },
  {
   "cell_type": "code",
   "execution_count": 4,
   "metadata": {},
   "outputs": [
    {
     "name": "stderr",
     "output_type": "stream",
     "text": [
      "100%|██████████| 1/1 [00:00<00:00, 1218.57it/s]\n",
      "100%|██████████| 365/365 [00:00<00:00, 62928.35it/s]\n"
     ]
    }
   ],
   "source": [
    "start_date = date(2017,1,1)\n",
    "end_date = date(2017,12,31)\n",
    "check_dir(start_date,end_date)\n",
    "daily_box_office_to_json(start_date,end_date)"
   ]
  },
  {
   "cell_type": "code",
   "execution_count": 5,
   "metadata": {},
   "outputs": [],
   "source": [
    "import pandas as pd\n",
    "import requests\n",
    "import datetime\n",
    "import json\n",
    "from tqdm import tqdm_notebook\n",
    "from dateutil.relativedelta import relativedelta\n",
    "\n",
    "my_date = datetime.date(2017, 1, 1)"
   ]
  },
  {
   "cell_type": "code",
   "execution_count": 6,
   "metadata": {},
   "outputs": [
    {
     "data": {
      "text/plain": [
       "{'boxOfficeResult': {'boxofficeType': '일별 박스오피스',\n",
       "  'showRange': '20170101~20170101',\n",
       "  'dailyBoxOfficeList': [{'rnum': '1',\n",
       "    'rank': '1',\n",
       "    'rankInten': '0',\n",
       "    'rankOldAndNew': 'OLD',\n",
       "    'movieCd': '20161725',\n",
       "    'movieNm': '마스터',\n",
       "    'openDt': '2016-12-21',\n",
       "    'salesAmt': '4399793100',\n",
       "    'salesShare': '46.3',\n",
       "    'salesInten': '-183705150',\n",
       "    'salesChange': '-4',\n",
       "    'salesAcc': '44184434165',\n",
       "    'audiCnt': '506299',\n",
       "    'audiInten': '-31485',\n",
       "    'audiChange': '-5.9',\n",
       "    'audiAcc': '5441619',\n",
       "    'scrnCnt': '1245',\n",
       "    'showCnt': '5721'},\n",
       "   {'rnum': '2',\n",
       "    'rank': '2',\n",
       "    'rankInten': '0',\n",
       "    'rankOldAndNew': 'OLD',\n",
       "    'movieCd': '20163183',\n",
       "    'movieNm': '로그 원: 스타워즈 스토리',\n",
       "    'openDt': '2016-12-28',\n",
       "    'salesAmt': '1612424700',\n",
       "    'salesShare': '17.0',\n",
       "    'salesInten': '-351990650',\n",
       "    'salesChange': '-17.9',\n",
       "    'salesAcc': '6739961794',\n",
       "    'audiCnt': '173451',\n",
       "    'audiInten': '-40093',\n",
       "    'audiChange': '-18.8',\n",
       "    'audiAcc': '769938',\n",
       "    'scrnCnt': '810',\n",
       "    'showCnt': '3335'},\n",
       "   {'rnum': '3',\n",
       "    'rank': '3',\n",
       "    'rankInten': '0',\n",
       "    'rankOldAndNew': 'OLD',\n",
       "    'movieCd': '20162025',\n",
       "    'movieNm': '씽',\n",
       "    'openDt': '2016-12-21',\n",
       "    'salesAmt': '943975500',\n",
       "    'salesShare': '9.9',\n",
       "    'salesInten': '-118258900',\n",
       "    'salesChange': '-11.1',\n",
       "    'salesAcc': '9147833289',\n",
       "    'audiCnt': '115152',\n",
       "    'audiInten': '-18516',\n",
       "    'audiChange': '-13.9',\n",
       "    'audiAcc': '1178327',\n",
       "    'scrnCnt': '721',\n",
       "    'showCnt': '1755'},\n",
       "   {'rnum': '4',\n",
       "    'rank': '4',\n",
       "    'rankInten': '1',\n",
       "    'rankOldAndNew': 'OLD',\n",
       "    'movieCd': '20144641',\n",
       "    'movieNm': '판도라',\n",
       "    'openDt': '2016-12-07',\n",
       "    'salesAmt': '736891900',\n",
       "    'salesShare': '7.7',\n",
       "    'salesInten': '-35339100',\n",
       "    'salesChange': '-4.6',\n",
       "    'salesAcc': '34692290064',\n",
       "    'audiCnt': '87966',\n",
       "    'audiInten': '-6799',\n",
       "    'audiChange': '-7.2',\n",
       "    'audiAcc': '4401830',\n",
       "    'scrnCnt': '576',\n",
       "    'showCnt': '1476'},\n",
       "   {'rnum': '5',\n",
       "    'rank': '5',\n",
       "    'rankInten': '-1',\n",
       "    'rankOldAndNew': 'OLD',\n",
       "    'movieCd': '20167904',\n",
       "    'movieNm': '라라랜드',\n",
       "    'openDt': '2016-12-07',\n",
       "    'salesAmt': '770889600',\n",
       "    'salesShare': '8.1',\n",
       "    'salesInten': '-162044100',\n",
       "    'salesChange': '-17.4',\n",
       "    'salesAcc': '20767028832',\n",
       "    'audiCnt': '87529',\n",
       "    'audiInten': '-21007',\n",
       "    'audiChange': '-19.4',\n",
       "    'audiAcc': '2472637',\n",
       "    'scrnCnt': '590',\n",
       "    'showCnt': '1578'},\n",
       "   {'rnum': '6',\n",
       "    'rank': '6',\n",
       "    'rankInten': '0',\n",
       "    'rankOldAndNew': 'OLD',\n",
       "    'movieCd': '20161872',\n",
       "    'movieNm': '너의 이름은.',\n",
       "    'openDt': '2017-01-04',\n",
       "    'salesAmt': '325811500',\n",
       "    'salesShare': '3.4',\n",
       "    'salesInten': '31854500',\n",
       "    'salesChange': '10.8',\n",
       "    'salesAcc': '640998500',\n",
       "    'audiCnt': '37418',\n",
       "    'audiInten': '3245',\n",
       "    'audiChange': '9.5',\n",
       "    'audiAcc': '74181',\n",
       "    'scrnCnt': '275',\n",
       "    'showCnt': '342'},\n",
       "   {'rnum': '7',\n",
       "    'rank': '7',\n",
       "    'rankInten': '0',\n",
       "    'rankOldAndNew': 'OLD',\n",
       "    'movieCd': '20162727',\n",
       "    'movieNm': '루돌프와 많이있어',\n",
       "    'openDt': '2016-12-28',\n",
       "    'salesAmt': '243890000',\n",
       "    'salesShare': '2.6',\n",
       "    'salesInten': '-23742600',\n",
       "    'salesChange': '-8.9',\n",
       "    'salesAcc': '926773600',\n",
       "    'audiCnt': '29910',\n",
       "    'audiInten': '-4074',\n",
       "    'audiChange': '-12',\n",
       "    'audiAcc': '119420',\n",
       "    'scrnCnt': '372',\n",
       "    'showCnt': '581'},\n",
       "   {'rnum': '8',\n",
       "    'rank': '8',\n",
       "    'rankInten': '0',\n",
       "    'rankOldAndNew': 'OLD',\n",
       "    'movieCd': '20162183',\n",
       "    'movieNm': '포켓몬 더 무비 XY&Z 「볼케니온 : 기계왕국의 비밀」',\n",
       "    'openDt': '2016-12-22',\n",
       "    'salesAmt': '154931400',\n",
       "    'salesShare': '1.6',\n",
       "    'salesInten': '-31745800',\n",
       "    'salesChange': '-17',\n",
       "    'salesAcc': '1821568800',\n",
       "    'audiCnt': '19405',\n",
       "    'audiInten': '-4703',\n",
       "    'audiChange': '-19.5',\n",
       "    'audiAcc': '238452',\n",
       "    'scrnCnt': '300',\n",
       "    'showCnt': '422'},\n",
       "   {'rnum': '9',\n",
       "    'rank': '9',\n",
       "    'rankInten': '0',\n",
       "    'rankOldAndNew': 'OLD',\n",
       "    'movieCd': '20152371',\n",
       "    'movieNm': '당신, 거기 있어줄래요',\n",
       "    'openDt': '2016-12-14',\n",
       "    'salesAmt': '166222000',\n",
       "    'salesShare': '1.7',\n",
       "    'salesInten': '-30383700',\n",
       "    'salesChange': '-15.5',\n",
       "    'salesAcc': '9165307248',\n",
       "    'audiCnt': '18630',\n",
       "    'audiInten': '-4126',\n",
       "    'audiChange': '-18.1',\n",
       "    'audiAcc': '1143445',\n",
       "    'scrnCnt': '261',\n",
       "    'showCnt': '572'},\n",
       "   {'rnum': '10',\n",
       "    'rank': '10',\n",
       "    'rankInten': '1',\n",
       "    'rankOldAndNew': 'OLD',\n",
       "    'movieCd': '20165285',\n",
       "    'movieNm': '극장판 도라에몽: 신 진구의 버스 오브 재팬',\n",
       "    'openDt': '2016-12-21',\n",
       "    'salesAmt': '28628400',\n",
       "    'salesShare': '0.3',\n",
       "    'salesInten': '-7085700',\n",
       "    'salesChange': '-19.8',\n",
       "    'salesAcc': '482548500',\n",
       "    'audiCnt': '3552',\n",
       "    'audiInten': '-985',\n",
       "    'audiChange': '-21.7',\n",
       "    'audiAcc': '62699',\n",
       "    'scrnCnt': '97',\n",
       "    'showCnt': '107'}]}}"
      ]
     },
     "execution_count": 6,
     "metadata": {},
     "output_type": "execute_result"
    }
   ],
   "source": [
    "start_date = date(2017,1,1)\n",
    "targetDt = str(start_date)[0:4]+str(start_date)[5:7]+str(start_date)[8:10]\n",
    "with open('data/'+str(targetDt)[0:4]+'/'+str(targetDt)+'.json', 'r', encoding=\"utf-8\") as read_file:\n",
    "    d = json.load(read_file)\n",
    "d"
   ]
  },
  {
   "cell_type": "code",
   "execution_count": 7,
   "metadata": {},
   "outputs": [],
   "source": [
    "def daily_boxoffice(start_date, end_date) :\n",
    "    \n",
    "    final_list = []\n",
    "\n",
    "    for single_date in tqdm_notebook(pd.date_range(start_date, end_date)) :\n",
    "        targetDt = str(single_date)[0:4]+str(single_date)[5:7]+str(single_date)[8:10]\n",
    "        with open('data/'+str(targetDt)[0:4]+'/'+str(targetDt)+'.json', 'r', encoding=\"utf-8\") as read_file:\n",
    "            d = json.load(read_file)\n",
    "\n",
    "        for item in d[\"boxOfficeResult\"][\"dailyBoxOfficeList\"] :\n",
    "            value_list = []\n",
    "            key_list = []\n",
    "            for key, value in item.items() :\n",
    "                key_list.append(key)\n",
    "                value_list.append(value)\n",
    "\n",
    "            value_list.append(single_date)\n",
    "            key_list.append('CurrentDate')\n",
    "            final_list.append(value_list)\n",
    "\n",
    "    return pd.DataFrame(final_list, columns=key_list)"
   ]
  },
  {
   "cell_type": "code",
   "execution_count": 8,
   "metadata": {},
   "outputs": [
    {
     "data": {
      "application/vnd.jupyter.widget-view+json": {
       "model_id": "adc881edd6904a259d6ef6cbe0edc35d",
       "version_major": 2,
       "version_minor": 0
      },
      "text/plain": [
       "HBox(children=(IntProgress(value=0, max=365), HTML(value='')))"
      ]
     },
     "metadata": {},
     "output_type": "display_data"
    },
    {
     "name": "stdout",
     "output_type": "stream",
     "text": [
      "\n"
     ]
    }
   ],
   "source": [
    "start_date = date(2017,1,1)\n",
    "end_date = date(2017,12,31)\n",
    "a = daily_boxoffice(start_date, end_date)"
   ]
  },
  {
   "cell_type": "markdown",
   "metadata": {},
   "source": [
    "### 일별 박스 오피스를 월별로 추출, 영화코드 리스트 추출 ###ok\n"
   ]
  },
  {
   "cell_type": "code",
   "execution_count": 9,
   "metadata": {},
   "outputs": [
    {
     "data": {
      "application/vnd.jupyter.widget-view+json": {
       "model_id": "9315f889452d4c27a5515919b23f5e86",
       "version_major": 2,
       "version_minor": 0
      },
      "text/plain": [
       "HBox(children=(IntProgress(value=0, max=12), HTML(value='')))"
      ]
     },
     "metadata": {},
     "output_type": "display_data"
    },
    {
     "data": {
      "application/vnd.jupyter.widget-view+json": {
       "model_id": "c57bc26a292449d6a2b66fbd53264241",
       "version_major": 2,
       "version_minor": 0
      },
      "text/plain": [
       "HBox(children=(IntProgress(value=0, max=31), HTML(value='')))"
      ]
     },
     "metadata": {},
     "output_type": "display_data"
    },
    {
     "data": {
      "application/vnd.jupyter.widget-view+json": {
       "model_id": "fcf07c508ed24d9999a48e295d9a267e",
       "version_major": 2,
       "version_minor": 0
      },
      "text/plain": [
       "HBox(children=(IntProgress(value=0, max=28), HTML(value='')))"
      ]
     },
     "metadata": {},
     "output_type": "display_data"
    },
    {
     "data": {
      "application/vnd.jupyter.widget-view+json": {
       "model_id": "a7b129e4d2df46cfa4cde05bf171f0cc",
       "version_major": 2,
       "version_minor": 0
      },
      "text/plain": [
       "HBox(children=(IntProgress(value=0, max=31), HTML(value='')))"
      ]
     },
     "metadata": {},
     "output_type": "display_data"
    },
    {
     "data": {
      "application/vnd.jupyter.widget-view+json": {
       "model_id": "c17a532190d040e0bd792b4322128355",
       "version_major": 2,
       "version_minor": 0
      },
      "text/plain": [
       "HBox(children=(IntProgress(value=0, max=30), HTML(value='')))"
      ]
     },
     "metadata": {},
     "output_type": "display_data"
    },
    {
     "data": {
      "application/vnd.jupyter.widget-view+json": {
       "model_id": "084e67a907c64979ad90233baf84493a",
       "version_major": 2,
       "version_minor": 0
      },
      "text/plain": [
       "HBox(children=(IntProgress(value=0, max=31), HTML(value='')))"
      ]
     },
     "metadata": {},
     "output_type": "display_data"
    },
    {
     "data": {
      "application/vnd.jupyter.widget-view+json": {
       "model_id": "64a571e45a7b439ebfe0c412ef62e073",
       "version_major": 2,
       "version_minor": 0
      },
      "text/plain": [
       "HBox(children=(IntProgress(value=0, max=30), HTML(value='')))"
      ]
     },
     "metadata": {},
     "output_type": "display_data"
    },
    {
     "data": {
      "application/vnd.jupyter.widget-view+json": {
       "model_id": "9c33400447d444baa27cba3e596f24b3",
       "version_major": 2,
       "version_minor": 0
      },
      "text/plain": [
       "HBox(children=(IntProgress(value=0, max=31), HTML(value='')))"
      ]
     },
     "metadata": {},
     "output_type": "display_data"
    },
    {
     "data": {
      "application/vnd.jupyter.widget-view+json": {
       "model_id": "8ba2ac0da6c646c3841fba6f50211f8c",
       "version_major": 2,
       "version_minor": 0
      },
      "text/plain": [
       "HBox(children=(IntProgress(value=0, max=31), HTML(value='')))"
      ]
     },
     "metadata": {},
     "output_type": "display_data"
    },
    {
     "data": {
      "application/vnd.jupyter.widget-view+json": {
       "model_id": "a9d96ba2dd8b4614912398f38cec78f7",
       "version_major": 2,
       "version_minor": 0
      },
      "text/plain": [
       "HBox(children=(IntProgress(value=0, max=30), HTML(value='')))"
      ]
     },
     "metadata": {},
     "output_type": "display_data"
    },
    {
     "data": {
      "application/vnd.jupyter.widget-view+json": {
       "model_id": "5eebabe7198a4abfb106a526e6db96ae",
       "version_major": 2,
       "version_minor": 0
      },
      "text/plain": [
       "HBox(children=(IntProgress(value=0, max=31), HTML(value='')))"
      ]
     },
     "metadata": {},
     "output_type": "display_data"
    },
    {
     "data": {
      "application/vnd.jupyter.widget-view+json": {
       "model_id": "f5336724344748c8b2ddcc41c5dcc626",
       "version_major": 2,
       "version_minor": 0
      },
      "text/plain": [
       "HBox(children=(IntProgress(value=0, max=30), HTML(value='')))"
      ]
     },
     "metadata": {},
     "output_type": "display_data"
    },
    {
     "data": {
      "application/vnd.jupyter.widget-view+json": {
       "model_id": "02702f1a83b24879ac7eb6afcafbfb20",
       "version_major": 2,
       "version_minor": 0
      },
      "text/plain": [
       "HBox(children=(IntProgress(value=0, max=31), HTML(value='')))"
      ]
     },
     "metadata": {},
     "output_type": "display_data"
    },
    {
     "name": "stdout",
     "output_type": "stream",
     "text": [
      "\n"
     ]
    }
   ],
   "source": [
    "movie_code_list_all=pd.DataFrame()\n",
    "for i in tqdm_notebook(range(12)):\n",
    "    start_date = my_date + relativedelta(months=i)\n",
    "    end_date = start_date+ relativedelta(months=1) - datetime.timedelta(days=1)\n",
    "    \n",
    "    daily_boxoffice_data = daily_boxoffice(start_date, end_date)\n",
    "    startdate=start_date.strftime('%Y%m%d')\n",
    "    \n",
    "    enddate=end_date.strftime('%Y%m%d')\n",
    "    \n",
    "    movie_code_list = pd.DataFrame({'movieCd' :daily_boxoffice_data.movieCd.drop_duplicates(), 'movieNm':daily_boxoffice_data.movieNm.drop_duplicates(), 'director':'','Rate' : 0})\n",
    "    \n",
    "    \n",
    "    daily_boxoffice_data.to_csv(\"daliy_boxoffice_data_\"+startdate+\"~\"+enddate+\".csv\", index=False)\n",
    "    movie_code_list.to_csv(\"movie_code_list_\"+startdate+\"~\"+enddate+\".csv\", index=False)\n",
    "    \n",
    "    movie_code_list_all = movie_code_list.append(movie_code_list_all)\n",
    "    movie_code_list_all = movie_code_list_all.drop_duplicates()\n",
    "    movie_code_list_all.to_csv(\"movie_code_list_all.csv\", index=False)"
   ]
  },
  {
   "cell_type": "markdown",
   "metadata": {},
   "source": [
    "--------------------------------------------------------------\n",
    "영화 코드를 통해 영화 정보 파일 불러오기\n",
    "--------------------------------------------------------------"
   ]
  },
  {
   "cell_type": "code",
   "execution_count": 10,
   "metadata": {},
   "outputs": [],
   "source": [
    "def movie_info_api(df):\n",
    "    for i in range(0,len(df['movieCd'])):\n",
    "        movieCd = str(df['movieCd'][i])\n",
    "\n",
    "        if(os.path.isfile(\"/root/movie/movie_info/\"+movieCd+\".json\")):\n",
    "            print(movieCd+\".json already exist!\")\n",
    "\n",
    "        else:\n",
    "            url = 'http://www.kobis.or.kr/kobisopenapi/webservice/rest/movie/searchMovieInfo.json?key='\\\n",
    "                +key+'&movieCd='+movieCd    \n",
    "            res = requests.get(url)\n",
    "            text = res.text\n",
    "            d = json.loads(text)\n",
    "            print(movieCd+\".json is created!\")\n",
    "            with open('movie_info/'+movieCd+'.json', 'w', encoding=\"utf-8\") as make_file:\n",
    "                json.dump(d, make_file, ensure_ascii=False, indent=\"\\t\")"
   ]
  },
  {
   "cell_type": "code",
   "execution_count": 11,
   "metadata": {},
   "outputs": [
    {
     "name": "stdout",
     "output_type": "stream",
     "text": [
      "20165748.json already exist!\n",
      "20173581.json already exist!\n",
      "20178581.json already exist!\n",
      "20161762.json already exist!\n",
      "20040695.json already exist!\n",
      "20168221.json already exist!\n",
      "20179942.json already exist!\n",
      "20175121.json already exist!\n",
      "20174622.json already exist!\n",
      "20080349.json already exist!\n",
      "20175223.json already exist!\n",
      "20174073.json already exist!\n",
      "20170272.json already exist!\n",
      "20175441.json already exist!\n",
      "20175903.json already exist!\n",
      "20174585.json already exist!\n",
      "20173693.json already exist!\n",
      "20174846.json already exist!\n",
      "20167904.json already exist!\n",
      "20170402.json already exist!\n",
      "20170443.json already exist!\n",
      "20150976.json already exist!\n",
      "20175481.json already exist!\n",
      "20176367.json already exist!\n",
      "20000067.json already exist!\n",
      "20170590.json already exist!\n",
      "20179462.json already exist!\n",
      "20030404.json already exist!\n",
      "20174965.json already exist!\n",
      "20176082.json already exist!\n",
      "20176022.json already exist!\n",
      "20176049.json already exist!\n",
      "20176947.json already exist!\n",
      "20177479.json already exist!\n",
      "20172742.json already exist!\n",
      "20171024.json already exist!\n",
      "20173694.json already exist!\n",
      "20164424.json already exist!\n",
      "20070454.json already exist!\n",
      "20165450.json already exist!\n",
      "20176767.json already exist!\n",
      "20174142.json already exist!\n",
      "20175208.json already exist!\n",
      "20172603.json already exist!\n",
      "20169643.json already exist!\n",
      "20173724.json already exist!\n",
      "20173806.json already exist!\n",
      "20173612.json already exist!\n",
      "20177342.json already exist!\n",
      "20174902.json already exist!\n",
      "20171817.json already exist!\n",
      "20161681.json already exist!\n",
      "20173804.json already exist!\n",
      "20173931.json already exist!\n",
      "20175244.json already exist!\n",
      "20168754.json already exist!\n",
      "20175611.json already exist!\n",
      "20174222.json already exist!\n",
      "20173903.json already exist!\n",
      "20174778.json already exist!\n",
      "20175288.json already exist!\n",
      "20175222.json already exist!\n",
      "20172142.json already exist!\n",
      "20170364.json already exist!\n",
      "20154909.json already exist!\n",
      "20171962.json already exist!\n",
      "20171090.json already exist!\n",
      "20172627.json already exist!\n",
      "20173945.json already exist!\n",
      "20166132.json already exist!\n",
      "20170964.json already exist!\n",
      "20171369.json already exist!\n",
      "20168282.json already exist!\n",
      "20154907.json already exist!\n",
      "20171312.json already exist!\n",
      "20173092.json already exist!\n",
      "20169463.json already exist!\n",
      "20172942.json already exist!\n",
      "20175943.json already exist!\n",
      "20158047.json already exist!\n",
      "20172064.json already exist!\n",
      "20176761.json already exist!\n",
      "20164481.json already exist!\n",
      "20174103.json already exist!\n",
      "20162442.json already exist!\n",
      "20162869.json already exist!\n",
      "20164174.json already exist!\n",
      "20179491.json already exist!\n",
      "20151003.json already exist!\n",
      "20179407.json already exist!\n",
      "20179901.json already exist!\n",
      "20179187.json already exist!\n",
      "20179696.json already exist!\n",
      "20170268.json already exist!\n",
      "20171022.json already exist!\n",
      "20171923.json already exist!\n",
      "20172148.json already exist!\n",
      "20160703.json already exist!\n",
      "20177541.json already exist!\n",
      "20170607.json already exist!\n",
      "20170302.json already exist!\n",
      "20161481.json already exist!\n",
      "20168241.json already exist!\n",
      "20173403.json already exist!\n",
      "20164621.json already exist!\n",
      "20167303.json already exist!\n",
      "20178321.json already exist!\n",
      "20174801.json already exist!\n",
      "20177181.json already exist!\n",
      "20177501.json already exist!\n",
      "20175522.json already exist!\n",
      "20170124.json already exist!\n",
      "20179186.json already exist!\n",
      "20161081.json already exist!\n",
      "20178762.json already exist!\n",
      "20178641.json already exist!\n",
      "20179085.json already exist!\n",
      "20179226.json already exist!\n",
      "20170022.json already exist!\n",
      "20165001.json already exist!\n",
      "20170389.json already exist!\n",
      "20178982.json already exist!\n",
      "20166967.json already exist!\n",
      "20159647.json already exist!\n",
      "20158485.json already exist!\n",
      "20166488.json already exist!\n",
      "20166384.json already exist!\n",
      "20176961.json already exist!\n",
      "20162343.json already exist!\n",
      "20178121.json already exist!\n",
      "20175821.json already exist!\n",
      "20020186.json already exist!\n",
      "20174602.json already exist!\n",
      "20176102.json already exist!\n",
      "20176983.json already exist!\n",
      "20176511.json already exist!\n",
      "20179807.json already exist!\n",
      "20176741.json already exist!\n",
      "20177202.json already exist!\n",
      "20081056.json already exist!\n",
      "20177761.json already exist!\n",
      "20176562.json already exist!\n",
      "20179245.json already exist!\n",
      "20161872.json already exist!\n",
      "20176781.json already exist!\n",
      "20177701.json already exist!\n",
      "20178646.json already exist!\n",
      "20168261.json already exist!\n",
      "20169348.json already exist!\n",
      "20170982.json already exist!\n",
      "20175262.json already exist!\n",
      "20174803.json already exist!\n",
      "20164844.json already exist!\n",
      "20162629.json already exist!\n",
      "20173642.json already exist!\n",
      "20176141.json already exist!\n",
      "20174061.json already exist!\n",
      "20174821.json already exist!\n",
      "20175581.json already exist!\n",
      "20160483.json already exist!\n",
      "20173833.json already exist!\n",
      "20175142.json already exist!\n",
      "20168041.json already exist!\n",
      "20175423.json already exist!\n",
      "20175662.json already exist!\n",
      "20172241.json already exist!\n",
      "20176201.json already exist!\n",
      "20175982.json already exist!\n",
      "20040526.json already exist!\n",
      "20161726.json already exist!\n",
      "20162871.json already exist!\n",
      "20167542.json already exist!\n",
      "20161665.json already exist!\n",
      "20174165.json already exist!\n",
      "20164721.json already exist!\n",
      "20151227.json already exist!\n",
      "20173301.json already exist!\n",
      "20164829.json already exist!\n",
      "20172541.json already exist!\n",
      "20163603.json already exist!\n",
      "20162722.json already exist!\n",
      "20173061.json already exist!\n",
      "20174501.json already exist!\n",
      "20170321.json already exist!\n",
      "20156708.json already exist!\n",
      "20163185.json already exist!\n",
      "20179382.json already exist!\n",
      "20173961.json already exist!\n",
      "20174721.json already exist!\n",
      "20172522.json already exist!\n",
      "20174644.json already exist!\n",
      "20175461.json already exist!\n",
      "20162181.json already exist!\n",
      "20163194.json already exist!\n",
      "20151230.json already exist!\n",
      "20167363.json already exist!\n",
      "20167902.json already exist!\n",
      "20167005.json already exist!\n",
      "20167364.json already exist!\n",
      "20171661.json already exist!\n",
      "20179442.json already exist!\n",
      "20171801.json already exist!\n",
      "20171381.json already exist!\n",
      "20167901.json already exist!\n",
      "20161923.json already exist!\n",
      "20171781.json already exist!\n",
      "20173444.json already exist!\n",
      "20162607.json already exist!\n",
      "20040525.json already exist!\n",
      "20173690.json already exist!\n",
      "20170741.json already exist!\n",
      "20173601.json already exist!\n",
      "20174023.json already exist!\n",
      "20179662.json already exist!\n",
      "20174561.json already exist!\n",
      "20172125.json already exist!\n",
      "20173121.json already exist!\n",
      "20149317.json already exist!\n",
      "20172641.json already exist!\n",
      "20150971.json already exist!\n",
      "20161827.json already exist!\n",
      "20170241.json already exist!\n",
      "20166421.json already exist!\n",
      "20161744.json already exist!\n",
      "20158799.json already exist!\n",
      "20150964.json already exist!\n",
      "20165927.json already exist!\n",
      "20166468.json already exist!\n",
      "20166101.json already exist!\n",
      "20168183.json already exist!\n",
      "20168750.json already exist!\n",
      "20170761.json already exist!\n",
      "20170509.json already exist!\n",
      "20167905.json already exist!\n",
      "20178942.json already exist!\n",
      "20170221.json already exist!\n",
      "20168742.json already exist!\n",
      "20170382.json already exist!\n",
      "20164926.json already exist!\n",
      "20151228.json already exist!\n",
      "20151229.json already exist!\n",
      "20168688.json already exist!\n",
      "20165443.json already exist!\n",
      "20167324.json already exist!\n",
      "20168154.json already exist!\n",
      "20167285.json already exist!\n",
      "20163845.json already exist!\n",
      "20179281.json already exist!\n",
      "20165822.json already exist!\n",
      "20162873.json already exist!\n",
      "20154342.json already exist!\n",
      "20167644.json already exist!\n",
      "20167716.json already exist!\n",
      "20178881.json already exist!\n",
      "20161141.json already exist!\n",
      "20163580.json already exist!\n",
      "20167362.json already exist!\n",
      "20161366.json already exist!\n",
      "20167906.json already exist!\n",
      "20161723.json already exist!\n",
      "20156562.json already exist!\n",
      "20167922.json already exist!\n",
      "20161725.json already exist!\n",
      "20163183.json already exist!\n",
      "20162025.json already exist!\n",
      "20144641.json already exist!\n",
      "20162727.json already exist!\n",
      "20162183.json already exist!\n",
      "20152371.json already exist!\n",
      "20165285.json already exist!\n",
      "19890291.json already exist!\n",
      "20161763.json already exist!\n",
      "20163014.json already exist!\n",
      "20161084.json already exist!\n",
      "20150966.json already exist!\n",
      "20165153.json already exist!\n",
      "20151181.json already exist!\n",
      "20164421.json already exist!\n",
      "20168381.json already exist!\n",
      "20168324.json already exist!\n",
      "20168664.json already exist!\n",
      "20163186.json already exist!\n",
      "20168689.json already exist!\n",
      "20168366.json already exist!\n"
     ]
    }
   ],
   "source": [
    "df = pd.read_csv('movie_code_list_all.csv')\n",
    "movie_info_api(df)"
   ]
  },
  {
   "cell_type": "code",
   "execution_count": 12,
   "metadata": {},
   "outputs": [],
   "source": [
    "#영화데이터  : txt 로 저장 함수 정의\n",
    "def movie_data(lists) :    \n",
    "    dict_list = dict()\n",
    "\n",
    "    for movie in lists :\n",
    "        with open('movie_info/'+movie+'.json', 'r', encoding=\"utf-8\") as read_file:\n",
    "            d = json.load(read_file)\n",
    "        \n",
    "        dict_list[movie] = d['movieInfoResult']['movieInfo'] #dict_list[movie] 가 있어야 append형식으로 됨. 없으면 마지막것만 추출\n",
    "    return dict_list"
   ]
  },
  {
   "cell_type": "code",
   "execution_count": 13,
   "metadata": {},
   "outputs": [],
   "source": [
    "movie_info=movie_data(movie_code_list_all.movieCd) \n",
    "with open('movie_info.txt', 'w', encoding='utf-8') as outfile:   #딕셔너리를 json으로 저장\n",
    "    json.dump(movie_info, outfile, ensure_ascii=False)"
   ]
  },
  {
   "cell_type": "code",
   "execution_count": 16,
   "metadata": {
    "scrolled": true
   },
   "outputs": [
    {
     "data": {
      "text/plain": [
       "284"
      ]
     },
     "execution_count": 16,
     "metadata": {},
     "output_type": "execute_result"
    }
   ],
   "source": [
    "#movie_info의  director를 뽑아서 movie_code_list에 넣기\n",
    "movie_info_keys=list(movie_info.keys())\n",
    "len(movie_info_keys)"
   ]
  },
  {
   "cell_type": "code",
   "execution_count": 64,
   "metadata": {},
   "outputs": [
    {
     "name": "stderr",
     "output_type": "stream",
     "text": [
      "/usr/local/lib/python3.6/dist-packages/ipykernel_launcher.py:6: SettingWithCopyWarning: \n",
      "A value is trying to be set on a copy of a slice from a DataFrame\n",
      "\n",
      "See the caveats in the documentation: http://pandas.pydata.org/pandas-docs/stable/indexing.html#indexing-view-versus-copy\n",
      "  \n",
      "/usr/local/lib/python3.6/dist-packages/ipykernel_launcher.py:9: SettingWithCopyWarning: \n",
      "A value is trying to be set on a copy of a slice from a DataFrame\n",
      "\n",
      "See the caveats in the documentation: http://pandas.pydata.org/pandas-docs/stable/indexing.html#indexing-view-versus-copy\n",
      "  if __name__ == '__main__':\n"
     ]
    }
   ],
   "source": [
    "movie_code_list_all = pd.read_csv(\"movie_code_list_all.csv\")\n",
    "for i in range(len(movie_code_list_all)):\n",
    "    with open('movie_info/'+str(movie_code_list_all['movieCd'][i])+'.json', 'r', encoding=\"utf-8\") as make_file:\n",
    "        d = json.load(make_file)\n",
    "    if(d['movieInfoResult']['movieInfo']['directors'] != []):\n",
    "        movie_code_list_all['director'][i]=d['movieInfoResult']['movieInfo']['directors'][0]['peopleNm']\n",
    "        \n",
    "    else:\n",
    "        movie_code_list_all['director'][i] = '---'"
   ]
  },
  {
   "cell_type": "code",
   "execution_count": 65,
   "metadata": {},
   "outputs": [
    {
     "data": {
      "text/plain": [
       "0             장창원\n",
       "1             장항준\n",
       "2         케네스 브래너\n",
       "3             김홍선\n",
       "4            길 정거\n",
       "5          잭 스나이더\n",
       "6        도로타 코비엘라\n",
       "7        타이카 와이티티\n",
       "8        크리스토퍼 랜던\n",
       "9           롭 라이너\n",
       "10       우테 폰 뮌쇼폴\n",
       "11         벤자민 레너\n",
       "12            유영의\n",
       "13            조영준\n",
       "14        후쿠다 유이치\n",
       "15     요네바야시 히로마사\n",
       "16       마이클 쿠에스타\n",
       "17            김현호\n",
       "18        데이미언 셔젤\n",
       "19            양우석\n",
       "20         라이언 존슨\n",
       "21            김용화\n",
       "22        저스틴 채드윅\n",
       "23         고로 사쿠라\n",
       "24         이와이 슌지\n",
       "25            장준환\n",
       "26       마이클 그레이시\n",
       "27        리차드 커티스\n",
       "28       유야마 쿠니히코\n",
       "29          호거 태프\n",
       "          ...    \n",
       "254        제임스 폴리\n",
       "255           장예모\n",
       "256       고어 버빈스키\n",
       "257           마대윤\n",
       "258    알베르토 로드리게즈\n",
       "259           이주영\n",
       "260           김준성\n",
       "261          멜 깁슨\n",
       "262           조의석\n",
       "263       가렛 에드워즈\n",
       "264        가스 제닝스\n",
       "265           박정우\n",
       "266      유야마 쿠니히코\n",
       "267      유야마 쿠니히코\n",
       "268           홍지영\n",
       "269      야쿠와 신노스케\n",
       "270         롭 라이너\n",
       "271          켄 로치\n",
       "272           김진혁\n",
       "273         모튼 틸덤\n",
       "274           주지홍\n",
       "275     알렉세이 트시칠린\n",
       "276           김태용\n",
       "277        저스틴 커젤\n",
       "278      로버트 저메키스\n",
       "279         피터 잭슨\n",
       "280         피터 잭슨\n",
       "281        자비에 돌란\n",
       "282         피터 잭슨\n",
       "283        다라 오코넬\n",
       "Name: director, Length: 284, dtype: object"
      ]
     },
     "execution_count": 65,
     "metadata": {},
     "output_type": "execute_result"
    }
   ],
   "source": [
    "# movie_code_list_all['director'][1]\n",
    "movie_code_list_all['director']"
   ]
  },
  {
   "cell_type": "code",
   "execution_count": 63,
   "metadata": {},
   "outputs": [
    {
     "data": {
      "text/plain": [
       "[]"
      ]
     },
     "execution_count": 63,
     "metadata": {},
     "output_type": "execute_result"
    }
   ],
   "source": [
    "with open('movie_info/'+'20179807'+'.json', 'r', encoding=\"utf-8\") as make_file:\n",
    "    d = json.load(make_file)\n",
    "d['movieInfoResult']['movieInfo']['directors']"
   ]
  },
  {
   "cell_type": "code",
   "execution_count": 66,
   "metadata": {},
   "outputs": [],
   "source": [
    "movie_code_list_all.to_csv(\"movie_code_add_director.csv\")"
   ]
  },
  {
   "cell_type": "code",
   "execution_count": null,
   "metadata": {},
   "outputs": [],
   "source": [
    "############### 네이버 api로 별점 추출, def 이용_1"
   ]
  },
  {
   "cell_type": "code",
   "execution_count": null,
   "metadata": {},
   "outputs": [],
   "source": [
    "from bs4 import BeautifulSoup\n",
    "import urllib.request\n",
    "from urllib.parse import quote\n",
    "import json\n",
    "import re\n",
    "import requests\n",
    "import pandas as pd\n",
    "\n",
    "naver_client_id = \"nA8Iwm4HJ6EM2W1dueU9\"\n",
    "naver_client_secret = \"HaEPQCPbyQ\"\n",
    "\n",
    "def cleanhtml(raw_html):\n",
    "    cleanr = re.compile('<.*?>')\n",
    "    cleantext = re.sub(cleanr, '', raw_html)\n",
    "    return cleantext\n",
    "def searchByTitle(title): #네이버 api\n",
    "    myurl = 'https://openapi.naver.com/v1/search/movie.json?display=100&query=' + quote(title)\n",
    "    request = urllib.request.Request(myurl)\n",
    "    request.add_header(\"X-Naver-Client-Id\",naver_client_id)\n",
    "    request.add_header(\"X-Naver-Client-Secret\",naver_client_secret)\n",
    "    response = urllib.request.urlopen(request)\n",
    "    rescode = response.getcode()\n",
    "    if(rescode==200):\n",
    "        response_body = response.read()\n",
    "        d = json.loads(response_body.decode('utf-8'))\n",
    "        if (len(d['items']) > 0):\n",
    "            return d['items']\n",
    "        else:\n",
    "            return None \n",
    "    else:\n",
    "        print(\"Error Code:\" + rescode)"
   ]
  },
  {
   "cell_type": "code",
   "execution_count": null,
   "metadata": {},
   "outputs": [],
   "source": [
    "#requests data 불러오기\n",
    "def findItemByInput(items):\n",
    "    a = {}\n",
    "    n=len(items)\n",
    "    #print('n = ',n)\n",
    "    for index, item in enumerate(items):\n",
    "        navertitle = cleanhtml(item['title'])\n",
    "        naversubtitle = cleanhtml(item['subtitle'])\n",
    " #       naverpubdate = cleanhtml(item['pubDate'])\n",
    " #       naveractor = cleanhtml(item['actor'])\n",
    "        naverlink = cleanhtml(item['link']) # 있어야함\n",
    "        naverdirecter=cleanhtml(item['director'])\n",
    "        naveruserScore = cleanhtml(item['userRating'])\n",
    " \n",
    "        navertitle1 = navertitle.replace(\" \",\"\")\n",
    "        navertitle1 = navertitle1.replace(\"-\", \",\")\n",
    "        navertitle1 = navertitle1.replace(\":\", \",\")\n",
    " \n",
    "        spScore = getSpecialScore(naverlink)  #기자 평론가 평점을 얻어 옵니다\n",
    "        \n",
    "        naverid = re.split(\"code=\", naverlink)[1]  #네이버가 다루는 영화 고유 ID를 얻어 옵니다\n",
    "   #     print('naveruserScore',naveruserScore)\n",
    "#         print(naveruserScore)\n",
    "#         print(type(naveruserScore))\n",
    "        a[naverdirecter[:3]] = naveruserScore\n",
    "      #  print(naverid, navertitle,naveruserScore, spScore)\n",
    "#         print(index, navertitle, naversubtitle, naveruserScore, spScore)\n",
    "    return a"
   ]
  },
  {
   "cell_type": "code",
   "execution_count": null,
   "metadata": {},
   "outputs": [],
   "source": []
  },
  {
   "cell_type": "code",
   "execution_count": null,
   "metadata": {},
   "outputs": [],
   "source": [
    "def getInfoFromNaver(searchTitle):\n",
    "    items = searchByTitle(searchTitle)\n",
    " \n",
    "    if (items != None):\n",
    "        b = findItemByInput(items)\n",
    "    else:\n",
    "        print(\"No result\") \n",
    "    \n",
    "    print(b)\n",
    "    return b"
   ]
  },
  {
   "cell_type": "code",
   "execution_count": null,
   "metadata": {},
   "outputs": [],
   "source": [
    "def get_soup(url):\n",
    "    source_code = requests.get(url)\n",
    "    plain_text = source_code.text\n",
    "    soup = BeautifulSoup(plain_text, 'lxml')\n",
    "    return soup\n",
    " \n",
    "#기자 평론가 평점을 얻어 옵니다\n",
    "def getSpecialScore(URL):\n",
    "    soup = get_soup(URL)\n",
    "    scorearea = soup.find_all('div', \"spc_score_area\")\n",
    "    newsoup = BeautifulSoup(str(scorearea), 'lxml')\n",
    "    score = newsoup.find_all('em')\n",
    "    if (score and len(score) > 5):\n",
    "        scoreis = score[1].text + score[2].text + score[3].text + score[4].text\n",
    "        return float(scoreis)\n",
    "    else:\n",
    "        return 0.0"
   ]
  },
  {
   "cell_type": "code",
   "execution_count": null,
   "metadata": {},
   "outputs": [],
   "source": [
    "i = movie_code_list_all['movieNm'][1]"
   ]
  },
  {
   "cell_type": "code",
   "execution_count": null,
   "metadata": {},
   "outputs": [],
   "source": [
    "name=movie_code_list_all.iloc[3,3]\n",
    "name"
   ]
  },
  {
   "cell_type": "code",
   "execution_count": null,
   "metadata": {},
   "outputs": [],
   "source": [
    "b=[]\n",
    "# for r in tqdm_notebook(range(3,4)):\n",
    "# print('r = ',r)\n",
    "\n",
    "name=movie_code_list_all['movieNm'][2]\n",
    "print('name = ',name)  \n",
    "\n",
    "#     a = getInfoFromNaver(name)   #이 값을 변수에 넣을 수가 없음 ㅠㅠ 대입이 안됨\n",
    "\n",
    "items = searchByTitle(name)\n",
    "for i in range(len(items)):\n",
    "    print(\"%d : %s\",i, items)\n",
    "    if (items != None):\n",
    "        b.append(findItemByInput(items))\n",
    "    else:\n",
    "        print(\"No result\")\n",
    "\n",
    "# movie_code_list_all"
   ]
  },
  {
   "cell_type": "code",
   "execution_count": null,
   "metadata": {},
   "outputs": [],
   "source": [
    "b"
   ]
  },
  {
   "cell_type": "code",
   "execution_count": null,
   "metadata": {},
   "outputs": [],
   "source": [
    "c = {}\n",
    "for r in tqdm_notebook(range(10)):\n",
    "    print('r = ',r)\n",
    "    \n",
    "    name=movie_code_list_all['movieNm'][r]\n",
    "    print('name = ',name)  \n",
    "    \n",
    "    c[name] = getInfoFromNaver(name)    #이 값을 변수에 넣을 수가 없음 ㅠㅠ 대입이 안됨"
   ]
  },
  {
   "cell_type": "code",
   "execution_count": null,
   "metadata": {},
   "outputs": [],
   "source": [
    "c"
   ]
  },
  {
   "cell_type": "code",
   "execution_count": null,
   "metadata": {},
   "outputs": [],
   "source": [
    "movie_code_list_all['movieNm']"
   ]
  },
  {
   "cell_type": "code",
   "execution_count": null,
   "metadata": {},
   "outputs": [],
   "source": [
    "type(movie_code_list_all)"
   ]
  },
  {
   "cell_type": "code",
   "execution_count": null,
   "metadata": {},
   "outputs": [],
   "source": [
    "for i in range(0,len(c)):\n",
    "    m_Nm = movie_code_list_all[i]['movieNm']\n",
    "    m_dr = movie_code_list_all[i]['director']\n",
    "    if(movie_code_list_all[i]['Rate'] == 0):\n",
    "        for j in range(0, len(c[m_Nm])):\n",
    "            if(m_dr[:3] == c[m_Nm][m_dr[:3]]):\n",
    "                movie_code_list_all[i]['Rate'] = c[m_Nm][j]\n",
    "            else:\n",
    "                movie_code_list_all[i]['Rate'] = 0\n",
    "                "
   ]
  },
  {
   "cell_type": "code",
   "execution_count": null,
   "metadata": {},
   "outputs": [],
   "source": [
    "movie_code_list_all"
   ]
  },
  {
   "cell_type": "code",
   "execution_count": null,
   "metadata": {},
   "outputs": [],
   "source": [
    "############### 네이버 api로 별점 추출, def 이용_2\n",
    "import os\n",
    "import sys\n",
    "import urllib.request\n",
    "import json\n",
    "\n",
    "client_id = \"nA8Iwm4HJ6EM2W1dueU9\"\n",
    "client_secret = \"HaEPQCPbyQ\"\n",
    "\n",
    "with open('movie_info.txt', 'w', encoding='utf-8') as outfile:   \n",
    "    json.dump(movie_info, outfile, ensure_ascii=False)\n",
    "\n",
    "from IPython.display import clear_output\n",
    "\n",
    "def naver_starscore():\n",
    "    for i in tqdm_notebook(range(len(movie_code_list_all))) : \n",
    "        url = 'https://openapi.naver.com/v1/search/movie.json'\n",
    "        dic = {\n",
    "            'query' : movie_code_list_all.iloc[i, 3],\n",
    "            'display' : 100\n",
    "        }\n",
    "\n",
    "        headers = {\n",
    "            'X-Naver-Client-Id' : 'API Client ID',\n",
    "            'X-Naver-Client-Secret' : 'API Client Secret'\n",
    "        }\n",
    "        \n",
    "        request = requests.get(url, headers=headers, dic=payload)        \n",
    "        response = urllib.request.urlopen(request)\n",
    "        rescode = response.getcode()\n",
    "        \n",
    "        if(rescode==200):\n",
    "            response_body = response.read()\n",
    "            js_naver = json.loads(response_body)\n",
    "            print(l, 'th = request success')\n",
    "            print('js_naver = \\n', js_naver)\n",
    "\n",
    "            if js_naver['total']==1: #영화명 1개, 별점 추출                \n",
    "                if movie_code_list_all.iloc[l,3].replace(' ', '') == js_naver['items'][0]['title'][3:-4].replace(' ', ''):\n",
    "                    movie_code_list_all.iloc[l,0] = js_naver['items'][0]['userRating']\n",
    "                    print(' 영화명1개, 일치,  okokokokkok')\n",
    "                else:                \n",
    "                    print(' 영화명1개, 불일치')\n",
    "\n",
    "            else:  #영화명 여러개 \n",
    "             #   print('js_naver[items].count(title) = ',js_naver['items'].count('title'))\n",
    "                for j in range(1,js_naver['items'].count('title')):\n",
    "                 #   print('j = ', j)\n",
    "                    for k in range(80):\n",
    "                 #       print('k = ',k)\n",
    "              #          print('js_naver director =',js_naver['items'][j]['director'][:3],'movie_code_list_all.iloc[k,1] = ',movie_code_list_all.iloc[k,1])\n",
    "                        if js_naver['items'][j]['director'][:3] == movie_code_list_all.iloc[k,1]:                        \n",
    "                            movie_code_list_all.iloc[l,0] = js_naver['items'][0]['userRating']\n",
    "                #            print('영화여러개, 감독 일치, okokokok')\n",
    "                        else:\n",
    "                            movie_code_list_all.iloc[l,0] = 0\n",
    "                   #         print('영화여러개, 감독불일치, 별점 0')\n",
    "        else:\n",
    "            print(\"Error Code:\" + rescode)"
   ]
  },
  {
   "cell_type": "code",
   "execution_count": null,
   "metadata": {},
   "outputs": [],
   "source": [
    "movie_code_list_all"
   ]
  },
  {
   "cell_type": "code",
   "execution_count": null,
   "metadata": {},
   "outputs": [],
   "source": [
    "############### 네이버 api로 별점 추출, display = 100 으로 수정중\n",
    "import os\n",
    "import sys\n",
    "import urllib.request\n",
    "\n",
    "client_id = \"nA8Iwm4HJ6EM2W1dueU9\"\n",
    "client_secret = \"HaEPQCPbyQ\"\n",
    "\n",
    "with open('movie_info.txt', 'w', encoding='utf-8') as outfile:   \n",
    "    json.dump(movie_info, outfile, ensure_ascii=False)\n",
    "\n",
    "for i in tqdm_notebook(range(len(movie_code_list_all))) :  \n",
    "    url = 'https://openapi.naver.com/v1/search/movie.json'\n",
    "    dic = {\n",
    "        'query' : movie_code_list_all.iloc[i, 3],\n",
    "         'display' : 100\n",
    "    }\n",
    "    headers = {\n",
    "         'X-Naver-Client-Id' : 'API Client ID',\n",
    "          'X-Naver-Client-Secret' : 'API Client Secret'\n",
    "       }    \n",
    "    request = requests.get(url, headers=headers, params=dic)\n",
    "    response = urllib.request.urlopen(request)\n",
    "    rescode = response.getcode()        \n",
    "    \n",
    "    if(rescode==200):\n",
    "        response_body = response.read()\n",
    "        js_naver = json.loads(response_body)\n",
    "        print(l, 'th = request success')\n",
    "        print('js_naver = \\n', js_naver)\n",
    "        \n",
    "        if js_naver['total']==1: #영화명 1개, 별점 추출                \n",
    "            if movie_code_list_all.iloc[l,3].replace(' ', '') == js_naver['items'][0]['title'][3:-4].replace(' ', ''):\n",
    "                movie_code_list_all.iloc[l,0] = js_naver['items'][0]['userRating']\n",
    "                print(' 영화명1개, 일치,  okokokokkok')\n",
    "            else:                \n",
    "                print(' 영화명1개, 불일치')\n",
    "                \n",
    "        else:  #영화명 여러개 \n",
    "            print('js_naver[items].count(title) = ',js_naver['items'].count('title'))\n",
    "            for j in range(1,js_naver['items'].count('title')):\n",
    "                print('j = ', j)\n",
    "                for k in range(80):\n",
    "                    print('k = ',k)\n",
    "                    print('js_naver director =',js_naver['items'][j]['director'][:3],'movie_code_list_all.iloc[k,1] = ',movie_code_list_all.iloc[k,1])\n",
    "                    if js_naver['items'][j]['director'][:3] == movie_code_list_all.iloc[k,1]:                        \n",
    "                        movie_code_list_all.iloc[l,0] = js_naver['items'][0]['userRating']\n",
    "            #            print('영화여러개, 감독 일치, okokokok')\n",
    "                    else:\n",
    "                        movie_code_list_all.iloc[l,0] = 0\n",
    "               #         print('영화여러개, 감독불일치, 별점 0')\n",
    "    else:\n",
    "        print(\"Error Code:\" + rescode)"
   ]
  },
  {
   "cell_type": "code",
   "execution_count": null,
   "metadata": {},
   "outputs": [],
   "source": [
    "movie_code_list_all"
   ]
  },
  {
   "cell_type": "code",
   "execution_count": null,
   "metadata": {},
   "outputs": [],
   "source": [
    "############### 네이버 api로 별점 추출, display=10\n",
    "import os\n",
    "import sys\n",
    "import urllib.request\n",
    "\n",
    "client_id = \"nA8Iwm4HJ6EM2W1dueU9\"\n",
    "client_secret = \"HaEPQCPbyQ\"\n",
    "\n",
    "with open('movie_info.txt', 'w', encoding='utf-8') as outfile:   \n",
    "    json.dump(movie_info, outfile, ensure_ascii=False)\n",
    "\n",
    "for l in tqdm_notebook(range(len(movie_code_list_all))):\n",
    "    m=movie_code_list_all.iloc[l,3] #영화명이 iloc[l,3]\n",
    "    encText = urllib.parse.quote(m)\n",
    "    url = \"https://openapi.naver.com/v1/search/movie.json?query=\" + encText # json 결과\n",
    "    request = urllib.request.Request(url)\n",
    "    request.add_header(\"X-Naver-Client-Id\",client_id)\n",
    "    request.add_header(\"X-Naver-Client-Secret\",client_secret)\n",
    "    response = urllib.request.urlopen(request)\n",
    "    rescode = response.getcode()\n",
    "    \n",
    "    if(rescode==200):\n",
    "        response_body = response.read()\n",
    "        js_naver = json.loads(response_body)\n",
    "        print(l, 'th = request success')\n",
    "        print('js_naver = \\n', js_naver)\n",
    "        \n",
    "        if js_naver['total']==1: #영화명 1개, 별점 추출                \n",
    "            if movie_code_list_all.iloc[l,3].replace(' ', '') == js_naver['items'][0]['title'][3:-4].replace(' ', ''):\n",
    "                movie_code_list_all.iloc[l,0] = js_naver['items'][0]['userRating']\n",
    "                print(' 영화명1개, 일치,  okokokokkok')\n",
    "            else:                \n",
    "                print(' 영화명1개, 불일치')\n",
    "                \n",
    "        else:  #영화명 여러개 \n",
    "            print('js_naver[items].count(title) = ',js_naver['items'].count('title'))\n",
    "            for j in range(1,js_naver['items'].count('title')):\n",
    "                print('j = ', j)\n",
    "                for k in range(80):\n",
    "                    print('k = ',k)\n",
    "                    print('js_naver director =',js_naver['items'][j]['director'][:3],'movie_code_list_all.iloc[k,1] = ',movie_code_list_all.iloc[k,1])\n",
    "                    if js_naver['items'][j]['director'][:3] == movie_code_list_all.iloc[k,1]:                        \n",
    "                        movie_code_list_all.iloc[l,0] = js_naver['items'][0]['userRating']\n",
    "            #            print('영화여러개, 감독 일치, okokokok')\n",
    "                    else:\n",
    "                        movie_code_list_all.iloc[l,0] = 0\n",
    "               #         print('영화여러개, 감독불일치, 별점 0')\n",
    "    else:\n",
    "        print(\"Error Code:\" + rescode)"
   ]
  },
  {
   "cell_type": "code",
   "execution_count": null,
   "metadata": {},
   "outputs": [],
   "source": [
    "movie_code_list_all"
   ]
  },
  {
   "cell_type": "code",
   "execution_count": null,
   "metadata": {},
   "outputs": [],
   "source": [
    "movie_code_list_all.to_csv(\"movie_code_list_all.csv\", index=False)"
   ]
  }
 ],
 "metadata": {
  "kernelspec": {
   "display_name": "Python 3",
   "language": "python",
   "name": "python3"
  },
  "language_info": {
   "codemirror_mode": {
    "name": "ipython",
    "version": 3
   },
   "file_extension": ".py",
   "mimetype": "text/x-python",
   "name": "python",
   "nbconvert_exporter": "python",
   "pygments_lexer": "ipython3",
   "version": "3.6.7"
  }
 },
 "nbformat": 4,
 "nbformat_minor": 2
}

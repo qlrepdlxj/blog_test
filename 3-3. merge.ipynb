{
 "cells": [
  {
   "cell_type": "code",
   "execution_count": 1,
   "metadata": {},
   "outputs": [],
   "source": [
    "import pandas as pd\n",
    "import numpy as np"
   ]
  },
  {
   "cell_type": "code",
   "execution_count": 2,
   "metadata": {},
   "outputs": [],
   "source": [
    "df1 = pd.read_csv('movie_code_add_director.csv')\n",
    "df2 = pd.read_csv('naver_04.csv')\n",
    "df1 = df1.drop('Unnamed: 0',1)\n",
    "df1 = df1.drop('Rate',1)\n",
    "df3 = pd.merge(df1,df2,how='left',on='movieNm')"
   ]
  },
  {
   "cell_type": "code",
   "execution_count": 3,
   "metadata": {},
   "outputs": [
    {
     "name": "stdout",
     "output_type": "stream",
     "text": [
      "9 NaN\n"
     ]
    },
    {
     "name": "stderr",
     "output_type": "stream",
     "text": [
      "/usr/local/lib/python3.6/dist-packages/ipykernel_launcher.py:8: SettingWithCopyWarning: \n",
      "A value is trying to be set on a copy of a slice from a DataFrame\n",
      "\n",
      "See the caveats in the documentation: http://pandas.pydata.org/pandas-docs/stable/indexing.html#indexing-view-versus-copy\n",
      "  \n",
      "/usr/local/lib/python3.6/dist-packages/ipykernel_launcher.py:9: SettingWithCopyWarning: \n",
      "A value is trying to be set on a copy of a slice from a DataFrame\n",
      "\n",
      "See the caveats in the documentation: http://pandas.pydata.org/pandas-docs/stable/indexing.html#indexing-view-versus-copy\n",
      "  if __name__ == '__main__':\n",
      "/usr/local/lib/python3.6/dist-packages/ipykernel_launcher.py:10: SettingWithCopyWarning: \n",
      "A value is trying to be set on a copy of a slice from a DataFrame\n",
      "\n",
      "See the caveats in the documentation: http://pandas.pydata.org/pandas-docs/stable/indexing.html#indexing-view-versus-copy\n",
      "  # Remove the CWD from sys.path while we load stuff.\n",
      "/usr/local/lib/python3.6/dist-packages/ipykernel_launcher.py:11: SettingWithCopyWarning: \n",
      "A value is trying to be set on a copy of a slice from a DataFrame\n",
      "\n",
      "See the caveats in the documentation: http://pandas.pydata.org/pandas-docs/stable/indexing.html#indexing-view-versus-copy\n",
      "  # This is added back by InteractiveShellApp.init_path()\n",
      "/usr/local/lib/python3.6/dist-packages/ipykernel_launcher.py:13: SettingWithCopyWarning: \n",
      "A value is trying to be set on a copy of a slice from a DataFrame\n",
      "\n",
      "See the caveats in the documentation: http://pandas.pydata.org/pandas-docs/stable/indexing.html#indexing-view-versus-copy\n",
      "  del sys.path[0]\n",
      "/usr/local/lib/python3.6/dist-packages/ipykernel_launcher.py:14: SettingWithCopyWarning: \n",
      "A value is trying to be set on a copy of a slice from a DataFrame\n",
      "\n",
      "See the caveats in the documentation: http://pandas.pydata.org/pandas-docs/stable/indexing.html#indexing-view-versus-copy\n",
      "  \n",
      "/usr/local/lib/python3.6/dist-packages/ipykernel_launcher.py:15: SettingWithCopyWarning: \n",
      "A value is trying to be set on a copy of a slice from a DataFrame\n",
      "\n",
      "See the caveats in the documentation: http://pandas.pydata.org/pandas-docs/stable/indexing.html#indexing-view-versus-copy\n",
      "  from ipykernel import kernelapp as app\n",
      "/usr/local/lib/python3.6/dist-packages/ipykernel_launcher.py:16: SettingWithCopyWarning: \n",
      "A value is trying to be set on a copy of a slice from a DataFrame\n",
      "\n",
      "See the caveats in the documentation: http://pandas.pydata.org/pandas-docs/stable/indexing.html#indexing-view-versus-copy\n",
      "  app.launch_new_instance()\n",
      "/usr/local/lib/python3.6/dist-packages/ipykernel_launcher.py:18: SettingWithCopyWarning: \n",
      "A value is trying to be set on a copy of a slice from a DataFrame\n",
      "\n",
      "See the caveats in the documentation: http://pandas.pydata.org/pandas-docs/stable/indexing.html#indexing-view-versus-copy\n",
      "/usr/local/lib/python3.6/dist-packages/ipykernel_launcher.py:19: SettingWithCopyWarning: \n",
      "A value is trying to be set on a copy of a slice from a DataFrame\n",
      "\n",
      "See the caveats in the documentation: http://pandas.pydata.org/pandas-docs/stable/indexing.html#indexing-view-versus-copy\n",
      "/usr/local/lib/python3.6/dist-packages/ipykernel_launcher.py:20: SettingWithCopyWarning: \n",
      "A value is trying to be set on a copy of a slice from a DataFrame\n",
      "\n",
      "See the caveats in the documentation: http://pandas.pydata.org/pandas-docs/stable/indexing.html#indexing-view-versus-copy\n",
      "/usr/local/lib/python3.6/dist-packages/ipykernel_launcher.py:21: SettingWithCopyWarning: \n",
      "A value is trying to be set on a copy of a slice from a DataFrame\n",
      "\n",
      "See the caveats in the documentation: http://pandas.pydata.org/pandas-docs/stable/indexing.html#indexing-view-versus-copy\n"
     ]
    },
    {
     "name": "stdout",
     "output_type": "stream",
     "text": [
      "23 NaN\n",
      "54 NaN\n",
      "58 NaN\n",
      "67 NaN\n",
      "71 NaN\n",
      "105 NaN\n",
      "113 NaN\n",
      "116 NaN\n",
      "117 NaN\n",
      "129 NaN\n",
      "130 NaN\n",
      "134 NaN\n",
      "136 NaN\n",
      "142 NaN\n",
      "157 NaN\n",
      "160 NaN\n",
      "163 NaN\n",
      "168 NaN\n",
      "182 NaN\n",
      "189 NaN\n",
      "191 NaN\n",
      "201 NaN\n",
      "207 NaN\n",
      "209 NaN\n",
      "212 NaN\n",
      "218 NaN\n",
      "237 NaN\n",
      "253 NaN\n",
      "269 NaN\n",
      "275 NaN\n",
      "279 NaN\n",
      "280 NaN\n",
      "282 NaN\n"
     ]
    }
   ],
   "source": [
    "for i in range(len(df3['ntz_see_score'])):\n",
    "    if(np.isnan(df3['ntz_see_score'][i])):\n",
    "        print(str(i)+\" NaN\")\n",
    "        name = df3['movieNm'][i].replace(' ','')\n",
    "        for j in range(len(df2)):\n",
    "            df2_name = df2['movieNm'][j].replace(' ','')\n",
    "            if(df2_name[0:8] == name[0:8]):\n",
    "                df3['naver_movieCd'][i] = df2['naver_movieCd'][j]\n",
    "                df3['ntz_see_score'][i] = df2['ntz_see_score'][j]\n",
    "                df3['spc_score'][i] = df2['spc_score'][j]\n",
    "                df3['ntz_score'][i] = df2['ntz_score'][j]\n",
    "                if(df2_name[0:6] == name[0:6]):\n",
    "                    df3['naver_movieCd'][i] = df2['naver_movieCd'][j]\n",
    "                    df3['ntz_see_score'][i] = df2['ntz_see_score'][j]\n",
    "                    df3['spc_score'][i] = df2['spc_score'][j]\n",
    "                    df3['ntz_score'][i] = df2['ntz_score'][j]\n",
    "                    if(df2_name[0:4] == name[0:4]):     \n",
    "                        df3['naver_movieCd'][i] = df2['naver_movieCd'][j]\n",
    "                        df3['ntz_see_score'][i] = df2['ntz_see_score'][j]\n",
    "                        df3['spc_score'][i] = df2['spc_score'][j]\n",
    "                        df3['ntz_score'][i] = df2['ntz_score'][j]            \n",
    "    elif(np.isnan(df3['naver_movieCd'][i])):\n",
    "        df3['naver_movieCd'][i] = 0\n",
    "        df3['ntz_see_score'][i] = 0\n",
    "        df3['spc_score'][i] = 0\n",
    "        df3['ntz_score'][i] = 0"
   ]
  },
  {
   "cell_type": "code",
   "execution_count": 4,
   "metadata": {},
   "outputs": [],
   "source": [
    "df3 = df3.dropna()\n",
    "df3 = df3.reset_index(drop=True)\n",
    "df3.to_csv('movie_04.csv',index=False)"
   ]
  },
  {
   "cell_type": "code",
   "execution_count": null,
   "metadata": {},
   "outputs": [],
   "source": []
  }
 ],
 "metadata": {
  "kernelspec": {
   "display_name": "Python 3",
   "language": "python",
   "name": "python3"
  },
  "language_info": {
   "codemirror_mode": {
    "name": "ipython",
    "version": 3
   },
   "file_extension": ".py",
   "mimetype": "text/x-python",
   "name": "python",
   "nbconvert_exporter": "python",
   "pygments_lexer": "ipython3",
   "version": "3.6.7"
  }
 },
 "nbformat": 4,
 "nbformat_minor": 2
}

{
 "cells": [
  {
   "cell_type": "markdown",
   "metadata": {},
   "source": [
    "### 1. 데이터 분석 설계\n"
   ]
  },
  {
   "cell_type": "markdown",
   "metadata": {},
   "source": [
    "\n",
    "\n",
    "#### 1.1 주제 선정\n",
    "\n",
    "> 오픈 API와 트위터 분석을 통해 영화의 흥행을 예측한다.\n",
    "\n"
   ]
  },
  {
   "cell_type": "markdown",
   "metadata": {},
   "source": [
    "#### 1.2 용어 정리\n",
    "\n",
    "> 용어 ~~~~~~\n",
    "\n"
   ]
  },
  {
   "cell_type": "markdown",
   "metadata": {},
   "source": [
    "#### 1.3 가설 설정-----option\n",
    "\n",
    "> 트위터 분석을 통해 특정 영화에 대한 긍정/부정 의견을 파악해 영화의 흥행여부를 파악\n",
    "\n",
    "##### 1.3.1 변수 선정(종속변수, 독립변수(분석변수, 파생변수))\n",
    "\n",
    "> movieNm = 영화제목, movieCd = 영화코드 ...\n",
    "\n",
    "##### 1.3.2 분석 항목 선정(빈도, 상관관계 등)\n",
    "\n",
    "> 트위터 검색량 & 긍정/부정 비율 & 관객수"
   ]
  },
  {
   "cell_type": "code",
   "execution_count": null,
   "metadata": {},
   "outputs": [],
   "source": []
  }
 ],
 "metadata": {
  "kernelspec": {
   "display_name": "Python 3",
   "language": "python",
   "name": "python3"
  },
  "language_info": {
   "codemirror_mode": {
    "name": "ipython",
    "version": 3
   },
   "file_extension": ".py",
   "mimetype": "text/x-python",
   "name": "python",
   "nbconvert_exporter": "python",
   "pygments_lexer": "ipython3",
   "version": "3.6.7"
  }
 },
 "nbformat": 4,
 "nbformat_minor": 2
}

{
 "cells": [
  {
   "cell_type": "markdown",
   "metadata": {},
   "source": [
    "### 3. 데이터 가공\n",
    "#### 3.1 데이터 추출 및 정제\n",
    "\n",
    "> API 요청을 통해 일별 박스오피스 정보를 저장함\n",
    "\n",
    "> 트위터 크롤링을 통해 해당 영화에 대한 의견을 저장하고 해당 의견이 긍정인지 부정인지 파악함\n",
    "\n",
    "#### 3.2 데이터 병합\n",
    "\n",
    "> JSON 파일을 CSV 파일로 병합한 뒤 데이터베이스에 입력 \n",
    "\n",
    "#### 3.3 데이터 포맷 변환\n",
    "\n",
    "> 3.2의 과정에서 적절한 형식으로 데이터 변환\n",
    "\n",
    "#### 3.4 데이터를 DB에 삽입\n",
    "\n",
    "> CSV 파일을 데이터베이스에 삽입\n"
   ]
  }
 ],
 "metadata": {
  "kernelspec": {
   "display_name": "Python 3",
   "language": "python",
   "name": "python3"
  },
  "language_info": {
   "codemirror_mode": {
    "name": "ipython",
    "version": 3
   },
   "file_extension": ".py",
   "mimetype": "text/x-python",
   "name": "python",
   "nbconvert_exporter": "python",
   "pygments_lexer": "ipython3",
   "version": "3.6.7"
  }
 },
 "nbformat": 4,
 "nbformat_minor": 2
}

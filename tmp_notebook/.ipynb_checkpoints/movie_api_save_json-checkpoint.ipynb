{
 "cells": [
  {
   "cell_type": "markdown",
   "metadata": {},
   "source": [
    "### 영화진흥위원회 KOBIS OPENAPI\n",
    "\n",
    "영화관 입장권 통합 전산망 OPENAPI를 사용하여 일일 박스오피스 자료를 가져오고 JSON파일로 저장"
   ]
  },
  {
   "cell_type": "code",
   "execution_count": null,
   "metadata": {},
   "outputs": [],
   "source": [
    "import os\n",
    "import requests\n",
    "import json\n",
    "import calendar\n",
    "from tqdm import tqdm\n",
    "from datetime import date, timedelta\n",
    "\n",
    "key='ad816991534afeaef71f07e7336b0d61'\n",
    "movie_info_path='/root/movie/data/'"
   ]
  },
  {
   "cell_type": "markdown",
   "metadata": {},
   "source": [
    "폴더가 존재하는지 확인한 뒤 없으면 생성하는 함수"
   ]
  },
  {
   "cell_type": "code",
   "execution_count": null,
   "metadata": {},
   "outputs": [],
   "source": [
    "def check_dir(start_date,end_date):    \n",
    "    start_year = int(start_date.year)\n",
    "    end_year = int(end_date.year)\n",
    "    year = start_year\n",
    "    for i in tqdm(range(start_year,end_year+1)):        \n",
    "        if(os.path.isdir(movie_info_path+str(year))!=1):\n",
    "            os.mkdir(movie_info_path+str(year)+'/')\n",
    "            print(\"create \"+str(year)+\" folder\") \n",
    "            \n",
    "        if(os.path.isdir(movie_info_path+str(year)+'_K')!=1):\n",
    "            os.mkdir(movie_info_path+str(year)+'_K/')\n",
    "            print(\"create \"+str(year)+\"_K folder\")   \n",
    "            \n",
    "        if(os.path.isdir(movie_info_path+str(year)+'_F')!=1):\n",
    "            os.mkdir(movie_info_path+str(year)+'_F/')\n",
    "            print(\"create \"+str(year)+\"_F folder\")    \n",
    "        year += 1"
   ]
  },
  {
   "cell_type": "markdown",
   "metadata": {},
   "source": [
    "일일 박스오피스 자료를 찾고 없으면 API를 통해 자료를 받아온다\n",
    "\n",
    "파일은 JSON 타입으로 해당 폴더에 저장"
   ]
  },
  {
   "cell_type": "code",
   "execution_count": 3,
   "metadata": {},
   "outputs": [],
   "source": [
    "def daily_box_office_to_json(start_date,end_date):    \n",
    "    tmp_date = start_date\n",
    "    startDt = int(str(start_date)[0:4]+str(start_date)[5:7]+str(start_date)[8:10])\n",
    "    endDt = int(str(end_date)[0:4]+str(end_date)[5:7]+str(end_date)[8:10])\n",
    "    days = end_date - start_date\n",
    "    for i in tqdm(range(0,days.days+1)):\n",
    "        targetDt = int(str(tmp_date)[0:4]+str(tmp_date)[5:7]+str(tmp_date)[8:10])\n",
    "        \n",
    "        if(os.path.isfile(\"/root/movie/data/\"+str(targetDt)[0:4]+'/'+str(targetDt)+'.json')!=1):\n",
    "            url='http://www.kobis.or.kr/kobisopenapi/webservice/rest/boxoffice/searchDailyBoxOfficeList.json?key='+key+'&targetDt='+str(targetDt)\n",
    "            res = requests.get(url)\n",
    "            text = res.text\n",
    "            d = json.loads(text)\n",
    "            with open('data/'+str(targetDt)[0:4]+'/'+str(targetDt)+'.json', 'w', encoding=\"utf-8\") as make_file:\n",
    "                json.dump(d, make_file, ensure_ascii=False, indent=\"\\t\")\n",
    "                \n",
    "        if(os.path.isfile(\"/root/movie/data/\"+str(targetDt)[0:4]+'_K/'+str(targetDt)+'_K.json')!=1):\n",
    "            url='http://www.kobis.or.kr/kobisopenapi/webservice/rest/boxoffice/searchDailyBoxOfficeList.json?key='+key+'&targetDt='+str(targetDt)+'&repNationCd=K'\n",
    "            res = requests.get(url)\n",
    "            text = res.text\n",
    "            d = json.loads(text)\n",
    "            with open('data/'+str(targetDt)[0:4]+'_K/'+str(targetDt)+'_K.json', 'w', encoding=\"utf-8\") as make_file:\n",
    "                json.dump(d, make_file, ensure_ascii=False, indent=\"\\t\")\n",
    "                \n",
    "        if(os.path.isfile(\"/root/movie/data/\"+str(targetDt)[0:4]+'_F/'+str(targetDt)+'_F.json')!=1):\n",
    "            url='http://www.kobis.or.kr/kobisopenapi/webservice/rest/boxoffice/searchDailyBoxOfficeList.json?key='+key+'&targetDt='+str(targetDt)+'&repNationCd=F'\n",
    "            res = requests.get(url)\n",
    "            text = res.text\n",
    "            d = json.loads(text)\n",
    "            with open('data/'+str(targetDt)[0:4]+'_F/'+str(targetDt)+'_F.json', 'w', encoding=\"utf-8\") as make_file:\n",
    "                json.dump(d, make_file, ensure_ascii=False, indent=\"\\t\")\n",
    "\n",
    "        tmp_date += timedelta(1)"
   ]
  },
  {
   "cell_type": "markdown",
   "metadata": {},
   "source": [
    "샘플 데이터로 2017년 전체 자료를 받아온다"
   ]
  },
  {
   "cell_type": "code",
   "execution_count": null,
   "metadata": {},
   "outputs": [
    {
     "name": "stderr",
     "output_type": "stream",
     "text": [
      "100%|██████████| 1/1 [00:00<00:00, 631.01it/s]\n",
      " 53%|█████▎    | 194/365 [06:49<06:36,  2.32s/it]"
     ]
    }
   ],
   "source": [
    "start_date = date(2017,1,1)\n",
    "end_date = date(2017,12,31)\n",
    "check_dir(start_date,end_date)\n",
    "daily_box_office_to_json(start_date,end_date)"
   ]
  }
 ],
 "metadata": {
  "kernelspec": {
   "display_name": "Python 3",
   "language": "python",
   "name": "python3"
  },
  "language_info": {
   "codemirror_mode": {
    "name": "ipython",
    "version": 3
   },
   "file_extension": ".py",
   "mimetype": "text/x-python",
   "name": "python",
   "nbconvert_exporter": "python",
   "pygments_lexer": "ipython3",
   "version": "3.6.7"
  }
 },
 "nbformat": 4,
 "nbformat_minor": 2
}

{
 "cells": [
  {
   "cell_type": "code",
   "execution_count": 2,
   "metadata": {},
   "outputs": [],
   "source": [
    "from twitterscraper import query_tweets\n",
    "from datetime import date"
   ]
  },
  {
   "cell_type": "code",
   "execution_count": 4,
   "metadata": {},
   "outputs": [
    {
     "name": "stderr",
     "output_type": "stream",
     "text": [
      "INFO: queries: ['#마스터 since:2017-01-01 until:2017-01-02', '#마스터 since:2017-01-02 until:2017-01-04', '#마스터 since:2017-01-04 until:2017-01-05', '#마스터 since:2017-01-05 until:2017-01-07', '#마스터 since:2017-01-07 until:2017-01-08', '#마스터 since:2017-01-08 until:2017-01-10', '#마스터 since:2017-01-10 until:2017-01-11', '#마스터 since:2017-01-11 until:2017-01-13', '#마스터 since:2017-01-13 until:2017-01-14', '#마스터 since:2017-01-14 until:2017-01-16', '#마스터 since:2017-01-16 until:2017-01-17', '#마스터 since:2017-01-17 until:2017-01-19', '#마스터 since:2017-01-19 until:2017-01-20', '#마스터 since:2017-01-20 until:2017-01-22', '#마스터 since:2017-01-22 until:2017-01-23', '#마스터 since:2017-01-23 until:2017-01-25', '#마스터 since:2017-01-25 until:2017-01-26', '#마스터 since:2017-01-26 until:2017-01-28', '#마스터 since:2017-01-28 until:2017-01-29', '#마스터 since:2017-01-29 until:2017-01-31']\n",
      "INFO: Querying #마스터 since:2017-01-01 until:2017-01-02\n",
      "INFO: Querying #마스터 since:2017-01-02 until:2017-01-04\n",
      "INFO: Querying #마스터 since:2017-01-08 until:2017-01-10\n",
      "INFO: Querying #마스터 since:2017-01-04 until:2017-01-05\n",
      "INFO: Querying #마스터 since:2017-01-07 until:2017-01-08\n",
      "INFO: Querying #마스터 since:2017-01-05 until:2017-01-07\n",
      "INFO: Querying #마스터 since:2017-01-19 until:2017-01-20\n",
      "INFO: Querying #마스터 since:2017-01-17 until:2017-01-19\n",
      "INFO: Querying #마스터 since:2017-01-16 until:2017-01-17\n",
      "INFO: Querying #마스터 since:2017-01-10 until:2017-01-11\n",
      "INFO: Querying #마스터 since:2017-01-23 until:2017-01-25\n",
      "INFO: Querying #마스터 since:2017-01-22 until:2017-01-23\n",
      "INFO: Querying #마스터 since:2017-01-20 until:2017-01-22\n",
      "INFO: Querying #마스터 since:2017-01-26 until:2017-01-28\n",
      "INFO: Querying #마스터 since:2017-01-14 until:2017-01-16\n",
      "INFO: Querying #마스터 since:2017-01-29 until:2017-01-31\n",
      "INFO: Querying #마스터 since:2017-01-25 until:2017-01-26\n",
      "INFO: Querying #마스터 since:2017-01-28 until:2017-01-29\n",
      "INFO: Querying #마스터 since:2017-01-13 until:2017-01-14\n",
      "INFO: Querying #마스터 since:2017-01-11 until:2017-01-13\n",
      "INFO: Got 0 tweets for %23마스터%20since%3A2017-01-02%20until%3A2017-01-04.\n",
      "INFO: Got 0 tweets for %23마스터%20since%3A2017-01-04%20until%3A2017-01-05.\n",
      "INFO: Got 0 tweets (0 new).\n",
      "INFO: Got 0 tweets (0 new).\n",
      "INFO: Got 0 tweets for %23마스터%20since%3A2017-01-22%20until%3A2017-01-23.\n",
      "INFO: Got 0 tweets (0 new).\n",
      "INFO: Got 0 tweets for %23마스터%20since%3A2017-01-08%20until%3A2017-01-10.\n",
      "INFO: Got 0 tweets (0 new).\n",
      "INFO: Got 0 tweets for %23마스터%20since%3A2017-01-19%20until%3A2017-01-20.\n",
      "INFO: Got 0 tweets (0 new).\n",
      "INFO: Got 0 tweets for %23마스터%20since%3A2017-01-14%20until%3A2017-01-16.\n",
      "INFO: Got 0 tweets (0 new).\n",
      "INFO: Got 0 tweets for %23마스터%20since%3A2017-01-11%20until%3A2017-01-13.\n",
      "INFO: Got 0 tweets for %23마스터%20since%3A2017-01-23%20until%3A2017-01-25.\n",
      "INFO: Got 0 tweets (0 new).\n",
      "INFO: Got 0 tweets (0 new).\n",
      "INFO: Got 0 tweets for %23마스터%20since%3A2017-01-10%20until%3A2017-01-11.\n",
      "INFO: Got 0 tweets (0 new).\n",
      "INFO: Got 0 tweets for %23마스터%20since%3A2017-01-20%20until%3A2017-01-22.\n",
      "INFO: Got 0 tweets (0 new).\n",
      "INFO: Got 0 tweets for %23마스터%20since%3A2017-01-25%20until%3A2017-01-26.\n",
      "INFO: Got 0 tweets for %23마스터%20since%3A2017-01-16%20until%3A2017-01-17.\n",
      "INFO: Got 0 tweets (0 new).\n",
      "INFO: Got 0 tweets (0 new).\n",
      "INFO: Got 0 tweets for %23마스터%20since%3A2017-01-07%20until%3A2017-01-08.\n",
      "INFO: Got 0 tweets (0 new).\n",
      "INFO: Got 0 tweets for %23마스터%20since%3A2017-01-13%20until%3A2017-01-14.\n",
      "INFO: Got 0 tweets for %23마스터%20since%3A2017-01-05%20until%3A2017-01-07.\n",
      "INFO: Got 0 tweets (0 new).\n",
      "INFO: Got 0 tweets (0 new).\n",
      "INFO: Got 0 tweets for %23마스터%20since%3A2017-01-01%20until%3A2017-01-02.\n",
      "INFO: Got 0 tweets (0 new).\n",
      "INFO: Got 0 tweets for %23마스터%20since%3A2017-01-26%20until%3A2017-01-28.\n",
      "INFO: Got 0 tweets (0 new).\n",
      "INFO: Got 0 tweets for %23마스터%20since%3A2017-01-17%20until%3A2017-01-19.\n",
      "INFO: Got 0 tweets (0 new).\n",
      "INFO: Got 0 tweets for %23마스터%20since%3A2017-01-29%20until%3A2017-01-31.\n",
      "INFO: Got 0 tweets (0 new).\n",
      "INFO: Got 0 tweets for %23마스터%20since%3A2017-01-28%20until%3A2017-01-29.\n",
      "INFO: Got 0 tweets (0 new).\n"
     ]
    }
   ],
   "source": [
    "import json\n",
    "file = open('output.txt','w',encoding='utf-8')\n",
    "for tweet in query_tweets(\"#마스터\", 10, date(2017,1,1), date(2017,1,31), 20):\n",
    "#     print(tweet.text)\n",
    "#     print('')\n",
    "    text = tweet.text\n",
    "    text2 = text+\"\\n\\n\"\n",
    "    file.write(text2)\n",
    "    \n",
    "file.close()"
   ]
  },
  {
   "cell_type": "code",
   "execution_count": null,
   "metadata": {},
   "outputs": [],
   "source": []
  },
  {
   "cell_type": "code",
   "execution_count": null,
   "metadata": {},
   "outputs": [],
   "source": []
  }
 ],
 "metadata": {
  "kernelspec": {
   "display_name": "Python 3",
   "language": "python",
   "name": "python3"
  },
  "language_info": {
   "codemirror_mode": {
    "name": "ipython",
    "version": 3
   },
   "file_extension": ".py",
   "mimetype": "text/x-python",
   "name": "python",
   "nbconvert_exporter": "python",
   "pygments_lexer": "ipython3",
   "version": "3.6.7"
  }
 },
 "nbformat": 4,
 "nbformat_minor": 2
}

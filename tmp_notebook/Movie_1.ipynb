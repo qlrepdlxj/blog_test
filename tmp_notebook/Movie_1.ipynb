{
 "cells": [
  {
   "cell_type": "markdown",
   "metadata": {
    "slideshow": {
     "slide_type": "slide"
    }
   },
   "source": [
    "# 영화 빅데이터 분석\n",
    "\n",
    "영화진흥위원회의 영화관 입장권 통합 전산망 오픈 API에서 제공하는 박스오피스 결과를 통해 영화의 흥행을 분석"
   ]
  },
  {
   "cell_type": "markdown",
   "metadata": {
    "slideshow": {
     "slide_type": "slide"
    }
   },
   "source": [
    "## (1) 영화 데이터 수집\n",
    "\n",
    "API에서 제공하는 일일박스오피스 정보를 불러와 JSON파일로 저장"
   ]
  },
  {
   "cell_type": "code",
   "execution_count": 12,
   "metadata": {
    "slideshow": {
     "slide_type": "slide"
    }
   },
   "outputs": [],
   "source": [
    "import requests\n",
    "import json\n",
    "from tqdm import tqdm\n",
    "# api 사용을 위해 발급받은 key 값을 변수에 저장\n",
    "key='ad816991534afeaef71f07e7336b0d61'\n",
    "targetDt=20170301"
   ]
  },
  {
   "cell_type": "code",
   "execution_count": 12,
   "metadata": {
    "slideshow": {
     "slide_type": "slide"
    }
   },
   "outputs": [
    {
     "name": "stderr",
     "output_type": "stream",
     "text": [
      "100%|██████████| 31/31 [01:13<00:00,  2.24s/it]\n"
     ]
    }
   ],
   "source": [
    "for i in tqdm(range(1,32)):\n",
    "#일일 박스오피스를 아무 옵션도 주지않고 날짜별로 검색한 뒤 JSON파일 저장\n",
    "    url1='http://www.kobis.or.kr/kobisopenapi/webservice/rest/boxoffice/searchDailyBoxOfficeList.json?key='\\\n",
    "        +key+'&targetDt='+str(targetDt)\n",
    "    \n",
    "    res1 = requests.get(url1)\n",
    "    text1 = res1.text\n",
    "    d1 = json.loads(text1)\n",
    "    \n",
    "    with open('data/'+str(targetDt)[0:4]+'/'+str(targetDt)[4:6]+'/daily_box_office/'+str(targetDt)+'.json', 'w', encoding=\"utf-8\") as make_file:\n",
    "        json.dump(d1, make_file, ensure_ascii=False, indent=\"\\t\")\n",
    "\n",
    "# 한국영화의 일일 박스오피스 자료를 검색하고 JSON파일로 저장\n",
    "    url2=url1+'&repNationCd=K'\n",
    "    \n",
    "    res2 = requests.get(url2)\n",
    "    text2 = res2.text\n",
    "    d2 = json.loads(text2)\n",
    "    \n",
    "    with open('data/'+str(targetDt)[0:4]+'/'+str(targetDt)[4:6]+'/daily_box_office_k/'+str(targetDt)+'_K.json', 'w', encoding=\"utf-8\") as make_file:\n",
    "        json.dump(d2, make_file, ensure_ascii=False, indent=\"\\t\")\n",
    "        \n",
    "# 해외영화의 일일 박스오피스 자료를 검색하고 JSON파일로 저장\n",
    "    url3=url1+'&repNationCd=F'    \n",
    "    \n",
    "    res3 = requests.get(url3)  \n",
    "    text3 = res3.text    \n",
    "    d3 = json.loads(text3)\n",
    "        \n",
    "    with open('data/'+str(targetDt)[0:4]+'/'+str(targetDt)[4:6]+'/daily_box_office_f/'+str(targetDt)+'_F.json', 'w', encoding=\"utf-8\") as make_file:\n",
    "        json.dump(d3, make_file, ensure_ascii=False, indent=\"\\t\")\n",
    "    \n",
    "    targetDt += 1"
   ]
  },
  {
   "cell_type": "code",
   "execution_count": 4,
   "metadata": {
    "slideshow": {
     "slide_type": "slide"
    }
   },
   "outputs": [
    {
     "data": {
      "text/plain": [
       "['신과함께-죄와 벌',\n",
       " '1987',\n",
       " '강철비',\n",
       " '위대한 쇼맨',\n",
       " '극장판 포켓몬스터 너로 정했다!',\n",
       " '몬스터 패밀리',\n",
       " '원더',\n",
       " '뽀로로 극장판 공룡섬 대모험',\n",
       " '극장판 프리파라 모두의 동경♪ 렛츠고☆프리파리',\n",
       " '스타워즈: 라스트 제다이']"
      ]
     },
     "execution_count": 4,
     "metadata": {},
     "output_type": "execute_result"
    }
   ],
   "source": [
    "import json\n",
    "result=[]\n",
    "result_name=[]\n",
    "targetDt=20180101\n",
    "for i in range(0,10):   \n",
    "    with open('data/2018/01/daily_box_office/'+str(targetDt)+'.json', 'r', encoding=\"utf-8\") as data_file:\n",
    "        data = json.load(data_file)\n",
    "    result.insert(i,data['boxOfficeResult']['dailyBoxOfficeList'][i]['salesAmt'])\n",
    "    result_name.insert(i,data['boxOfficeResult']['dailyBoxOfficeList'][i]['movieNm'])\n",
    "result_name"
   ]
  },
  {
   "cell_type": "code",
   "execution_count": 6,
   "metadata": {
    "slideshow": {
     "slide_type": "slide"
    }
   },
   "outputs": [
    {
     "data": {
      "text/html": [
       "<script type=\"text/javascript\">window.PlotlyConfig = {MathJaxConfig: 'local'};</script><script type=\"text/javascript\">if (window.MathJax) {MathJax.Hub.Config({SVG: {font: \"STIX-Web\"}});}</script><script>requirejs.config({paths: { 'plotly': ['https://cdn.plot.ly/plotly-latest.min']},});if(!window._Plotly) {require(['plotly'],function(plotly) {window._Plotly=plotly;});}</script>"
      ],
      "text/vnd.plotly.v1+html": [
       "<script type=\"text/javascript\">window.PlotlyConfig = {MathJaxConfig: 'local'};</script><script type=\"text/javascript\">if (window.MathJax) {MathJax.Hub.Config({SVG: {font: \"STIX-Web\"}});}</script><script>requirejs.config({paths: { 'plotly': ['https://cdn.plot.ly/plotly-latest.min']},});if(!window._Plotly) {require(['plotly'],function(plotly) {window._Plotly=plotly;});}</script>"
      ]
     },
     "metadata": {},
     "output_type": "display_data"
    },
    {
     "data": {
      "application/vnd.plotly.v1+json": {
       "config": {
        "linkText": "Export to plot.ly",
        "plotlyServerURL": "https://plot.ly",
        "showLink": true
       },
       "data": [
        {
         "labels": [
          "신과함께-죄와 벌",
          "1987",
          "강철비",
          "위대한 쇼맨",
          "극장판 포켓몬스터 너로 정했다!",
          "몬스터 패밀리",
          "원더",
          "뽀로로 극장판 공룡섬 대모험",
          "극장판 프리파라 모두의 동경♪ 렛츠고☆프리파리",
          "스타워즈: 라스트 제다이"
         ],
         "type": "pie",
         "uid": "f56125b3-2375-445e-b27a-85d68c627e18",
         "values": [
          "7715149100",
          "4460462100",
          "944228600",
          "509947700",
          "262886500",
          "205793300",
          "158549600",
          "109207600",
          "47882900",
          "35090500"
         ]
        }
       ],
       "layout": {}
      },
      "text/html": [
       "<div id=\"462e2c9d-3ff6-40dd-a038-2b6a93ba9d8c\" style=\"height: 525px; width: 100%;\" class=\"plotly-graph-div\"></div><script type=\"text/javascript\">require([\"plotly\"], function(Plotly) { window.PLOTLYENV=window.PLOTLYENV || {};window.PLOTLYENV.BASE_URL=\"https://plot.ly\";Plotly.newPlot(\"462e2c9d-3ff6-40dd-a038-2b6a93ba9d8c\", [{\"labels\": [\"\\uc2e0\\uacfc\\ud568\\uaed8-\\uc8c4\\uc640 \\ubc8c\", \"1987\", \"\\uac15\\ucca0\\ube44\", \"\\uc704\\ub300\\ud55c \\uc1fc\\ub9e8\", \"\\uadf9\\uc7a5\\ud310 \\ud3ec\\ucf13\\ubaac\\uc2a4\\ud130 \\ub108\\ub85c \\uc815\\ud588\\ub2e4!\", \"\\ubaac\\uc2a4\\ud130 \\ud328\\ubc00\\ub9ac\", \"\\uc6d0\\ub354\", \"\\ubf40\\ub85c\\ub85c \\uadf9\\uc7a5\\ud310 \\uacf5\\ub8e1\\uc12c \\ub300\\ubaa8\\ud5d8\", \"\\uadf9\\uc7a5\\ud310 \\ud504\\ub9ac\\ud30c\\ub77c \\ubaa8\\ub450\\uc758 \\ub3d9\\uacbd\\u266a \\ub81b\\uce20\\uace0\\u2606\\ud504\\ub9ac\\ud30c\\ub9ac\", \"\\uc2a4\\ud0c0\\uc6cc\\uc988: \\ub77c\\uc2a4\\ud2b8 \\uc81c\\ub2e4\\uc774\"], \"values\": [\"7715149100\", \"4460462100\", \"944228600\", \"509947700\", \"262886500\", \"205793300\", \"158549600\", \"109207600\", \"47882900\", \"35090500\"], \"type\": \"pie\", \"uid\": \"5d63c6d9-c564-4f16-b0d2-75363eb09feb\"}], {}, {\"showLink\": true, \"linkText\": \"Export to plot.ly\", \"plotlyServerURL\": \"https://plot.ly\"})});</script><script type=\"text/javascript\">window.addEventListener(\"resize\", function(){window._Plotly.Plots.resize(document.getElementById(\"462e2c9d-3ff6-40dd-a038-2b6a93ba9d8c\"));});</script>"
      ],
      "text/vnd.plotly.v1+html": [
       "<div id=\"462e2c9d-3ff6-40dd-a038-2b6a93ba9d8c\" style=\"height: 525px; width: 100%;\" class=\"plotly-graph-div\"></div><script type=\"text/javascript\">require([\"plotly\"], function(Plotly) { window.PLOTLYENV=window.PLOTLYENV || {};window.PLOTLYENV.BASE_URL=\"https://plot.ly\";Plotly.newPlot(\"462e2c9d-3ff6-40dd-a038-2b6a93ba9d8c\", [{\"labels\": [\"\\uc2e0\\uacfc\\ud568\\uaed8-\\uc8c4\\uc640 \\ubc8c\", \"1987\", \"\\uac15\\ucca0\\ube44\", \"\\uc704\\ub300\\ud55c \\uc1fc\\ub9e8\", \"\\uadf9\\uc7a5\\ud310 \\ud3ec\\ucf13\\ubaac\\uc2a4\\ud130 \\ub108\\ub85c \\uc815\\ud588\\ub2e4!\", \"\\ubaac\\uc2a4\\ud130 \\ud328\\ubc00\\ub9ac\", \"\\uc6d0\\ub354\", \"\\ubf40\\ub85c\\ub85c \\uadf9\\uc7a5\\ud310 \\uacf5\\ub8e1\\uc12c \\ub300\\ubaa8\\ud5d8\", \"\\uadf9\\uc7a5\\ud310 \\ud504\\ub9ac\\ud30c\\ub77c \\ubaa8\\ub450\\uc758 \\ub3d9\\uacbd\\u266a \\ub81b\\uce20\\uace0\\u2606\\ud504\\ub9ac\\ud30c\\ub9ac\", \"\\uc2a4\\ud0c0\\uc6cc\\uc988: \\ub77c\\uc2a4\\ud2b8 \\uc81c\\ub2e4\\uc774\"], \"values\": [\"7715149100\", \"4460462100\", \"944228600\", \"509947700\", \"262886500\", \"205793300\", \"158549600\", \"109207600\", \"47882900\", \"35090500\"], \"type\": \"pie\", \"uid\": \"5d63c6d9-c564-4f16-b0d2-75363eb09feb\"}], {}, {\"showLink\": true, \"linkText\": \"Export to plot.ly\", \"plotlyServerURL\": \"https://plot.ly\"})});</script><script type=\"text/javascript\">window.addEventListener(\"resize\", function(){window._Plotly.Plots.resize(document.getElementById(\"462e2c9d-3ff6-40dd-a038-2b6a93ba9d8c\"));});</script>"
      ]
     },
     "metadata": {},
     "output_type": "display_data"
    }
   ],
   "source": [
    "import plotly.offline as offline\n",
    "import plotly.graph_objs as go\n",
    "labels = result_name\n",
    "values = result\n",
    "offline.init_notebook_mode(connected=True) \n",
    "trace = go.Pie(labels=labels, values=values) \n",
    "offline.iplot([trace], filename='basic_pie_chart')"
   ]
  },
  {
   "cell_type": "code",
   "execution_count": 5,
   "metadata": {},
   "outputs": [],
   "source": [
    "#-*- coding: utf-8 -*-\n",
    "import json\n",
    "import csv\n",
    "\n",
    "dates = {'01':'32','02':'29','03':'32','04':'31','05':'32','06':'31','07':'32','08':'32','09':'31','10':'32','11':'31','12':'32'}\n",
    "lists = ['rnum','rank','rankInten','rankOldAndNew','movieCd','rnum','movieNm','openDt','salesAmt','salesShare','salesInten',\\\n",
    "    'salesChange','salesAcc','audiCnt','audiInten','audiChange','audiAcc','scrnCnt','showCnt']\n",
    "lists2 = ['date','rnum','rank','rankInten','rankOldAndNew','movieCd','rnum','movieNm','openDt','salesAmt','salesShare','salesInten',\\\n",
    "    'salesChange','salesAcc','audiCnt','audiInten','audiChange','audiAcc','scrnCnt','showCnt']\n",
    "\n",
    "for date in dates:\n",
    "    targetDt='2017'+date+'01'\n",
    "    j = open('2017'+date+'.csv', 'w', encoding='utf-8')\n",
    "    csv_file = csv.writer(j)\n",
    "    csv_file.writerow(lists2)\n",
    "\n",
    "    for i in range(1,int(dates[date])):\n",
    "        with open('data/2017/'+date+'/daily_box_office/'+targetDt+'.json', 'r', encoding=\"utf-8\") as data_file:\n",
    "            data = json.load(data_file)\n",
    "        #data = json.loads(f)\n",
    "        tmp = []\n",
    "        tmp2=[]\n",
    "        for i in range(0,10):\n",
    "            tmp.append(int(targetDt))\n",
    "            for list in lists:                \n",
    "                tmp.append(data['boxOfficeResult']['dailyBoxOfficeList'][i][list])\n",
    "            tmp2.insert(i,tmp)\n",
    "            tmp=[]\n",
    "        for i in range(0,10):\n",
    "            csv_file.writerow(tmp2[i])\n",
    "        tmp_dt = int(targetDt) + 1\n",
    "        targetDt = str(tmp_dt)\n",
    "\n",
    "j.close()"
   ]
  },
  {
   "cell_type": "code",
   "execution_count": null,
   "metadata": {},
   "outputs": [],
   "source": [
    "import pymysql\n",
    " \n",
    "# MySQL Connection 연결\n",
    "conn = pymysql.connect(host='localhost', user='test', password='1234',db='movie', charset='utf8', local_infile=True)\n",
    " \n",
    "# Connection 으로부터 Cursor 생성\n",
    "curs = conn.cursor()\n",
    " \n",
    "# SQL문 실행\n",
    "sql = \"\"\"create table test2(\n",
    "    date int,\n",
    "    rnum int, \n",
    "    rank int,\n",
    "    rankInten int,\n",
    "    rankOldAndNew int,\n",
    "    movieCd int,    \n",
    "    movieNm varchar(50),\n",
    "    openDt int,\n",
    "    salesAmt int,\n",
    "    salesShare int,\n",
    "    salesInten int,\n",
    "    salesChange int,\n",
    "    salesAcc int,\n",
    "    audiCnt int,\n",
    "    audiInten int,\n",
    "    audiChange int,\n",
    "    audiAcc int,\n",
    "    scrnCnt int,\n",
    "    showCnt int);\"\"\"\n",
    "curs.execute(sql)\n",
    "conn.commit()\n",
    "# rows = curs.fetchall()\n",
    "\n",
    "sql3=\"select * from test2;\"\n",
    "# curs.execute(sql3)\n",
    "# rows=curs.fetchall()\n",
    "# print(rows)\n",
    "# rows[1]\n"
   ]
  },
  {
   "cell_type": "code",
   "execution_count": null,
   "metadata": {},
   "outputs": [],
   "source": [
    "sql2 = \"\"\"LOAD DATA LOCAL INFILE \"/root/movie/.jupyter/project/csv/201702.csv\" INTO TABLE movie.test2 FIELDS TERMINATED BY ',';\"\"\"\n",
    "curs.execute(sql2)\n",
    "conn.commit()\n",
    "conn.close()"
   ]
  },
  {
   "cell_type": "code",
   "execution_count": 1,
   "metadata": {},
   "outputs": [
    {
     "ename": "NameError",
     "evalue": "name 'go' is not defined",
     "output_type": "error",
     "traceback": [
      "\u001b[0;31m---------------------------------------------------------------------------\u001b[0m",
      "\u001b[0;31mNameError\u001b[0m                                 Traceback (most recent call last)",
      "\u001b[0;32m<ipython-input-1-710276871a07>\u001b[0m in \u001b[0;36m<module>\u001b[0;34m\u001b[0m\n\u001b[0;32m----> 1\u001b[0;31m \u001b[0mtrace\u001b[0m \u001b[0;34m=\u001b[0m \u001b[0mgo\u001b[0m\u001b[0;34m.\u001b[0m\u001b[0mBar\u001b[0m\u001b[0;34m(\u001b[0m\u001b[0mx\u001b[0m\u001b[0;34m=\u001b[0m\u001b[0mdate\u001b[0m\u001b[0;34m,\u001b[0m \u001b[0my\u001b[0m\u001b[0;34m=\u001b[0m\u001b[0mlist2\u001b[0m\u001b[0;34m)\u001b[0m\u001b[0;34m\u001b[0m\u001b[0;34m\u001b[0m\u001b[0m\n\u001b[0m\u001b[1;32m      2\u001b[0m \u001b[0mdata\u001b[0m\u001b[0;34m=\u001b[0m\u001b[0;34m[\u001b[0m\u001b[0mtrace\u001b[0m\u001b[0;34m]\u001b[0m\u001b[0;34m\u001b[0m\u001b[0;34m\u001b[0m\u001b[0m\n\u001b[1;32m      3\u001b[0m \u001b[0moffline\u001b[0m\u001b[0;34m.\u001b[0m\u001b[0miplot\u001b[0m\u001b[0;34m(\u001b[0m\u001b[0mdata\u001b[0m\u001b[0;34m)\u001b[0m\u001b[0;34m\u001b[0m\u001b[0;34m\u001b[0m\u001b[0m\n",
      "\u001b[0;31mNameError\u001b[0m: name 'go' is not defined"
     ]
    }
   ],
   "source": [
    "trace = go.Bar(x=date, y=list2) \n",
    "data=[trace]\n",
    "offline.iplot(data)"
   ]
  },
  {
   "cell_type": "code",
   "execution_count": 7,
   "metadata": {},
   "outputs": [
    {
     "data": {
      "text/html": [
       "<table>\n",
       "    <thead>\n",
       "        <tr>\n",
       "            <th>요청 변수</th>\n",
       "            <th>값</th>\n",
       "            <th>설명</th>\n",
       "        </tr>\n",
       "    </thead>\n",
       "    <tbody>\n",
       "        <tr>\n",
       "            <td>key</td>\n",
       "            <td>문자열(필수)</td>\n",
       "            <td>발급받은키 값을 입력합니다.</td>\n",
       "        </tr>\n",
       "        <tr>\n",
       "            <td>targetDt</td>\n",
       "            <td>문자열(필수)</td>\n",
       "            <td>조회하고자 하는 날짜를 yyyymmdd 형식으로 입력합니다.</td>\n",
       "        </tr>\n",
       "        <tr>\n",
       "            <td>itemPerPage</td>\n",
       "            <td>문자열</td>\n",
       "            <td>결과 ROW 의 개수를 지정합니다.(default : “10”, 최대 : “10“)</td>\n",
       "        </tr>\n",
       "        <tr>\n",
       "            <td>multiMovieYn</td>\n",
       "            <td>문자열</td>\n",
       "            <td>다양성 영화/상업영화를 구분지어 조회할 수 있습니다.“Y” : 다양성 영화 “N” : 상업영화 (default : 전체)</td>\n",
       "        </tr>\n",
       "        <tr>\n",
       "            <td>repNationCd</td>\n",
       "            <td>문자열</td>\n",
       "            <td>한국/외국 영화별로 조회할 수 있습니다.“K: : 한국영화 “F” : 외국영화 (default : 전체)</td>\n",
       "        </tr>\n",
       "        <tr>\n",
       "            <td>wideAreaCd</td>\n",
       "            <td>문자열</td>\n",
       "            <td>상영지역별로 조회할 수 있으며, 지역코드는 공통코드 조회 서비스에서 “0105000000” 로서 조회된 지역코드입니다. (default : 전체)</td>\n",
       "        </tr>\n",
       "    </tbody>\n",
       "</table>\n"
      ],
      "text/plain": [
       "<IPython.core.display.HTML object>"
      ]
     },
     "metadata": {},
     "output_type": "display_data"
    }
   ],
   "source": [
    "%%html\n",
    "<table>\n",
    "    <thead>\n",
    "        <tr>\n",
    "            <th>요청 변수</th>\n",
    "            <th>값</th>\n",
    "            <th>설명</th>\n",
    "        </tr>\n",
    "    </thead>\n",
    "    <tbody>\n",
    "        <tr>\n",
    "            <td>key</td>\n",
    "            <td>문자열(필수)</td>\n",
    "            <td>발급받은키 값을 입력합니다.</td>\n",
    "        </tr>\n",
    "        <tr>\n",
    "            <td>targetDt</td>\n",
    "            <td>문자열(필수)</td>\n",
    "            <td>조회하고자 하는 날짜를 yyyymmdd 형식으로 입력합니다.</td>\n",
    "        </tr>\n",
    "        <tr>\n",
    "            <td>itemPerPage</td>\n",
    "            <td>문자열</td>\n",
    "            <td>결과 ROW 의 개수를 지정합니다.(default : “10”, 최대 : “10“)</td>\n",
    "        </tr>\n",
    "        <tr>\n",
    "            <td>multiMovieYn</td>\n",
    "            <td>문자열</td>\n",
    "            <td>다양성 영화/상업영화를 구분지어 조회할 수 있습니다.“Y” : 다양성 영화 “N” : 상업영화 (default : 전체)</td>\n",
    "        </tr>\n",
    "        <tr>\n",
    "            <td>repNationCd</td>\n",
    "            <td>문자열</td>\n",
    "            <td>한국/외국 영화별로 조회할 수 있습니다.“K: : 한국영화 “F” : 외국영화 (default : 전체)</td>\n",
    "        </tr>\n",
    "        <tr>\n",
    "            <td>wideAreaCd</td>\n",
    "            <td>문자열</td>\n",
    "            <td>상영지역별로 조회할 수 있으며, 지역코드는 공통코드 조회 서비스에서 “0105000000” 로서 조회된 지역코드입니다. (default : 전체)</td>\n",
    "        </tr>\n",
    "    </tbody>\n",
    "</table>"
   ]
  },
  {
   "cell_type": "code",
   "execution_count": null,
   "metadata": {},
   "outputs": [],
   "source": []
  }
 ],
 "metadata": {
  "kernelspec": {
   "display_name": "Python 3",
   "language": "python",
   "name": "python3"
  },
  "language_info": {
   "codemirror_mode": {
    "name": "ipython",
    "version": 3
   },
   "file_extension": ".py",
   "mimetype": "text/x-python",
   "name": "python",
   "nbconvert_exporter": "python",
   "pygments_lexer": "ipython3",
   "version": "3.6.7"
  }
 },
 "nbformat": 4,
 "nbformat_minor": 2
}

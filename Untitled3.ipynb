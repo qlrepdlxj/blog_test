{
 "cells": [
  {
   "cell_type": "code",
   "execution_count": 22,
   "metadata": {},
   "outputs": [
    {
     "ename": "DefaultCredentialsError",
     "evalue": "Could not automatically determine credentials. Please set GOOGLE_APPLICATION_CREDENTIALS or explicitly create credentials and re-run the application. For more information, please see https://cloud.google.com/docs/authentication/getting-started",
     "output_type": "error",
     "traceback": [
      "\u001b[0;31m---------------------------------------------------------------------------\u001b[0m",
      "\u001b[0;31mDefaultCredentialsError\u001b[0m                   Traceback (most recent call last)",
      "\u001b[0;32m<ipython-input-22-560eec313fd0>\u001b[0m in \u001b[0;36m<module>\u001b[0;34m\u001b[0m\n\u001b[1;32m      7\u001b[0m \u001b[0mGOOGLE_APPLICATION_CREDENTIALS\u001b[0m \u001b[0;34m=\u001b[0m \u001b[0;34m'my_client_secret.json'\u001b[0m\u001b[0;34m\u001b[0m\u001b[0;34m\u001b[0m\u001b[0m\n\u001b[1;32m      8\u001b[0m \u001b[0;31m# Instantiates a client\u001b[0m\u001b[0;34m\u001b[0m\u001b[0;34m\u001b[0m\u001b[0;34m\u001b[0m\u001b[0m\n\u001b[0;32m----> 9\u001b[0;31m \u001b[0mclient\u001b[0m \u001b[0;34m=\u001b[0m \u001b[0mlanguage\u001b[0m\u001b[0;34m.\u001b[0m\u001b[0mLanguageServiceClient\u001b[0m\u001b[0;34m(\u001b[0m\u001b[0;34m)\u001b[0m\u001b[0;34m\u001b[0m\u001b[0;34m\u001b[0m\u001b[0m\n\u001b[0m\u001b[1;32m     10\u001b[0m \u001b[0;34m\u001b[0m\u001b[0m\n\u001b[1;32m     11\u001b[0m \u001b[0;31m# The text to analyze\u001b[0m\u001b[0;34m\u001b[0m\u001b[0;34m\u001b[0m\u001b[0;34m\u001b[0m\u001b[0m\n",
      "\u001b[0;32m/usr/local/lib/python3.6/dist-packages/google/cloud/language_v1/gapic/language_service_client.py\u001b[0m in \u001b[0;36m__init__\u001b[0;34m(self, transport, channel, credentials, client_config, client_info)\u001b[0m\n\u001b[1;32m    141\u001b[0m         \u001b[0;32melse\u001b[0m\u001b[0;34m:\u001b[0m\u001b[0;34m\u001b[0m\u001b[0;34m\u001b[0m\u001b[0m\n\u001b[1;32m    142\u001b[0m             self.transport = language_service_grpc_transport.LanguageServiceGrpcTransport(\n\u001b[0;32m--> 143\u001b[0;31m                 \u001b[0maddress\u001b[0m\u001b[0;34m=\u001b[0m\u001b[0mself\u001b[0m\u001b[0;34m.\u001b[0m\u001b[0mSERVICE_ADDRESS\u001b[0m\u001b[0;34m,\u001b[0m \u001b[0mchannel\u001b[0m\u001b[0;34m=\u001b[0m\u001b[0mchannel\u001b[0m\u001b[0;34m,\u001b[0m \u001b[0mcredentials\u001b[0m\u001b[0;34m=\u001b[0m\u001b[0mcredentials\u001b[0m\u001b[0;34m\u001b[0m\u001b[0;34m\u001b[0m\u001b[0m\n\u001b[0m\u001b[1;32m    144\u001b[0m             )\n\u001b[1;32m    145\u001b[0m \u001b[0;34m\u001b[0m\u001b[0m\n",
      "\u001b[0;32m/usr/local/lib/python3.6/dist-packages/google/cloud/language_v1/gapic/transports/language_service_grpc_transport.py\u001b[0m in \u001b[0;36m__init__\u001b[0;34m(self, channel, credentials, address)\u001b[0m\n\u001b[1;32m     58\u001b[0m         \u001b[0;31m# Create the channel.\u001b[0m\u001b[0;34m\u001b[0m\u001b[0;34m\u001b[0m\u001b[0;34m\u001b[0m\u001b[0m\n\u001b[1;32m     59\u001b[0m         \u001b[0;32mif\u001b[0m \u001b[0mchannel\u001b[0m \u001b[0;32mis\u001b[0m \u001b[0;32mNone\u001b[0m\u001b[0;34m:\u001b[0m\u001b[0;34m\u001b[0m\u001b[0;34m\u001b[0m\u001b[0m\n\u001b[0;32m---> 60\u001b[0;31m             \u001b[0mchannel\u001b[0m \u001b[0;34m=\u001b[0m \u001b[0mself\u001b[0m\u001b[0;34m.\u001b[0m\u001b[0mcreate_channel\u001b[0m\u001b[0;34m(\u001b[0m\u001b[0maddress\u001b[0m\u001b[0;34m=\u001b[0m\u001b[0maddress\u001b[0m\u001b[0;34m,\u001b[0m \u001b[0mcredentials\u001b[0m\u001b[0;34m=\u001b[0m\u001b[0mcredentials\u001b[0m\u001b[0;34m)\u001b[0m\u001b[0;34m\u001b[0m\u001b[0;34m\u001b[0m\u001b[0m\n\u001b[0m\u001b[1;32m     61\u001b[0m \u001b[0;34m\u001b[0m\u001b[0m\n\u001b[1;32m     62\u001b[0m         \u001b[0mself\u001b[0m\u001b[0;34m.\u001b[0m\u001b[0m_channel\u001b[0m \u001b[0;34m=\u001b[0m \u001b[0mchannel\u001b[0m\u001b[0;34m\u001b[0m\u001b[0;34m\u001b[0m\u001b[0m\n",
      "\u001b[0;32m/usr/local/lib/python3.6/dist-packages/google/cloud/language_v1/gapic/transports/language_service_grpc_transport.py\u001b[0m in \u001b[0;36mcreate_channel\u001b[0;34m(cls, address, credentials)\u001b[0m\n\u001b[1;32m     86\u001b[0m         \"\"\"\n\u001b[1;32m     87\u001b[0m         return google.api_core.grpc_helpers.create_channel(\n\u001b[0;32m---> 88\u001b[0;31m             \u001b[0maddress\u001b[0m\u001b[0;34m,\u001b[0m \u001b[0mcredentials\u001b[0m\u001b[0;34m=\u001b[0m\u001b[0mcredentials\u001b[0m\u001b[0;34m,\u001b[0m \u001b[0mscopes\u001b[0m\u001b[0;34m=\u001b[0m\u001b[0mcls\u001b[0m\u001b[0;34m.\u001b[0m\u001b[0m_OAUTH_SCOPES\u001b[0m\u001b[0;34m\u001b[0m\u001b[0;34m\u001b[0m\u001b[0m\n\u001b[0m\u001b[1;32m     89\u001b[0m         )\n\u001b[1;32m     90\u001b[0m \u001b[0;34m\u001b[0m\u001b[0m\n",
      "\u001b[0;32m/usr/local/lib/python3.6/dist-packages/google/api_core/grpc_helpers.py\u001b[0m in \u001b[0;36mcreate_channel\u001b[0;34m(target, credentials, scopes, ssl_credentials, **kwargs)\u001b[0m\n\u001b[1;32m    175\u001b[0m     \"\"\"\n\u001b[1;32m    176\u001b[0m     \u001b[0;32mif\u001b[0m \u001b[0mcredentials\u001b[0m \u001b[0;32mis\u001b[0m \u001b[0;32mNone\u001b[0m\u001b[0;34m:\u001b[0m\u001b[0;34m\u001b[0m\u001b[0;34m\u001b[0m\u001b[0m\n\u001b[0;32m--> 177\u001b[0;31m         \u001b[0mcredentials\u001b[0m\u001b[0;34m,\u001b[0m \u001b[0m_\u001b[0m \u001b[0;34m=\u001b[0m \u001b[0mgoogle\u001b[0m\u001b[0;34m.\u001b[0m\u001b[0mauth\u001b[0m\u001b[0;34m.\u001b[0m\u001b[0mdefault\u001b[0m\u001b[0;34m(\u001b[0m\u001b[0mscopes\u001b[0m\u001b[0;34m=\u001b[0m\u001b[0mscopes\u001b[0m\u001b[0;34m)\u001b[0m\u001b[0;34m\u001b[0m\u001b[0;34m\u001b[0m\u001b[0m\n\u001b[0m\u001b[1;32m    178\u001b[0m     \u001b[0;32melse\u001b[0m\u001b[0;34m:\u001b[0m\u001b[0;34m\u001b[0m\u001b[0;34m\u001b[0m\u001b[0m\n\u001b[1;32m    179\u001b[0m         credentials = google.auth.credentials.with_scopes_if_required(\n",
      "\u001b[0;32m/usr/local/lib/python3.6/dist-packages/google/auth/_default.py\u001b[0m in \u001b[0;36mdefault\u001b[0;34m(scopes, request)\u001b[0m\n\u001b[1;32m    304\u001b[0m             \u001b[0;32mreturn\u001b[0m \u001b[0mcredentials\u001b[0m\u001b[0;34m,\u001b[0m \u001b[0meffective_project_id\u001b[0m\u001b[0;34m\u001b[0m\u001b[0;34m\u001b[0m\u001b[0m\n\u001b[1;32m    305\u001b[0m \u001b[0;34m\u001b[0m\u001b[0m\n\u001b[0;32m--> 306\u001b[0;31m     \u001b[0;32mraise\u001b[0m \u001b[0mexceptions\u001b[0m\u001b[0;34m.\u001b[0m\u001b[0mDefaultCredentialsError\u001b[0m\u001b[0;34m(\u001b[0m\u001b[0m_HELP_MESSAGE\u001b[0m\u001b[0;34m)\u001b[0m\u001b[0;34m\u001b[0m\u001b[0;34m\u001b[0m\u001b[0m\n\u001b[0m",
      "\u001b[0;31mDefaultCredentialsError\u001b[0m: Could not automatically determine credentials. Please set GOOGLE_APPLICATION_CREDENTIALS or explicitly create credentials and re-run the application. For more information, please see https://cloud.google.com/docs/authentication/getting-started"
     ]
    }
   ],
   "source": [
    "import os\n",
    "import argparse\n",
    "# Imports the Google Cloud client library\n",
    "from google.cloud import language\n",
    "from google.cloud.language import enums\n",
    "from google.cloud.language import types\n",
    "GOOGLE_APPLICATION_CREDENTIALS = 'my_client_secret.json'\n",
    "# Instantiates a client\n",
    "client = language.LanguageServiceClient()\n",
    "\n",
    "# The text to analyze\n",
    "text = u'Hello, world!'\n",
    "document = types.Document(\n",
    "    content=text,\n",
    "    type=enums.Document.Type.PLAIN_TEXT)\n",
    "\n",
    "# Detects the sentiment of the text\n",
    "sentiment = client.analyze_sentiment(document=document).document_sentiment\n",
    "\n",
    "print('Text: {}'.format(text))\n",
    "print('Sentiment: {}, {}'.format(sentiment.score, sentiment.magnitude))"
   ]
  },
  {
   "cell_type": "code",
   "execution_count": 7,
   "metadata": {},
   "outputs": [],
   "source": [
    "def implicit():\n",
    "    from google.cloud import storage\n",
    "\n",
    "    # If you don't specify credentials when constructing the client, the\n",
    "    # client library will look for credentials in the environment.\n",
    "    storage_client = storage.Client()\n",
    "\n",
    "    # Make an authenticated API request\n",
    "    buckets = list(storage_client.list_buckets())\n",
    "    print(buckets)"
   ]
  },
  {
   "cell_type": "code",
   "execution_count": 12,
   "metadata": {},
   "outputs": [
    {
     "name": "stderr",
     "output_type": "stream",
     "text": [
      "usage: ipykernel_launcher.py [-h] movie_review_filename\n",
      "ipykernel_launcher.py: error: unrecognized arguments: -f\n"
     ]
    },
    {
     "ename": "SystemExit",
     "evalue": "2",
     "output_type": "error",
     "traceback": [
      "An exception has occurred, use %tb to see the full traceback.\n",
      "\u001b[0;31mSystemExit\u001b[0m\u001b[0;31m:\u001b[0m 2\n"
     ]
    },
    {
     "name": "stderr",
     "output_type": "stream",
     "text": [
      "/usr/local/lib/python3.6/dist-packages/IPython/core/interactiveshell.py:3275: UserWarning: To exit: use 'exit', 'quit', or Ctrl-D.\n",
      "  warn(\"To exit: use 'exit', 'quit', or Ctrl-D.\", stacklevel=1)\n"
     ]
    }
   ],
   "source": [
    "\"\"\"Demonstrates how to make a simple call to the Natural Language API.\"\"\"\n",
    "\n",
    "import argparse\n",
    "\n",
    "from google.cloud import language\n",
    "from google.cloud.language import enums\n",
    "from google.cloud.language import types\n",
    "\n",
    "def print_result(annotations):\n",
    "    score = annotations.document_sentiment.score\n",
    "    magnitude = annotations.document_sentiment.magnitude\n",
    "\n",
    "    for index, sentence in enumerate(annotations.sentences):\n",
    "        sentence_sentiment = sentence.sentiment.score\n",
    "        print('Sentence {} has a sentiment score of {}'.format(\n",
    "            index, sentence_sentiment))\n",
    "\n",
    "    print('Overall Sentiment: score of {} with magnitude of {}'.format(\n",
    "        score, magnitude))\n",
    "    return 0\n",
    "\n",
    "def analyze(movie_review_filename):\n",
    "    \"\"\"Run a sentiment analysis request on text within a passed filename.\"\"\"\n",
    "    client = language.LanguageServiceClient()\n",
    "\n",
    "    with open(movie_review_filename, 'r') as review_file:\n",
    "        # Instantiates a plain text document.\n",
    "        content = review_file.read()\n",
    "\n",
    "    document = types.Document(\n",
    "        content=content,\n",
    "        type=enums.Document.Type.PLAIN_TEXT)\n",
    "    annotations = client.analyze_sentiment(document=document)\n",
    "\n",
    "    # Print the results\n",
    "    print_result(annotations)\n",
    "\n",
    "if __name__ == '__main__':\n",
    "    parser = argparse.ArgumentParser(\n",
    "        description=__doc__,\n",
    "        formatter_class=argparse.RawDescriptionHelpFormatter)\n",
    "    parser.add_argument(\n",
    "        'movie_review_filename',\n",
    "        help='The filename of the movie review you\\'d like to analyze.')\n",
    "    args = parser.parse_args()\n",
    "\n",
    "    analyze(args.movie_review_filename)"
   ]
  },
  {
   "cell_type": "code",
   "execution_count": 17,
   "metadata": {},
   "outputs": [
    {
     "ename": "ImportError",
     "evalue": "cannot import name 'urlopen'",
     "output_type": "error",
     "traceback": [
      "\u001b[0;31m---------------------------------------------------------------------------\u001b[0m",
      "\u001b[0;31mImportError\u001b[0m                               Traceback (most recent call last)",
      "\u001b[0;32m<ipython-input-17-e3534902b64f>\u001b[0m in \u001b[0;36m<module>\u001b[0;34m\u001b[0m\n\u001b[0;32m----> 1\u001b[0;31m \u001b[0;32mfrom\u001b[0m \u001b[0murllib3\u001b[0m \u001b[0;32mimport\u001b[0m \u001b[0mrequest\u001b[0m\u001b[0;34m,\u001b[0m \u001b[0murlopen\u001b[0m\u001b[0;34m\u001b[0m\u001b[0;34m\u001b[0m\u001b[0m\n\u001b[0m\u001b[1;32m      2\u001b[0m \u001b[0;32mfrom\u001b[0m \u001b[0murllib\u001b[0m \u001b[0;32mimport\u001b[0m \u001b[0murlencode\u001b[0m\u001b[0;34m,\u001b[0m \u001b[0mquote_plus\u001b[0m\u001b[0;34m\u001b[0m\u001b[0;34m\u001b[0m\u001b[0m\n\u001b[1;32m      3\u001b[0m \u001b[0;34m\u001b[0m\u001b[0m\n\u001b[1;32m      4\u001b[0m \u001b[0murl\u001b[0m \u001b[0;34m=\u001b[0m \u001b[0;34m'http://apis.data.go.kr/B551182/diseaseInfoService/getDissNameCodeList'\u001b[0m\u001b[0;34m\u001b[0m\u001b[0;34m\u001b[0m\u001b[0m\n\u001b[1;32m      5\u001b[0m \u001b[0mqueryParams\u001b[0m \u001b[0;34m=\u001b[0m \u001b[0;34m'?'\u001b[0m \u001b[0;34m+\u001b[0m \u001b[0murlencode\u001b[0m\u001b[0;34m(\u001b[0m\u001b[0;34m{\u001b[0m \u001b[0mquote_plus\u001b[0m\u001b[0;34m(\u001b[0m\u001b[0;34m'ServiceKey'\u001b[0m\u001b[0;34m)\u001b[0m \u001b[0;34m:\u001b[0m \u001b[0;34m'z1mJpje6AMh9EAF7bVgyoBUy6E%2BGEv7VPPCa92PN1sDPBWj2qVu2wzQmkgjce2sNUKVa%2B73cCvC%2BJnTBh6ah7A%3D%3D'\u001b[0m\u001b[0;34m,\u001b[0m \u001b[0mquote_plus\u001b[0m\u001b[0;34m(\u001b[0m\u001b[0;34m'ServiceKey'\u001b[0m\u001b[0;34m)\u001b[0m \u001b[0;34m:\u001b[0m \u001b[0;34m'-'\u001b[0m\u001b[0;34m,\u001b[0m \u001b[0mquote_plus\u001b[0m\u001b[0;34m(\u001b[0m\u001b[0;34m'pageNo'\u001b[0m\u001b[0;34m)\u001b[0m \u001b[0;34m:\u001b[0m \u001b[0;34m'1'\u001b[0m\u001b[0;34m,\u001b[0m \u001b[0mquote_plus\u001b[0m\u001b[0;34m(\u001b[0m\u001b[0;34m'numOfRows'\u001b[0m\u001b[0;34m)\u001b[0m \u001b[0;34m:\u001b[0m \u001b[0;34m'10'\u001b[0m\u001b[0;34m,\u001b[0m \u001b[0mquote_plus\u001b[0m\u001b[0;34m(\u001b[0m\u001b[0;34m'sickType'\u001b[0m\u001b[0;34m)\u001b[0m \u001b[0;34m:\u001b[0m \u001b[0;34m'1'\u001b[0m\u001b[0;34m,\u001b[0m \u001b[0mquote_plus\u001b[0m\u001b[0;34m(\u001b[0m\u001b[0;34m'medTp'\u001b[0m\u001b[0;34m)\u001b[0m \u001b[0;34m:\u001b[0m \u001b[0;34m'2'\u001b[0m\u001b[0;34m,\u001b[0m \u001b[0mquote_plus\u001b[0m\u001b[0;34m(\u001b[0m\u001b[0;34m'diseaseType'\u001b[0m\u001b[0;34m)\u001b[0m \u001b[0;34m:\u001b[0m \u001b[0;34m'SICK_NM'\u001b[0m\u001b[0;34m,\u001b[0m \u001b[0mquote_plus\u001b[0m\u001b[0;34m(\u001b[0m\u001b[0;34m'searchText'\u001b[0m\u001b[0;34m)\u001b[0m \u001b[0;34m:\u001b[0m \u001b[0;34m'가진통'\u001b[0m \u001b[0;34m}\u001b[0m\u001b[0;34m)\u001b[0m\u001b[0;34m\u001b[0m\u001b[0;34m\u001b[0m\u001b[0m\n",
      "\u001b[0;31mImportError\u001b[0m: cannot import name 'urlopen'"
     ]
    }
   ],
   "source": []
  },
  {
   "cell_type": "code",
   "execution_count": 19,
   "metadata": {},
   "outputs": [
    {
     "ename": "NameError",
     "evalue": "name 'ServiceKey' is not defined",
     "output_type": "error",
     "traceback": [
      "\u001b[0;31m---------------------------------------------------------------------------\u001b[0m",
      "\u001b[0;31mNameError\u001b[0m                                 Traceback (most recent call last)",
      "\u001b[0;32m<ipython-input-19-3e098e774ae1>\u001b[0m in \u001b[0;36m<module>\u001b[0;34m\u001b[0m\n\u001b[1;32m      1\u001b[0m \u001b[0;32mimport\u001b[0m \u001b[0mrequests\u001b[0m\u001b[0;34m\u001b[0m\u001b[0;34m\u001b[0m\u001b[0m\n\u001b[0;32m----> 2\u001b[0;31m \u001b[0murl\u001b[0m \u001b[0;34m=\u001b[0m \u001b[0;34m'http://apis.data.go.kr/B551182/diseaseInfoService/getDissNameCodeList?ServiceKey='\u001b[0m\u001b[0;34m+\u001b[0m\u001b[0mServiceKey\u001b[0m\u001b[0;34m+\u001b[0m\u001b[0;34m'&searchText=가진통'\u001b[0m\u001b[0;34m\u001b[0m\u001b[0;34m\u001b[0m\u001b[0m\n\u001b[0m\u001b[1;32m      3\u001b[0m \u001b[0mserviceKey\u001b[0m\u001b[0;34m=\u001b[0m\u001b[0;34m'z1mJpje6AMh9EAF7bVgyoBUy6E%2BGEv7VPPCa92PN1sDPBWj2qVu2wzQmkgjce2sNUKVa%2B73cCvC%2BJnTBh6ah7A%3D%3D'\u001b[0m\u001b[0;34m\u001b[0m\u001b[0;34m\u001b[0m\u001b[0m\n\u001b[1;32m      4\u001b[0m \u001b[0;34m\u001b[0m\u001b[0m\n\u001b[1;32m      5\u001b[0m \u001b[0mres\u001b[0m \u001b[0;34m=\u001b[0m \u001b[0mrequests\u001b[0m\u001b[0;34m.\u001b[0m\u001b[0mget\u001b[0m\u001b[0;34m(\u001b[0m\u001b[0murl\u001b[0m\u001b[0;34m)\u001b[0m\u001b[0;34m\u001b[0m\u001b[0;34m\u001b[0m\u001b[0m\n",
      "\u001b[0;31mNameError\u001b[0m: name 'ServiceKey' is not defined"
     ]
    }
   ],
   "source": []
  },
  {
   "cell_type": "code",
   "execution_count": 5,
   "metadata": {},
   "outputs": [],
   "source": [
    "# # Imports the Google Cloud client library\n",
    "# from google.cloud import language\n",
    "# from google.cloud.language import enums\n",
    "# from google.cloud.language import types\n",
    "\n",
    "# # Instantiates a client\n",
    "# client = language.LanguageServiceClient()\n",
    "\n",
    "# # The text to analyze\n",
    "# text = u'전체적으로 같은 장면을 두고도 장점과 아쉬움이 맞붙어있다. 시대극을 표방한 이상 인물과 시대를 떼어놓는 전개는 불가능하다. 이 영화는 70년대 부산 바닥을 매끈하게 스케치하되, 인물의 서사와 아주 긴밀하게 맞물려 돌아가는 인상은 남기지 못한다. 수많은 캐릭터가 등장함에도 결국 이두삼(송강호)의 원톱 플레이로 수렴하는 후반부는 몰락하는 인물의 내면을 탐험하게 한다는 점에서는 인상적이다. 다만 효과적이기만 한 방식은 아닌 듯 보인다. 넉살 좋은 소시민과 갱스터의 어디쯤에 애매하게 걸쳐져있는 이두삼의 캐릭터는 처음부터 조금 모호하다. 이는 두삼과 상호작용을 탄탄하게 주고받지 못하고 퇴장하는 다른 인물들도 마찬가지다. 모호한 캐릭터의 방향성을 배우의 연기로 메우려 하다 보니, 개별 숏들을 보면 그 자체로는 문제가 없어도 시퀀스나 영화 전체로 보면 의문이 남는 것이다. 폐허가 된 자신만의 왕국에서 무너져내리는 이두삼을 연기하는 송강호는 무시무시하지만, 그 열연은 어딘가 공허해 보인다.'\n",
    "# document = types.Document(\n",
    "#     content=text,\n",
    "#     type=enums.Document.Type.PLAIN_TEXT)\n",
    "\n",
    "# # Detects the sentiment of the text\n",
    "# sentiment = client.analyze_sentiment(document=document).document_sentiment\n",
    "# entity = client.analyze_\n",
    "# print('Text: {}'.format(text))\n",
    "# print('Sentiment: {}, {}'.format(sentiment.score, sentiment.magnitude))\n",
    "\n",
    "from google.cloud import language_v1\n",
    "from google.cloud.language_v1 import enums\n",
    "import six\n",
    "import os\n",
    "os.environ[\"GOOGLE_APPLICATION_CREDENTIALS\"]=\"/root/VoiceKit-7faf87d99333.json\"\n",
    "def sample_analyze_sentiment(content):\n",
    "\n",
    "    client = language_v1.LanguageServiceClient()\n",
    "\n",
    "    content = u'전체적으로 같은 장면을 두고도 장점과 아쉬움이 맞붙어있다.'\n",
    "    \n",
    "    if isinstance(content, six.binary_type):\n",
    "        content = content.decode('utf-8')\n",
    "\n",
    "    type_ = enums.Document.Type.PLAIN_TEXT\n",
    "    document = {'type': type_, 'content': content}\n",
    "\n",
    "    response = client.analyze_sentiment(document)\n",
    "    sentiment = response.document_sentiment\n",
    "    print('Score: {}'.format(sentiment.score))\n",
    "    print('Magnitude: {}'.format(sentiment.magnitude))"
   ]
  },
  {
   "cell_type": "code",
   "execution_count": 24,
   "metadata": {},
   "outputs": [
    {
     "name": "stdout",
     "output_type": "stream",
     "text": [
      "Score: 0.800000011920929\n",
      "Magnitude: 0.800000011920929\n"
     ]
    },
    {
     "data": {
      "text/plain": [
       "(0.800000011920929, 0.800000011920929)"
      ]
     },
     "execution_count": 24,
     "metadata": {},
     "output_type": "execute_result"
    }
   ],
   "source": [
    "from google.cloud import language_v1\n",
    "from google.cloud.language_v1 import enums\n",
    "import six\n",
    "\n",
    "def sample_analyze_sentiment(content):\n",
    "\n",
    "    client = language_v1.LanguageServiceClient()\n",
    "\n",
    "#     content = 'Your text to analyze, e.g. Hello, world!'\n",
    "\n",
    "    if isinstance(content, six.binary_type):\n",
    "        content = content.decode('utf-8')\n",
    "\n",
    "    type_ = enums.Document.Type.PLAIN_TEXT\n",
    "    document = {'type': type_, 'content': content}\n",
    "\n",
    "    response = client.analyze_sentiment(document)\n",
    "    sentiment = response.document_sentiment\n",
    "    print('Score: {}'.format(sentiment.score))\n",
    "    print('Magnitude: {}'.format(sentiment.magnitude))\n",
    "    return sentiment.score, sentiment.magnitude\n",
    "    \n",
    "content = u'송강호 후반 연기 지리네, 이게 실화라니 ㄷㄷㄷ'\n",
    "sample_analyze_sentiment(content)\n"
   ]
  },
  {
   "cell_type": "code",
   "execution_count": null,
   "metadata": {},
   "outputs": [],
   "source": []
  }
 ],
 "metadata": {
  "kernelspec": {
   "display_name": "Python 3",
   "language": "python",
   "name": "python3"
  },
  "language_info": {
   "codemirror_mode": {
    "name": "ipython",
    "version": 3
   },
   "file_extension": ".py",
   "mimetype": "text/x-python",
   "name": "python",
   "nbconvert_exporter": "python",
   "pygments_lexer": "ipython3",
   "version": "3.6.7"
  }
 },
 "nbformat": 4,
 "nbformat_minor": 2
}

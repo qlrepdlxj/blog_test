{
 "cells": [
  {
   "cell_type": "markdown",
   "metadata": {},
   "source": [
    "### 2. 데이터 준비\n",
    "\n"
   ]
  },
  {
   "cell_type": "markdown",
   "metadata": {},
   "source": [
    "#### 2.1 데이터 선정 및 수집\n",
    "\n",
    "> 영화진흥위원회의 오픈 API를 사용하여 과거의 데이터를 수집\n",
    "\n",
    "> 트위터 크롤링을 통해 영화와 관련된 내용 수집\n",
    "\n"
   ]
  },
  {
   "cell_type": "markdown",
   "metadata": {},
   "source": [
    "#### 2.2 데이터의 형태 파악\n",
    "\n",
    "> KOBIS OPENAPI\n",
    "\n",
    "> REST방식 (xml, json 타입 지원)\n",
    "\n",
    "> 요청 인터페이스\n",
    "\n",
    "|요청 변수|값|설명|\n",
    "|:---|:---|:---|\n",
    "|key|문자열(필수)|발급받은키 값을 입력합니다.|\n",
    "|targetDt|문자열(필수)|조회하고자 하는 날짜를 yyyymmdd 형식으로 입력합니다.|\n",
    "|itemPerPage|문자열|결과 ROW 의 개수를 지정합니다.(default : “10”, 최대 : “10“)|\n",
    "|multiMovieYn|문자열|다양성 영화/상업영화를 구분지어 조회할 수 있습니다.“Y” : 다양성 영화 “N” : 상업영화 (default : 전체)|\n",
    "|repNationCd|문자열|한국/외국 영화별로 조회할 수 있습니다.“K: : 한국영화 “F” : 외국영화 (default : 전체)|\n",
    "|wideAreaCd|문자열|상영지역별로 조회할 수 있으며, 지역코드는 공통코드 조회 서비스에서 “0105000000” 로서 조회된 지역코드입니다. (default : 전체)|\n",
    "\n",
    "> 응답 구조\n",
    "\n",
    "|응답 필드|값|설명|\n",
    "|---|:---|:---|\n",
    "|boxofficeType|문자열|박스오피스 종류를 출력합니다.|\n",
    "|showRange|문자열|박스오피스 조회 일자를 출력합니다.|\n",
    "|rnum|문자열|순번을 출력합니다.|\n",
    "|rank|문자열|해당일자의 박스오피스 순위를 출력합니다.|\n",
    "|rankInten|문자열|전일대비 순위의 증감분을 출력합니다.|\n",
    "|rankOldAndNew|문자열|랭킹에 신규진입여부를 출력합니다.“OLD” : 기존 , “NEW” : 신규|\n",
    "|movieCd|문자열|영화의 대표코드를 출력합니다.|\n",
    "|movieNm|문자열|영화명(국문)을 출력합니다.|\n",
    "|openDt|문자열|영화의 개봉일을 출력합니다.|\n",
    "|salesAmt|문자열|해당일의 매출액을 출력합니다.|\n",
    "|salesShare|문자열|해당일자 상영작의 매출총액 대비 해당 영화의 매출비율을 출력합니다.|\n",
    "|salesInten|문자열|전일 대비 매출액 증감분을 출력합니다.|\n",
    "|salesChange|문자열|전일 대비 매출액 증감 비율을 출력합니다.|\n",
    "|salesAcc|문자열|누적매출액을 출력합니다.|\n",
    "|audiCnt|문자열|해당일의 관객수를 출력합니다.|\n",
    "|audiInten|문자열|전일 대비 관객수 증감분을 출력합니다.|\n",
    "|audiChange|문자열|전일 대비 관객수 증감 비율을 출력합니다.|\n",
    "|audiAcc|문자열|누적관객수를 출력합니다.|\n",
    "|scrnCnt|문자열|해당일자에 상영한 스크린수를 출력합니다.|\n",
    "|showCnt|문자열|해당일자에 상영된 횟수를 출력합니다.|"
   ]
  },
  {
   "cell_type": "code",
   "execution_count": null,
   "metadata": {},
   "outputs": [],
   "source": []
  }
 ],
 "metadata": {
  "kernelspec": {
   "display_name": "Python 3",
   "language": "python",
   "name": "python3"
  },
  "language_info": {
   "codemirror_mode": {
    "name": "ipython",
    "version": 3
   },
   "file_extension": ".py",
   "mimetype": "text/x-python",
   "name": "python",
   "nbconvert_exporter": "python",
   "pygments_lexer": "ipython3",
   "version": "3.6.7"
  }
 },
 "nbformat": 4,
 "nbformat_minor": 2
}

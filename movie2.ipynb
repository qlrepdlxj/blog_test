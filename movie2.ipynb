{
 "cells": [
  {
   "cell_type": "markdown",
   "metadata": {},
   "source": [
    "영화 분석"
   ]
  },
  {
   "cell_type": "markdown",
   "metadata": {
    "slideshow": {
     "slide_type": "slide"
    }
   },
   "source": [
    "(1) 영화 데이터 수집"
   ]
  },
  {
   "cell_type": "markdown",
   "metadata": {
    "slideshow": {
     "slide_type": "subslide"
    }
   },
   "source": [
    "1월 일일 박스오피스 TOP10 결과를 api로 요청하여 daily_box_office 에 저장"
   ]
  },
  {
   "cell_type": "code",
   "execution_count": 51,
   "metadata": {
    "slideshow": {
     "slide_type": "slide"
    }
   },
   "outputs": [
    {
     "name": "stderr",
     "output_type": "stream",
     "text": [
      "100%|██████████| 31/31 [00:26<00:00,  1.04s/it]\n"
     ]
    }
   ],
   "source": [
    "import requests\n",
    "import json\n",
    "\n",
    "key='ad816991534afeaef71f07e7336b0d61'\n",
    "#movieCd='20168773'\n",
    "#url='http://www.kobis.or.kr/kobisopenapi/webservice/rest/movie/searchMovieInfo.json?key='+key+'&movieCd='+movieCd\n",
    "targetDt=20180101\n",
    "for i in tqdm(range(1,32)):\n",
    "    url='http://www.kobis.or.kr/kobisopenapi/webservice/rest/boxoffice/searchDailyBoxOfficeList.json?key='+key+'&targetDt='+str(targetDt)\n",
    "    \n",
    "    res = requests.get(url)\n",
    "    text = res.text\n",
    "    #print(text)\n",
    "\n",
    "    #d = json.loads(text)\n",
    "    #print(d)\n",
    "\n",
    "    with open('data/daily_box_office/'+str(targetDt)+'.json', 'w', encoding=\"utf-8\") as make_file:\n",
    "        json.dump(d, make_file, ensure_ascii=False, indent=\"\\t\")\n",
    "    targetDt += 1"
   ]
  },
  {
   "cell_type": "markdown",
   "metadata": {
    "slideshow": {
     "slide_type": "slide"
    }
   },
   "source": [
    "(2) 영화 데이터 불러오기"
   ]
  },
  {
   "cell_type": "code",
   "execution_count": 65,
   "metadata": {
    "slideshow": {
     "slide_type": "slide"
    }
   },
   "outputs": [
    {
     "data": {
      "text/plain": [
       "['염력',\n",
       " '그것만이 내 세상',\n",
       " '인시디어스4: 라스트 키',\n",
       " '코코',\n",
       " '메이즈 러너: 데스 큐어',\n",
       " '신과함께-죄와 벌',\n",
       " '12 솔져스',\n",
       " '1987',\n",
       " '커뮤터',\n",
       " '1급기밀']"
      ]
     },
     "execution_count": 65,
     "metadata": {},
     "output_type": "execute_result"
    }
   ],
   "source": [
    "result=[]\n",
    "result_name=[]\n",
    "targetDt=20180101\n",
    "for i in range(0,10):   \n",
    "    with open('data/daily_box_office/'+str(targetDt)+'.json', 'r', encoding=\"utf-8\") as data_file:\n",
    "        data = json.load(data_file)\n",
    "    result.insert(i,data['boxOfficeResult']['dailyBoxOfficeList'][i]['salesAmt'])\n",
    "    result_name.insert(i,data['boxOfficeResult']['dailyBoxOfficeList'][i]['movieNm'])\n",
    "result_name"
   ]
  },
  {
   "cell_type": "code",
   "execution_count": 64,
   "metadata": {
    "slideshow": {
     "slide_type": "-"
    }
   },
   "outputs": [
    {
     "data": {
      "text/plain": [
       "35346090900"
      ]
     },
     "execution_count": 64,
     "metadata": {},
     "output_type": "execute_result"
    }
   ],
   "source": [
    "for i in range(0,10):\n",
    "    total += int(result[i])\n",
    "total"
   ]
  },
  {
   "cell_type": "markdown",
   "metadata": {
    "slideshow": {
     "slide_type": "slide"
    }
   },
   "source": [
    "(3) 시각화"
   ]
  },
  {
   "cell_type": "code",
   "execution_count": 75,
   "metadata": {
    "slideshow": {
     "slide_type": "slide"
    }
   },
   "outputs": [
    {
     "name": "stdout",
     "output_type": "stream",
     "text": [
      "High five! You successfully sent some data to your account on plotly. View your plot in your browser at https://plot.ly/~qlrepdlxj/0 or inside your plot.ly account where it is named 'basic_pie_chart'\n"
     ]
    },
    {
     "name": "stderr",
     "output_type": "stream",
     "text": [
      "/usr/local/lib/python3.5/dist-packages/IPython/core/display.py:689: UserWarning:\n",
      "\n",
      "Consider using IPython.display.IFrame instead\n",
      "\n"
     ]
    },
    {
     "data": {
      "text/html": [
       "<iframe id=\"igraph\" scrolling=\"no\" style=\"border:none;\" seamless=\"seamless\" src=\"https://plot.ly/~qlrepdlxj/0.embed\" height=\"525px\" width=\"100%\"></iframe>"
      ],
      "text/plain": [
       "<plotly.tools.PlotlyDisplay object>"
      ]
     },
     "execution_count": 75,
     "metadata": {},
     "output_type": "execute_result"
    }
   ],
   "source": [
    "import plotly\n",
    "plotly.tools.set_credentials_file(username='qlrepdlxj', api_key='pPeQYbXPmdEUzV5ssNjt')\n",
    "import plotly.plotly as py\n",
    "import plotly.graph_objs as go\n",
    "\n",
    "labels = ['Oxygen','Hydrogen','Carbon_Dioxide','Nitrogen']\n",
    "values = [4500,2500,1053,500]\n",
    "\n",
    "trace = go.Pie(labels=labels, values=values)\n",
    "\n",
    "py.iplot([trace], filename='basic_pie_chart')"
   ]
  },
  {
   "cell_type": "code",
   "execution_count": 76,
   "metadata": {
    "slideshow": {
     "slide_type": "slide"
    }
   },
   "outputs": [
    {
     "name": "stdout",
     "output_type": "stream",
     "text": [
      "High five! You successfully sent some data to your account on plotly. View your plot in your browser at https://plot.ly/~qlrepdlxj/0 or inside your plot.ly account where it is named 'basic_pie_chart'\n"
     ]
    },
    {
     "data": {
      "text/html": [
       "<iframe id=\"igraph\" scrolling=\"no\" style=\"border:none;\" seamless=\"seamless\" src=\"https://plot.ly/~qlrepdlxj/0.embed\" height=\"525px\" width=\"100%\"></iframe>"
      ],
      "text/plain": [
       "<plotly.tools.PlotlyDisplay object>"
      ]
     },
     "execution_count": 76,
     "metadata": {},
     "output_type": "execute_result"
    }
   ],
   "source": [
    "labels = result_name\n",
    "values = result\n",
    "trace = go.Pie(labels=labels, values=values)\n",
    "\n",
    "py.iplot([trace], filename='basic_pie_chart')"
   ]
  },
  {
   "cell_type": "code",
   "execution_count": 83,
   "metadata": {},
   "outputs": [
    {
     "data": {
      "text/html": [
       "<script type=\"text/javascript\">window.PlotlyConfig = {MathJaxConfig: 'local'};</script><script type=\"text/javascript\">if (window.MathJax) {MathJax.Hub.Config({SVG: {font: \"STIX-Web\"}});}</script><script>requirejs.config({paths: { 'plotly': ['https://cdn.plot.ly/plotly-latest.min']},});if(!window._Plotly) {require(['plotly'],function(plotly) {window._Plotly=plotly;});}</script>"
      ],
      "text/vnd.plotly.v1+html": [
       "<script type=\"text/javascript\">window.PlotlyConfig = {MathJaxConfig: 'local'};</script><script type=\"text/javascript\">if (window.MathJax) {MathJax.Hub.Config({SVG: {font: \"STIX-Web\"}});}</script><script>requirejs.config({paths: { 'plotly': ['https://cdn.plot.ly/plotly-latest.min']},});if(!window._Plotly) {require(['plotly'],function(plotly) {window._Plotly=plotly;});}</script>"
      ]
     },
     "metadata": {},
     "output_type": "display_data"
    },
    {
     "data": {
      "application/vnd.plotly.v1+json": {
       "config": {
        "linkText": "Export to plot.ly",
        "plotlyServerURL": "https://plot.ly",
        "showLink": true
       },
       "data": [
        {
         "labels": [
          "염력",
          "그것만이 내 세상",
          "인시디어스4: 라스트 키",
          "코코",
          "메이즈 러너: 데스 큐어",
          "신과함께-죄와 벌",
          "12 솔져스",
          "1987",
          "커뮤터",
          "1급기밀"
         ],
         "type": "pie",
         "uid": "672ddfc2-cc0a-4b50-bae7-d42b60734917",
         "values": [
          "1617241600",
          "721935500",
          "628833500",
          "411756400",
          "238325100",
          "209579100",
          "159644500",
          "133409100",
          "32034800",
          "26619000"
         ]
        }
       ],
       "layout": {}
      },
      "text/html": [
       "<div id=\"2cf9d9d2-d6f5-4ec5-a996-48a8c1c4f701\" style=\"height: 525px; width: 100%;\" class=\"plotly-graph-div\"></div><script type=\"text/javascript\">require([\"plotly\"], function(Plotly) { window.PLOTLYENV=window.PLOTLYENV || {};window.PLOTLYENV.BASE_URL=\"https://plot.ly\";Plotly.newPlot(\"2cf9d9d2-d6f5-4ec5-a996-48a8c1c4f701\", [{\"labels\": [\"\\uc5fc\\ub825\", \"\\uadf8\\uac83\\ub9cc\\uc774 \\ub0b4 \\uc138\\uc0c1\", \"\\uc778\\uc2dc\\ub514\\uc5b4\\uc2a44: \\ub77c\\uc2a4\\ud2b8 \\ud0a4\", \"\\ucf54\\ucf54\", \"\\uba54\\uc774\\uc988 \\ub7ec\\ub108: \\ub370\\uc2a4 \\ud050\\uc5b4\", \"\\uc2e0\\uacfc\\ud568\\uaed8-\\uc8c4\\uc640 \\ubc8c\", \"12 \\uc194\\uc838\\uc2a4\", \"1987\", \"\\ucee4\\ubba4\\ud130\", \"1\\uae09\\uae30\\ubc00\"], \"type\": \"pie\", \"uid\": \"631bcc20-0626-4dc4-be49-480f9e052461\", \"values\": [\"1617241600\", \"721935500\", \"628833500\", \"411756400\", \"238325100\", \"209579100\", \"159644500\", \"133409100\", \"32034800\", \"26619000\"]}], {}, {\"showLink\": true, \"plotlyServerURL\": \"https://plot.ly\", \"linkText\": \"Export to plot.ly\"})});</script><script type=\"text/javascript\">window.addEventListener(\"resize\", function(){window._Plotly.Plots.resize(document.getElementById(\"2cf9d9d2-d6f5-4ec5-a996-48a8c1c4f701\"));});</script>"
      ],
      "text/vnd.plotly.v1+html": [
       "<div id=\"2cf9d9d2-d6f5-4ec5-a996-48a8c1c4f701\" style=\"height: 525px; width: 100%;\" class=\"plotly-graph-div\"></div><script type=\"text/javascript\">require([\"plotly\"], function(Plotly) { window.PLOTLYENV=window.PLOTLYENV || {};window.PLOTLYENV.BASE_URL=\"https://plot.ly\";Plotly.newPlot(\"2cf9d9d2-d6f5-4ec5-a996-48a8c1c4f701\", [{\"labels\": [\"\\uc5fc\\ub825\", \"\\uadf8\\uac83\\ub9cc\\uc774 \\ub0b4 \\uc138\\uc0c1\", \"\\uc778\\uc2dc\\ub514\\uc5b4\\uc2a44: \\ub77c\\uc2a4\\ud2b8 \\ud0a4\", \"\\ucf54\\ucf54\", \"\\uba54\\uc774\\uc988 \\ub7ec\\ub108: \\ub370\\uc2a4 \\ud050\\uc5b4\", \"\\uc2e0\\uacfc\\ud568\\uaed8-\\uc8c4\\uc640 \\ubc8c\", \"12 \\uc194\\uc838\\uc2a4\", \"1987\", \"\\ucee4\\ubba4\\ud130\", \"1\\uae09\\uae30\\ubc00\"], \"type\": \"pie\", \"uid\": \"631bcc20-0626-4dc4-be49-480f9e052461\", \"values\": [\"1617241600\", \"721935500\", \"628833500\", \"411756400\", \"238325100\", \"209579100\", \"159644500\", \"133409100\", \"32034800\", \"26619000\"]}], {}, {\"showLink\": true, \"plotlyServerURL\": \"https://plot.ly\", \"linkText\": \"Export to plot.ly\"})});</script><script type=\"text/javascript\">window.addEventListener(\"resize\", function(){window._Plotly.Plots.resize(document.getElementById(\"2cf9d9d2-d6f5-4ec5-a996-48a8c1c4f701\"));});</script>"
      ]
     },
     "metadata": {},
     "output_type": "display_data"
    }
   ],
   "source": [
    "import plotly.offline as offline\n",
    "import plotly.graph_objs as go\n",
    "offline.init_notebook_mode(connected=True) \n",
    "trace = go.Pie(labels=labels, values=values) \n",
    "offline.iplot([trace], filename='basic_pie_chart')"
   ]
  },
  {
   "cell_type": "code",
   "execution_count": 81,
   "metadata": {},
   "outputs": [],
   "source": []
  },
  {
   "cell_type": "code",
   "execution_count": null,
   "metadata": {},
   "outputs": [],
   "source": []
  }
 ],
 "metadata": {
  "kernelspec": {
   "display_name": "Python 3",
   "language": "python",
   "name": "python3"
  },
  "language_info": {
   "codemirror_mode": {
    "name": "ipython",
    "version": 3
   },
   "file_extension": ".py",
   "mimetype": "text/x-python",
   "name": "python",
   "nbconvert_exporter": "python",
   "pygments_lexer": "ipython3",
   "version": "3.6.7"
  }
 },
 "nbformat": 4,
 "nbformat_minor": 2
}

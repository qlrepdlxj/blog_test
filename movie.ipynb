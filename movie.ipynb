{
 "cells": [
  {
   "cell_type": "markdown",
   "metadata": {},
   "source": [
    "영화 빅데이터 분석"
   ]
  },
  {
   "cell_type": "code",
   "execution_count": 1,
   "metadata": {},
   "outputs": [
    {
     "data": {
      "text/plain": [
       "3"
      ]
     },
     "execution_count": 1,
     "metadata": {},
     "output_type": "execute_result"
    }
   ],
   "source": [
    "import requests\n",
    "import json\n",
    "from tqdm import tqdm\n",
    "\n",
    "key='ad816991534afeaef71f07e7336b0d61'\n",
    "\n",
    "targetDt=20180101\n",
    "for i in tqdm(range(1,32)):\n",
    "    url1='http://www.kobis.or.kr/kobisopenapi/webservice/rest/boxoffice/searchDailyBoxOfficeList.json?key='\\\n",
    "        +key+'&targetDt='+str(targetDt)\n",
    "    \n",
    "    res1 = requests.get(url1)\n",
    "    text1 = res1.text\n",
    "    d1 = json.loads(text1)\n",
    "    \n",
    "    with open('data/daily_box_office/'+str(targetDt)+'.json', 'w', encoding=\"utf-8\") as make_file:\n",
    "        json.dump(d1, make_file, ensure_ascii=False, indent=\"\\t\")\n",
    "        \n",
    "    url2='http://www.kobis.or.kr/kobisopenapi/webservice/rest/boxoffice/searchDailyBoxOfficeList.json?key='\\\n",
    "        +key+'&targetDt='+str(targetDt)+'&repNationCd=K'\n",
    "    \n",
    "    res2 = requests.get(url2)\n",
    "    text2 = res2.text\n",
    "    d2 = json.loads(text2)\n",
    "    \n",
    "    with open('data/daily_box_office_k/'+str(targetDt)+'_K.json', 'w', encoding=\"utf-8\") as make_file:\n",
    "        json.dump(d2, make_file, ensure_ascii=False, indent=\"\\t\")\n",
    "        \n",
    "    url3='http://www.kobis.or.kr/kobisopenapi/webservice/rest/boxoffice/searchDailyBoxOfficeList.json?key='\\\n",
    "        +key+'&targetDt='+str(targetDt)+'&repNationCd=F'    \n",
    "    \n",
    "    res3 = requests.get(url3)  \n",
    "    text3 = res3.text    \n",
    "    d3 = json.loads(text3)\n",
    "        \n",
    "    with open('data/daily_box_office_f/'+str(targetDt)+'_F.json', 'w', encoding=\"utf-8\") as make_file:\n",
    "        json.dump(d3, make_file, ensure_ascii=False, indent=\"\\t\")\n",
    "    \n",
    "    targetDt += 1"
   ]
  },
  {
   "cell_type": "code",
   "execution_count": 2,
   "metadata": {},
   "outputs": [],
   "source": []
  },
  {
   "cell_type": "code",
   "execution_count": 3,
   "metadata": {},
   "outputs": [],
   "source": []
  },
  {
   "cell_type": "code",
   "execution_count": 4,
   "metadata": {},
   "outputs": [
    {
     "data": {
      "text/plain": [
       "12"
      ]
     },
     "execution_count": 4,
     "metadata": {},
     "output_type": "execute_result"
    }
   ],
   "source": []
  },
  {
   "cell_type": "markdown",
   "metadata": {},
   "source": [
    "test1"
   ]
  },
  {
   "cell_type": "markdown",
   "metadata": {},
   "source": [
    "test2"
   ]
  },
  {
   "cell_type": "markdown",
   "metadata": {},
   "source": [
    "test3"
   ]
  },
  {
   "cell_type": "markdown",
   "metadata": {},
   "source": [
    "test4"
   ]
  },
  {
   "cell_type": "markdown",
   "metadata": {},
   "source": [
    "test5"
   ]
  }
 ],
 "metadata": {
  "kernelspec": {
   "display_name": "Python 3",
   "language": "python",
   "name": "python3"
  },
  "language_info": {
   "codemirror_mode": {
    "name": "ipython",
    "version": 3
   },
   "file_extension": ".py",
   "mimetype": "text/x-python",
   "name": "python",
   "nbconvert_exporter": "python",
   "pygments_lexer": "ipython3",
   "version": "3.5.3"
  }
 },
 "nbformat": 4,
 "nbformat_minor": 2
}
